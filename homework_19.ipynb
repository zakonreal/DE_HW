{
 "cells": [
  {
   "cell_type": "code",
   "execution_count": 1,
   "id": "01a9ccd2",
   "metadata": {},
   "outputs": [
    {
     "name": "stderr",
     "output_type": "stream",
     "text": [
      "WARNING: User-defined SPARK_HOME (/opt/cloudera/parcels/CDH-6.2.0-1.cdh6.2.0.p0.967373/lib/spark) overrides detected (/opt/cloudera/parcels/CDH/lib/spark).\n",
      "WARNING: Running spark-class from user-defined location.\n",
      "Setting default log level to \"WARN\".\n",
      "To adjust logging level use sc.setLogLevel(newLevel). For SparkR, use setLogLevel(newLevel).\n",
      "23/08/02 07:49:19 WARN util.Utils: Service 'SparkUI' could not bind on port 4040. Attempting port 4041.\n",
      "23/08/02 07:49:24 WARN cluster.YarnSchedulerBackend$YarnSchedulerEndpoint: Attempted to request executors before the AM has registered!\n",
      "23/08/02 07:49:24 WARN lineage.LineageWriter: Lineage directory /var/log/spark/lineage doesn't exist or is not writable. Lineage for this application will be disabled.\n"
     ]
    }
   ],
   "source": [
    "from pyspark import SparkContext\n",
    "\n",
    "import os\n",
    "import sys\n",
    "\n",
    "try:\n",
    "    sc.stop()\n",
    "except:\n",
    "    pass\n",
    "os.environ['PYSPARK_PYTHON'] = sys.executable\n",
    "os.environ['PYSPARK_DRIVER_PYTHON'] = sys.executable\n",
    "\n",
    "from pyspark import SparkConf\n",
    "from pyspark import SparkContext\n",
    "\n",
    "#HDFS_MASTER = 'hadoop-master'\n",
    "conf = SparkConf()\n",
    "conf.setMaster('yarn') # 'yarn' / 'local'\n",
    "conf.setAppName('spark-test')\n",
    "sc = SparkContext(conf=conf)\n",
    "\n",
    "from pyspark.sql import SQLContext\n",
    "sqlContext = SQLContext(sc)"
   ]
  },
  {
   "cell_type": "code",
   "execution_count": 2,
   "id": "ea194a28",
   "metadata": {},
   "outputs": [
    {
     "data": {
      "text/plain": [
       "<pyspark.sql.context.SQLContext at 0x7f7918496910>"
      ]
     },
     "execution_count": 2,
     "metadata": {},
     "output_type": "execute_result"
    }
   ],
   "source": [
    "sqlContext"
   ]
  },
  {
   "cell_type": "code",
   "execution_count": 3,
   "id": "409b1254",
   "metadata": {},
   "outputs": [],
   "source": [
    "# Загрузка файла CSV из HDFS в RDD\n",
    "rdd_csv = sc.textFile(\"hdfs:///user/std03/Salary_Data_Based_country_and_race.csv\")"
   ]
  },
  {
   "cell_type": "code",
   "execution_count": 4,
   "id": "5db5cbf1",
   "metadata": {},
   "outputs": [
    {
     "data": {
      "text/plain": [
       "hdfs:///user/std03/Salary_Data_Based_country_and_race.csv MapPartitionsRDD[1] at textFile at NativeMethodAccessorImpl.java:0"
      ]
     },
     "execution_count": 4,
     "metadata": {},
     "output_type": "execute_result"
    }
   ],
   "source": [
    "rdd_csv"
   ]
  },
  {
   "cell_type": "markdown",
   "id": "a5681e56",
   "metadata": {},
   "source": [
    "Задание 1. Подсчитать общее количество записей в CSV-файле."
   ]
  },
  {
   "cell_type": "code",
   "execution_count": 5,
   "id": "28e50c38",
   "metadata": {},
   "outputs": [
    {
     "name": "stderr",
     "output_type": "stream",
     "text": [
      "[Stage 0:=============================>                             (1 + 1) / 2]"
     ]
    },
    {
     "name": "stdout",
     "output_type": "stream",
     "text": [
      "DataFrame Rows count : 6705\n"
     ]
    },
    {
     "name": "stderr",
     "output_type": "stream",
     "text": [
      "                                                                                \r"
     ]
    }
   ],
   "source": [
    "rows = rdd_csv.count()\n",
    "print(f\"DataFrame Rows count : {rows}\")"
   ]
  },
  {
   "cell_type": "code",
   "execution_count": 6,
   "id": "6b4c2e56",
   "metadata": {},
   "outputs": [
    {
     "data": {
      "text/plain": [
       "6705"
      ]
     },
     "execution_count": 6,
     "metadata": {},
     "output_type": "execute_result"
    }
   ],
   "source": [
    "rdd_csv.count()"
   ]
  },
  {
   "cell_type": "markdown",
   "id": "45f9fae4",
   "metadata": {},
   "source": [
    "Задание 2. Найти все строки в CSV-файле, содержащие определенное ключевое слово."
   ]
  },
  {
   "cell_type": "code",
   "execution_count": 7,
   "id": "86ac0383",
   "metadata": {},
   "outputs": [
    {
     "data": {
      "text/plain": [
       "\"0,32.0,Male,Bachelor's,Software Engineer,5.0,90000.0,UK,White\""
      ]
     },
     "execution_count": 7,
     "metadata": {},
     "output_type": "execute_result"
    }
   ],
   "source": [
    "rdd_csv.collect()[:][1]"
   ]
  },
  {
   "cell_type": "code",
   "execution_count": 8,
   "id": "9616cdce",
   "metadata": {},
   "outputs": [],
   "source": [
    "slovo = 'Data Engineer'"
   ]
  },
  {
   "cell_type": "code",
   "execution_count": 9,
   "id": "64dda0d1",
   "metadata": {},
   "outputs": [
    {
     "data": {
      "text/plain": [
       "['270,45.0,Male,PhD,Senior Data Engineer,16.0,150000.0,Australia,Asian',\n",
       " '303,45.0,Male,PhD,Senior Data Engineer,16.0,150000.0,Canada,Black',\n",
       " '344,44.0,Female,PhD,Senior Data Engineer,16.0,160000.0,Canada,Asian',\n",
       " '368,44.0,Female,PhD,Senior Data Engineer,16.0,160000.0,Australia,White']"
      ]
     },
     "execution_count": 9,
     "metadata": {},
     "output_type": "execute_result"
    }
   ],
   "source": [
    "rdd_csv.filter(lambda x: x if slovo in x else False).collect()"
   ]
  },
  {
   "cell_type": "markdown",
   "id": "37718a71",
   "metadata": {},
   "source": [
    "Задание 3. Подсчитать сумму числовых значений в определенном столбце CSV-файла. "
   ]
  },
  {
   "cell_type": "code",
   "execution_count": 10,
   "id": "9f82539c",
   "metadata": {},
   "outputs": [
    {
     "data": {
      "text/plain": [
       "225327.0"
      ]
     },
     "execution_count": 10,
     "metadata": {},
     "output_type": "execute_result"
    }
   ],
   "source": [
    "# столбец 'Age'\n",
    "r = rdd_csv.map(lambda x: x.split(',')[1]).collect()[1:]\n",
    "r = filter(None,r)\n",
    "# while '' in r:\n",
    "#     r.remove('')\n",
    "s = map(float,r)\n",
    "sum(s)"
   ]
  },
  {
   "cell_type": "markdown",
   "id": "675cafcd",
   "metadata": {},
   "source": [
    "Задание 4. Получить случайную выборку определенного количества записей из CSV-файла."
   ]
  },
  {
   "cell_type": "code",
   "execution_count": 11,
   "id": "c3b0088b",
   "metadata": {},
   "outputs": [],
   "source": [
    "rdd = rdd_csv.sample(False, 0.1, 42)\n",
    "# rdd.collect()"
   ]
  },
  {
   "cell_type": "code",
   "execution_count": 12,
   "id": "561d6dfc",
   "metadata": {},
   "outputs": [
    {
     "data": {
      "text/plain": [
       "661"
      ]
     },
     "execution_count": 12,
     "metadata": {},
     "output_type": "execute_result"
    }
   ],
   "source": [
    "rdd.count()"
   ]
  },
  {
   "cell_type": "markdown",
   "id": "994a3fea",
   "metadata": {},
   "source": [
    "Задание 5. Посчитать количество уникальных слов в csv-файле."
   ]
  },
  {
   "cell_type": "code",
   "execution_count": 13,
   "id": "44903ce7",
   "metadata": {},
   "outputs": [
    {
     "data": {
      "text/plain": [
       "[['',\n",
       "  'Age',\n",
       "  'Gender',\n",
       "  'Education Level',\n",
       "  'Job Title',\n",
       "  'Years of Experience',\n",
       "  'Salary',\n",
       "  'Country',\n",
       "  'Race'],\n",
       " ['0',\n",
       "  '32.0',\n",
       "  'Male',\n",
       "  \"Bachelor's\",\n",
       "  'Software Engineer',\n",
       "  '5.0',\n",
       "  '90000.0',\n",
       "  'UK',\n",
       "  'White']]"
      ]
     },
     "execution_count": 13,
     "metadata": {},
     "output_type": "execute_result"
    }
   ],
   "source": [
    "rdd_csv.map(lambda line: line.split(',')).collect()[0:2]"
   ]
  },
  {
   "cell_type": "code",
   "execution_count": 14,
   "id": "29bf7da8",
   "metadata": {},
   "outputs": [],
   "source": [
    "indx = [2, 3, 4, 7, 8]"
   ]
  },
  {
   "cell_type": "code",
   "execution_count": 15,
   "id": "0848de95",
   "metadata": {},
   "outputs": [
    {
     "data": {
      "text/plain": [
       "221"
      ]
     },
     "execution_count": 15,
     "metadata": {},
     "output_type": "execute_result"
    }
   ],
   "source": [
    "total = 0\n",
    "for i in indx:\n",
    "    rdd = rdd_csv.map(lambda line: line.split(',')[i]).collect()[1:]\n",
    "    unique = set(rdd) \n",
    "    j = len(unique)\n",
    "    total = total + j\n",
    "\n",
    "total"
   ]
  },
  {
   "cell_type": "code",
   "execution_count": 16,
   "id": "057cba21",
   "metadata": {},
   "outputs": [
    {
     "data": {
      "text/plain": [
       "5"
      ]
     },
     "execution_count": 16,
     "metadata": {},
     "output_type": "execute_result"
    }
   ],
   "source": [
    "rdd_csv.map(lambda line: line.split(',')[2]).distinct().count()"
   ]
  },
  {
   "cell_type": "markdown",
   "id": "a6dd1cd2",
   "metadata": {},
   "source": [
    "Задание 6. Найти наиболее часто встречающееся значение в определенном столбце CSV-файла."
   ]
  },
  {
   "cell_type": "code",
   "execution_count": 17,
   "id": "b5152f4a",
   "metadata": {},
   "outputs": [
    {
     "data": {
      "text/plain": [
       "[('Male', 3674),\n",
       " ('Female', 3014),\n",
       " (\"Bachelor's Degree\", 2267),\n",
       " ('White', 1968),\n",
       " ('Asian', 1603),\n",
       " (\"Master's Degree\", 1573),\n",
       " ('PhD', 1368),\n",
       " ('USA', 1360),\n",
       " ('China', 1343),\n",
       " ('UK', 1337)]"
      ]
     },
     "execution_count": 17,
     "metadata": {},
     "output_type": "execute_result"
    }
   ],
   "source": [
    "import collections\n",
    "all_words = []\n",
    "for i in indx:\n",
    "    rdd = rdd_csv.map(lambda line: line.split(',')[i]).collect()[1:]\n",
    "    for j in rdd:\n",
    "            all_words.append(j)\n",
    "counter = collections.Counter(all_words)\n",
    "counter.most_common(10)"
   ]
  }
 ],
 "metadata": {
  "kernelspec": {
   "display_name": "Python 3 (ipykernel)",
   "language": "python",
   "name": "python3"
  },
  "language_info": {
   "codemirror_mode": {
    "name": "ipython",
    "version": 3
   },
   "file_extension": ".py",
   "mimetype": "text/x-python",
   "name": "python",
   "nbconvert_exporter": "python",
   "pygments_lexer": "ipython3",
   "version": "3.7.16"
  }
 },
 "nbformat": 4,
 "nbformat_minor": 5
}
