{
 "cells": [
  {
   "cell_type": "code",
   "execution_count": 1,
   "id": "df5d5a0d",
   "metadata": {},
   "outputs": [
    {
     "name": "stderr",
     "output_type": "stream",
     "text": [
      "WARNING: User-defined SPARK_HOME (/opt/cloudera/parcels/CDH-6.2.0-1.cdh6.2.0.p0.967373/lib/spark) overrides detected (/opt/cloudera/parcels/CDH/lib/spark).\n",
      "WARNING: Running spark-class from user-defined location.\n",
      "Setting default log level to \"WARN\".\n",
      "To adjust logging level use sc.setLogLevel(newLevel). For SparkR, use setLogLevel(newLevel).\n",
      "23/08/12 23:10:40 WARN util.Utils: Service 'SparkUI' could not bind on port 4040. Attempting port 4041.\n",
      "23/08/12 23:10:40 WARN util.Utils: Service 'SparkUI' could not bind on port 4041. Attempting port 4042.\n",
      "23/08/12 23:10:40 WARN util.Utils: Service 'SparkUI' could not bind on port 4042. Attempting port 4043.\n",
      "23/08/12 23:10:40 WARN util.Utils: Service 'SparkUI' could not bind on port 4043. Attempting port 4044.\n",
      "23/08/12 23:10:44 WARN lineage.LineageWriter: Lineage directory /var/log/spark/lineage doesn't exist or is not writable. Lineage for this application will be disabled.\n"
     ]
    }
   ],
   "source": [
    "import os\n",
    "import sys\n",
    "from pyspark import SparkContext\n",
    "from pyspark.sql import SQLContext\n",
    "import pyspark.sql.types as sqlt\n",
    "import pyspark.sql.functions as sqlf\n",
    "from pyspark import SparkConf\n",
    "try:\n",
    "    sc.stop()\n",
    "except:\n",
    "    pass\n",
    "os.environ['PYSPARK_PYTHON'] = sys.executable\n",
    "os.environ['PYSPARK_DRIVER_PYTHON'] = sys.executable\n",
    "\n",
    "conf = (SparkConf()\n",
    ".setAppName('test') \n",
    ".setMaster(\"yarn\")\n",
    ".set('spark.yarn.queue', \"production\")\n",
    ".set(\"spark.executor.cores\", \"5\")\n",
    ".set(\"spark.driver.cores\", \"5\")\n",
    ".set('spark.dynamicAllocation.enabled', 'false')\n",
    ".set(\"spark.driver.memory\", \"2g\")\n",
    ".set(\"spark.executor.memory\", \"2g\"))\n",
    "        \n",
    "conf.setMaster('yarn')\n",
    "conf.setAppName('spark-test')\n",
    "sc = SparkContext(conf=conf)\n",
    "sqlContext = SQLContext(sc)\n",
    "spark = sqlContext\n",
    "sql = spark.sql"
   ]
  },
  {
   "cell_type": "markdown",
   "id": "b0981254",
   "metadata": {},
   "source": [
    "## Для заданий 2-7 сравните скорость выполнения с использованием broadcast и cache и без них.\n"
   ]
  },
  {
   "cell_type": "markdown",
   "id": "b90f99f2",
   "metadata": {},
   "source": [
    "Задание 1. Загрузите файлы из hdfs:///user/data_loader/FIFA в Spark DataFrame. Запишите таблицы в parquet hive table в свою БД, убедитесь, что заголовки и типы данных корректны.https://www.kaggle.com/datasets/abhijitdahatonde/fifa-world-cup-all-dataset\n"
   ]
  },
  {
   "cell_type": "code",
   "execution_count": 2,
   "id": "e26f2847",
   "metadata": {},
   "outputs": [],
   "source": [
    "# CREATE DATABASE ivanov; # hive"
   ]
  },
  {
   "cell_type": "code",
   "execution_count": 3,
   "id": "dcc9b352",
   "metadata": {},
   "outputs": [],
   "source": [
    "from pyspark.sql.types import StructType, StructField, IntegerType, StringType, FloatType, DateType\n",
    "employeesSchema1 = StructType([\n",
    "    StructField(\"id\", IntegerType()),\n",
    "    StructField(\"Year\", IntegerType()),\n",
    "    StructField(\"Stage\", StringType()),\n",
    "    StructField(\"Home_Team\", StringType()),\n",
    "    StructField(\"Away_Team\", StringType()),\n",
    "    ])"
   ]
  },
  {
   "cell_type": "code",
   "execution_count": 4,
   "id": "8ff015ac",
   "metadata": {},
   "outputs": [],
   "source": [
    "employeesSchema2 = StructType([\n",
    "    StructField(\"id\", IntegerType()),\n",
    "    StructField(\"Tournament\", StringType()),\n",
    "    StructField(\"Date\", DateType()),\n",
    "    StructField(\"Home_Team\", StringType()),\n",
    "    StructField(\"Away_Team\", StringType()),\n",
    "    StructField(\"Home_Goals\", IntegerType()),\n",
    "    StructField(\"Away_Goals\", IntegerType()),\n",
    "    StructField(\"Home_Stadium_or_Not\", IntegerType()),\n",
    "   ])"
   ]
  },
  {
   "cell_type": "code",
   "execution_count": 5,
   "id": "c50973e6",
   "metadata": {},
   "outputs": [],
   "source": [
    "employeesSchema3 = StructType([\n",
    "    StructField(\"id\", IntegerType()),\n",
    "    StructField(\"Year\", IntegerType()),\n",
    "    StructField(\"Stage\", StringType()),\n",
    "    StructField(\"Home_Team\", StringType()),\n",
    "    StructField(\"Home_Goals\", IntegerType()),\n",
    "    StructField(\"Away_Goals\", IntegerType()),\n",
    "    StructField(\"Away_Team\", StringType()),\n",
    "    StructField(\"Host_Team_or_Not\", IntegerType()),\n",
    "    ])"
   ]
  },
  {
   "cell_type": "code",
   "execution_count": 6,
   "id": "ede50b87",
   "metadata": {},
   "outputs": [],
   "source": [
    "employeesSchema4 = StructType([\n",
    "    StructField(\"Year\", IntegerType()),\n",
    "    StructField(\"Host_Country\", StringType()),\n",
    "    StructField(\"Winner\", StringType()),\n",
    "    StructField(\"Runners_Up\", StringType()),\n",
    "    StructField(\"Third\", StringType()),\n",
    "    StructField(\"Fourth\", StringType()),\n",
    "    StructField(\"Goals_Scored\", IntegerType()),\n",
    "    StructField(\"Matches_Played\", IntegerType()),\n",
    "    StructField(\"Qualified_Teams\", IntegerType())\n",
    "])"
   ]
  },
  {
   "cell_type": "code",
   "execution_count": 7,
   "id": "aac40d8f",
   "metadata": {},
   "outputs": [
    {
     "name": "stderr",
     "output_type": "stream",
     "text": [
      "23/08/12 23:10:49 WARN lineage.LineageWriter: Lineage directory /var/log/spark/lineage doesn't exist or is not writable. Lineage for this application will be disabled.\n"
     ]
    }
   ],
   "source": [
    "df1 = spark.read.csv('hdfs:///user/std03/2022_world_cup_matches1.csv', header = True, schema = employeesSchema1)"
   ]
  },
  {
   "cell_type": "code",
   "execution_count": 8,
   "id": "c738d2d2",
   "metadata": {},
   "outputs": [],
   "source": [
    "df2 = spark.read.csv('hdfs:///user/std03/international_matches1.csv', header = True, schema = employeesSchema2)"
   ]
  },
  {
   "cell_type": "code",
   "execution_count": 9,
   "id": "9dcac648",
   "metadata": {},
   "outputs": [],
   "source": [
    "df3 = spark.read.csv('hdfs:///user/std03/world_cup_matches1.csv', header = True, schema = employeesSchema3)"
   ]
  },
  {
   "cell_type": "code",
   "execution_count": 10,
   "id": "4d46381b",
   "metadata": {},
   "outputs": [],
   "source": [
    "df4 = spark.read.csv('hdfs:///user/std03/world_cups1.csv', header = True, schema = employeesSchema4)"
   ]
  },
  {
   "cell_type": "code",
   "execution_count": 11,
   "id": "1a475c5c",
   "metadata": {},
   "outputs": [
    {
     "name": "stderr",
     "output_type": "stream",
     "text": [
      "                                                                                \r"
     ]
    }
   ],
   "source": [
    "df_1 = df1.write.format('parquet').mode('overwrite').saveAsTable('ivanov.2022_world_cup_matches1_p')"
   ]
  },
  {
   "cell_type": "code",
   "execution_count": 12,
   "id": "07d44871",
   "metadata": {},
   "outputs": [
    {
     "name": "stderr",
     "output_type": "stream",
     "text": [
      "23/08/12 23:10:57 WARN hive.HiveExternalCatalog: Could not persist `ivanov`.`international_matches1_p` in a Hive compatible way. Persisting it into Hive metastore in Spark SQL specific format.\n",
      "org.apache.hadoop.hive.ql.metadata.HiveException: java.lang.UnsupportedOperationException: Parquet does not support date. See HIVE-6384\n",
      "\tat org.apache.hadoop.hive.ql.metadata.Hive.createTable(Hive.java:868)\n",
      "\tat org.apache.hadoop.hive.ql.metadata.Hive.createTable(Hive.java:873)\n",
      "\tat org.apache.spark.sql.hive.client.HiveClientImpl$$anonfun$createTable$1.apply$mcV$sp(HiveClientImpl.scala:489)\n",
      "\tat org.apache.spark.sql.hive.client.HiveClientImpl$$anonfun$createTable$1.apply(HiveClientImpl.scala:487)\n",
      "\tat org.apache.spark.sql.hive.client.HiveClientImpl$$anonfun$createTable$1.apply(HiveClientImpl.scala:487)\n",
      "\tat org.apache.spark.sql.hive.client.HiveClientImpl$$anonfun$withHiveState$1.apply(HiveClientImpl.scala:283)\n",
      "\tat org.apache.spark.sql.hive.client.HiveClientImpl.liftedTree1$1(HiveClientImpl.scala:221)\n",
      "\tat org.apache.spark.sql.hive.client.HiveClientImpl.retryLocked(HiveClientImpl.scala:220)\n",
      "\tat org.apache.spark.sql.hive.client.HiveClientImpl.withHiveState(HiveClientImpl.scala:266)\n",
      "\tat org.apache.spark.sql.hive.client.HiveClientImpl.createTable(HiveClientImpl.scala:487)\n",
      "\tat org.apache.spark.sql.hive.HiveExternalCatalog.saveTableIntoHive(HiveExternalCatalog.scala:546)\n",
      "\tat org.apache.spark.sql.hive.HiveExternalCatalog.org$apache$spark$sql$hive$HiveExternalCatalog$$createDataSourceTable(HiveExternalCatalog.scala:430)\n",
      "\tat org.apache.spark.sql.hive.HiveExternalCatalog$$anonfun$createTable$1.apply$mcV$sp(HiveExternalCatalog.scala:294)\n",
      "\tat org.apache.spark.sql.hive.HiveExternalCatalog$$anonfun$createTable$1.apply(HiveExternalCatalog.scala:238)\n",
      "\tat org.apache.spark.sql.hive.HiveExternalCatalog$$anonfun$createTable$1.apply(HiveExternalCatalog.scala:238)\n",
      "\tat org.apache.spark.sql.hive.HiveExternalCatalog.withClient(HiveExternalCatalog.scala:99)\n",
      "\tat org.apache.spark.sql.hive.HiveExternalCatalog.createTable(HiveExternalCatalog.scala:238)\n",
      "\tat org.apache.spark.sql.catalyst.catalog.ExternalCatalogWithListener.createTable(ExternalCatalogWithListener.scala:102)\n",
      "\tat org.apache.spark.sql.catalyst.catalog.SessionCatalog.createTable(SessionCatalog.scala:319)\n",
      "\tat org.apache.spark.sql.execution.command.CreateDataSourceTableAsSelectCommand.run(createDataSourceTables.scala:185)\n",
      "\tat org.apache.spark.sql.execution.command.DataWritingCommandExec.sideEffectResult$lzycompute(commands.scala:104)\n",
      "\tat org.apache.spark.sql.execution.command.DataWritingCommandExec.sideEffectResult(commands.scala:102)\n",
      "\tat org.apache.spark.sql.execution.command.DataWritingCommandExec.doExecute(commands.scala:122)\n",
      "\tat org.apache.spark.sql.execution.SparkPlan$$anonfun$execute$1.apply(SparkPlan.scala:131)\n",
      "\tat org.apache.spark.sql.execution.SparkPlan$$anonfun$execute$1.apply(SparkPlan.scala:127)\n",
      "\tat org.apache.spark.sql.execution.SparkPlan$$anonfun$executeQuery$1.apply(SparkPlan.scala:155)\n",
      "\tat org.apache.spark.rdd.RDDOperationScope$.withScope(RDDOperationScope.scala:151)\n",
      "\tat org.apache.spark.sql.execution.SparkPlan.executeQuery(SparkPlan.scala:152)\n",
      "\tat org.apache.spark.sql.execution.SparkPlan.execute(SparkPlan.scala:127)\n",
      "\tat org.apache.spark.sql.execution.QueryExecution.toRdd$lzycompute(QueryExecution.scala:80)\n",
      "\tat org.apache.spark.sql.execution.QueryExecution.toRdd(QueryExecution.scala:80)\n",
      "\tat org.apache.spark.sql.DataFrameWriter$$anonfun$runCommand$1.apply(DataFrameWriter.scala:668)\n",
      "\tat org.apache.spark.sql.DataFrameWriter$$anonfun$runCommand$1.apply(DataFrameWriter.scala:668)\n",
      "\tat org.apache.spark.sql.execution.SQLExecution$$anonfun$withNewExecutionId$1.apply(SQLExecution.scala:78)\n",
      "\tat org.apache.spark.sql.execution.SQLExecution$.withSQLConfPropagated(SQLExecution.scala:125)\n",
      "\tat org.apache.spark.sql.execution.SQLExecution$.withNewExecutionId(SQLExecution.scala:73)\n",
      "\tat org.apache.spark.sql.DataFrameWriter.runCommand(DataFrameWriter.scala:668)\n",
      "\tat org.apache.spark.sql.DataFrameWriter.createTable(DataFrameWriter.scala:465)\n",
      "\tat org.apache.spark.sql.DataFrameWriter.saveAsTable(DataFrameWriter.scala:440)\n",
      "\tat org.apache.spark.sql.DataFrameWriter.saveAsTable(DataFrameWriter.scala:400)\n",
      "\tat sun.reflect.NativeMethodAccessorImpl.invoke0(Native Method)\n",
      "\tat sun.reflect.NativeMethodAccessorImpl.invoke(NativeMethodAccessorImpl.java:62)\n",
      "\tat sun.reflect.DelegatingMethodAccessorImpl.invoke(DelegatingMethodAccessorImpl.java:43)\n",
      "\tat java.lang.reflect.Method.invoke(Method.java:498)\n",
      "\tat py4j.reflection.MethodInvoker.invoke(MethodInvoker.java:244)\n",
      "\tat py4j.reflection.ReflectionEngine.invoke(ReflectionEngine.java:357)\n",
      "\tat py4j.Gateway.invoke(Gateway.java:282)\n",
      "\tat py4j.commands.AbstractCommand.invokeMethod(AbstractCommand.java:132)\n",
      "\tat py4j.commands.CallCommand.execute(CallCommand.java:79)\n",
      "\tat py4j.GatewayConnection.run(GatewayConnection.java:238)\n",
      "\tat java.lang.Thread.run(Thread.java:750)\n",
      "Caused by: java.lang.UnsupportedOperationException: Parquet does not support date. See HIVE-6384\n",
      "\tat org.apache.hadoop.hive.ql.io.parquet.serde.ArrayWritableObjectInspector.getObjectInspector(ArrayWritableObjectInspector.java:108)\n",
      "\tat org.apache.hadoop.hive.ql.io.parquet.serde.ArrayWritableObjectInspector.<init>(ArrayWritableObjectInspector.java:64)\n",
      "\tat org.apache.hadoop.hive.ql.io.parquet.serde.ParquetHiveSerDe.initialize(ParquetHiveSerDe.java:113)\n",
      "\tat org.apache.hadoop.hive.serde2.AbstractSerDe.initialize(AbstractSerDe.java:58)\n",
      "\tat org.apache.hadoop.hive.serde2.SerDeUtils.initializeSerDe(SerDeUtils.java:531)\n",
      "\tat org.apache.hadoop.hive.metastore.MetaStoreUtils.getDeserializer(MetaStoreUtils.java:446)\n",
      "\tat org.apache.hadoop.hive.metastore.MetaStoreUtils.getDeserializer(MetaStoreUtils.java:433)\n",
      "\tat org.apache.hadoop.hive.ql.metadata.Table.getDeserializerFromMetaStore(Table.java:280)\n",
      "\tat org.apache.hadoop.hive.ql.metadata.Table.checkValidity(Table.java:201)\n",
      "\tat org.apache.hadoop.hive.ql.metadata.Hive.createTable(Hive.java:841)\n",
      "\t... 50 more\n"
     ]
    }
   ],
   "source": [
    "df_2 = df2.write.format('parquet').mode('overwrite').saveAsTable('ivanov.international_matches1_p')"
   ]
  },
  {
   "cell_type": "code",
   "execution_count": 13,
   "id": "f681a728",
   "metadata": {},
   "outputs": [],
   "source": [
    "df_3 = df3.write.format('parquet').mode('overwrite').saveAsTable('ivanov.world_cup_matches1_p')"
   ]
  },
  {
   "cell_type": "code",
   "execution_count": 14,
   "id": "f751d875",
   "metadata": {},
   "outputs": [],
   "source": [
    "df_4 = df4.write.format('parquet').mode('overwrite').saveAsTable('ivanov.world_cups1_p')"
   ]
  },
  {
   "cell_type": "code",
   "execution_count": 15,
   "id": "04aa6ce6",
   "metadata": {},
   "outputs": [
    {
     "data": {
      "text/plain": [
       "StructType(List(StructField(id,IntegerType,true),StructField(Tournament,StringType,true),StructField(Date,DateType,true),StructField(Home_Team,StringType,true),StructField(Away_Team,StringType,true),StructField(Home_Goals,IntegerType,true),StructField(Away_Goals,IntegerType,true),StructField(Home_Stadium_or_Not,IntegerType,true)))"
      ]
     },
     "execution_count": 15,
     "metadata": {},
     "output_type": "execute_result"
    }
   ],
   "source": [
    "df2.schema"
   ]
  },
  {
   "cell_type": "code",
   "execution_count": 16,
   "id": "fa9b97a5",
   "metadata": {},
   "outputs": [
    {
     "name": "stdout",
     "output_type": "stream",
     "text": [
      "+---+----+-----------+-------------+-------------+\n",
      "| id|Year|      Stage|    Home_Team|    Away_Team|\n",
      "+---+----+-----------+-------------+-------------+\n",
      "|  1|2022|Group stage|        Qatar|      Ecuador|\n",
      "|  2|2022|Group stage|      Senegal|  Netherlands|\n",
      "|  3|2022|Group stage|      England|         Iran|\n",
      "|  4|2022|Group stage|United States|        Wales|\n",
      "|  5|2022|Group stage|       France|    Australia|\n",
      "|  6|2022|Group stage|      Denmark|      Tunisia|\n",
      "|  7|2022|Group stage|       Mexico|       Poland|\n",
      "|  8|2022|Group stage|    Argentina| Saudi Arabia|\n",
      "|  9|2022|Group stage|      Belgium|       Canada|\n",
      "| 10|2022|Group stage|        Spain|   Costa Rica|\n",
      "| 11|2022|Group stage|      Germany|        Japan|\n",
      "| 12|2022|Group stage|      Morocco|      Croatia|\n",
      "| 13|2022|Group stage|  Switzerland|     Cameroon|\n",
      "| 14|2022|Group stage|      Uruguay|  South Korea|\n",
      "| 15|2022|Group stage|     Portugal|        Ghana|\n",
      "| 16|2022|Group stage|       Brazil|       Serbia|\n",
      "| 17|2022|Group stage|         Iran|        Wales|\n",
      "| 18|2022|Group stage|        Qatar|      Senegal|\n",
      "| 19|2022|Group stage|  Netherlands|      Ecuador|\n",
      "| 20|2022|Group stage|      England|United States|\n",
      "+---+----+-----------+-------------+-------------+\n",
      "only showing top 20 rows\n",
      "\n"
     ]
    }
   ],
   "source": [
    "df1 = spark.table('ivanov.2022_world_cup_matches1_p')\n",
    "df1.show()"
   ]
  },
  {
   "cell_type": "code",
   "execution_count": 17,
   "id": "46ef60a7",
   "metadata": {},
   "outputs": [
    {
     "name": "stdout",
     "output_type": "stream",
     "text": [
      "+---+----------+----------+----------------+---------+----------+----------+-------------------+\n",
      "| id|Tournament|      Date|       Home_Team|Away_Team|Home_Goals|Away_Goals|Home_Stadium_or_Not|\n",
      "+---+----------+----------+----------------+---------+----------+----------+-------------------+\n",
      "|  1|  Friendly|1872-11-30|        Scotland|  England|         0|         0|                  1|\n",
      "|  2|  Friendly|1873-03-08|         England| Scotland|         4|         2|                  1|\n",
      "|  3|  Friendly|1874-03-07|        Scotland|  England|         2|         1|                  1|\n",
      "|  4|  Friendly|1875-03-06|         England| Scotland|         2|         2|                  1|\n",
      "|  5|  Friendly|1876-03-04|        Scotland|  England|         3|         0|                  1|\n",
      "|  6|  Friendly|1876-03-25|        Scotland|    Wales|         4|         0|                  1|\n",
      "|  7|  Friendly|1877-03-03|         England| Scotland|         1|         3|                  1|\n",
      "|  8|  Friendly|1877-03-05|           Wales| Scotland|         0|         2|                  1|\n",
      "|  9|  Friendly|1878-03-02|        Scotland|  England|         7|         2|                  1|\n",
      "| 10|  Friendly|1878-03-23|        Scotland|    Wales|         9|         0|                  1|\n",
      "| 11|  Friendly|1879-01-18|         England|    Wales|         2|         1|                  1|\n",
      "| 12|  Friendly|1879-04-05|         England| Scotland|         5|         4|                  1|\n",
      "| 13|  Friendly|1879-04-07|           Wales| Scotland|         0|         3|                  1|\n",
      "| 14|  Friendly|1880-03-13|        Scotland|  England|         5|         4|                  1|\n",
      "| 15|  Friendly|1880-03-15|           Wales|  England|         2|         3|                  1|\n",
      "| 16|  Friendly|1880-03-27|        Scotland|    Wales|         5|         1|                  1|\n",
      "| 17|  Friendly|1881-02-26|         England|    Wales|         0|         1|                  1|\n",
      "| 18|  Friendly|1881-03-12|         England| Scotland|         1|         6|                  1|\n",
      "| 19|  Friendly|1881-03-14|           Wales| Scotland|         1|         5|                  1|\n",
      "| 20|  Friendly|1882-02-18|Northern Ireland|  England|         0|        13|                  1|\n",
      "+---+----------+----------+----------------+---------+----------+----------+-------------------+\n",
      "only showing top 20 rows\n",
      "\n"
     ]
    }
   ],
   "source": [
    "df2 = spark.table('ivanov.international_matches1_p')\n",
    "df2.show()"
   ]
  },
  {
   "cell_type": "code",
   "execution_count": 18,
   "id": "0a5a77ef",
   "metadata": {},
   "outputs": [
    {
     "name": "stderr",
     "output_type": "stream",
     "text": [
      "                                                                                \r"
     ]
    },
    {
     "name": "stdout",
     "output_type": "stream",
     "text": [
      "+------------------+\n",
      "|Stage             |\n",
      "+------------------+\n",
      "|Final             |\n",
      "|First group stage |\n",
      "|Group stage       |\n",
      "|Third place       |\n",
      "|First round       |\n",
      "|Round of 16       |\n",
      "|Semi-finals       |\n",
      "|Final round       |\n",
      "|Second group stage|\n",
      "|Quarter-finals    |\n",
      "+------------------+\n",
      "\n"
     ]
    }
   ],
   "source": [
    "spark.sql(''' \n",
    "            select DISTINCT Stage\n",
    "            from ivanov.world_cup_matches1_p\n",
    "                        \n",
    "            ''').show(truncate=False)"
   ]
  },
  {
   "cell_type": "code",
   "execution_count": 19,
   "id": "b7d90008",
   "metadata": {},
   "outputs": [
    {
     "name": "stdout",
     "output_type": "stream",
     "text": [
      "+---+----+-----------+-------------+----------+----------+-------------+----------------+\n",
      "| id|Year|      Stage|    Home_Team|Home_Goals|Away_Goals|    Away_Team|Host_Team_or_Not|\n",
      "+---+----+-----------+-------------+----------+----------+-------------+----------------+\n",
      "|  1|1930|Group stage|       France|         4|         1|       Mexico|               0|\n",
      "|  2|1930|Group stage|United States|         3|         0|      Belgium|               0|\n",
      "|  3|1930|Group stage|   Yugoslavia|         2|         1|       Brazil|               0|\n",
      "|  4|1930|Group stage|      Romania|         3|         1|         Peru|               0|\n",
      "|  5|1930|Group stage|    Argentina|         1|         0|       France|               0|\n",
      "|  6|1930|Group stage|        Chile|         3|         0|       Mexico|               0|\n",
      "|  7|1930|Group stage|   Yugoslavia|         4|         0|      Bolivia|               0|\n",
      "|  8|1930|Group stage|United States|         3|         0|     Paraguay|               0|\n",
      "|  9|1930|Group stage|      Uruguay|         1|         0|         Peru|               1|\n",
      "| 10|1930|Group stage|        Chile|         1|         0|       France|               0|\n",
      "| 11|1930|Group stage|    Argentina|         6|         3|       Mexico|               0|\n",
      "| 12|1930|Group stage|       Brazil|         4|         0|      Bolivia|               0|\n",
      "| 13|1930|Group stage|     Paraguay|         1|         0|      Belgium|               0|\n",
      "| 14|1930|Group stage|      Uruguay|         4|         0|      Romania|               1|\n",
      "| 15|1930|Group stage|    Argentina|         3|         1|        Chile|               0|\n",
      "| 16|1930|Semi-finals|    Argentina|         6|         1|United States|               0|\n",
      "| 17|1930|Semi-finals|      Uruguay|         6|         1|   Yugoslavia|               1|\n",
      "| 18|1930|      Final|      Uruguay|         4|         2|    Argentina|               1|\n",
      "| 19|1934|Round of 16|      Austria|         3|         2|       France|               0|\n",
      "| 20|1934|Round of 16|      Hungary|         4|         2|        Egypt|               0|\n",
      "+---+----+-----------+-------------+----------+----------+-------------+----------------+\n",
      "only showing top 20 rows\n",
      "\n"
     ]
    }
   ],
   "source": [
    "df3 = spark.table('ivanov.world_cup_matches1_p')\n",
    "df3.show()"
   ]
  },
  {
   "cell_type": "code",
   "execution_count": 20,
   "id": "1bba9374",
   "metadata": {},
   "outputs": [
    {
     "name": "stdout",
     "output_type": "stream",
     "text": [
      "+----+------------+----------+--------------+-----------+--------------+------------+--------------+---------------+\n",
      "|Year|Host_Country|    Winner|    Runners_Up|      Third|        Fourth|Goals_Scored|Matches_Played|Qualified_Teams|\n",
      "+----+------------+----------+--------------+-----------+--------------+------------+--------------+---------------+\n",
      "|1930|     Uruguay|   Uruguay|     Argentina|        USA|    Yugoslavia|          70|            18|             13|\n",
      "|1934|       Italy|     Italy|Czechoslovakia|    Germany|       Austria|          70|            17|             16|\n",
      "|1938|      France|     Italy|       Hungary|     Brazil|        Sweden|          84|            18|             15|\n",
      "|1950|      Brazil|   Uruguay|        Brazil|     Sweden|         Spain|          88|            22|             13|\n",
      "|1954| Switzerland|Germany FR|       Hungary|    Austria|       Uruguay|         140|            26|             16|\n",
      "|1958|      Sweden|    Brazil|        Sweden|     France|    Germany FR|         126|            35|             16|\n",
      "|1962|       Chile|    Brazil|Czechoslovakia|      Chile|    Yugoslavia|          89|            32|             16|\n",
      "|1966|     England|   England|    Germany FR|   Portugal|  Soviet Union|          89|            32|             16|\n",
      "|1970|      Mexico|    Brazil|         Italy| Germany FR|       Uruguay|          95|            32|             16|\n",
      "|1974|     Germany|Germany FR|   Netherlands|     Poland|        Brazil|          97|            38|             16|\n",
      "|1978|   Argentina| Argentina|   Netherlands|     Brazil|         Italy|         102|            38|             16|\n",
      "|1982|       Spain|     Italy|    Germany FR|     Poland|        France|         146|            52|             24|\n",
      "|1986|      Mexico| Argentina|    Germany FR|     France|       Belgium|         132|            52|             24|\n",
      "|1990|       Italy|Germany FR|     Argentina|      Italy|       England|         115|            52|             24|\n",
      "|1994|         USA|    Brazil|         Italy|     Sweden|      Bulgaria|         141|            52|             24|\n",
      "|1998|      France|    France|        Brazil|    Croatia|   Netherlands|         171|            64|             32|\n",
      "|2002| Korea/Japan|    Brazil|       Germany|     Turkey|Korea Republic|         161|            64|             32|\n",
      "|2006|     Germany|     Italy|        France|    Germany|      Portugal|         147|            64|             32|\n",
      "|2010|South Africa|     Spain|   Netherlands|    Germany|       Uruguay|         145|            64|             32|\n",
      "|2014|      Brazil|   Germany|     Argentina|Netherlands|        Brazil|         171|            64|             32|\n",
      "+----+------------+----------+--------------+-----------+--------------+------------+--------------+---------------+\n",
      "only showing top 20 rows\n",
      "\n",
      "CPU times: user 1.53 ms, sys: 1.71 ms, total: 3.24 ms\n",
      "Wall time: 213 ms\n"
     ]
    }
   ],
   "source": [
    "%%time\n",
    "df4 = spark.table('ivanov.world_cups1_p')\n",
    "df4.show()"
   ]
  },
  {
   "cell_type": "markdown",
   "id": "898bce6d",
   "metadata": {},
   "source": [
    "Задание 2. Проведите дескриптивный анализ данных: определите первичные и внешние ключи таблиц, посчитайте количества записей, распределение категориальных признаков, статистики по числовым признакам, заполненность данных, размер таблиц.\n"
   ]
  },
  {
   "cell_type": "code",
   "execution_count": 21,
   "id": "80337f25",
   "metadata": {},
   "outputs": [],
   "source": [
    "# pip install pandas"
   ]
  },
  {
   "cell_type": "code",
   "execution_count": 22,
   "id": "0b7913b8",
   "metadata": {},
   "outputs": [
    {
     "name": "stderr",
     "output_type": "stream",
     "text": [
      "                                                                                \r"
     ]
    }
   ],
   "source": [
    "t1 = df1.toPandas()"
   ]
  },
  {
   "cell_type": "code",
   "execution_count": 23,
   "id": "e26958b6",
   "metadata": {},
   "outputs": [
    {
     "name": "stdout",
     "output_type": "stream",
     "text": [
      "<class 'pandas.core.frame.DataFrame'>\n",
      "RangeIndex: 64 entries, 0 to 63\n",
      "Data columns (total 5 columns):\n",
      " #   Column     Non-Null Count  Dtype \n",
      "---  ------     --------------  ----- \n",
      " 0   id         64 non-null     int32 \n",
      " 1   Year       64 non-null     int32 \n",
      " 2   Stage      64 non-null     object\n",
      " 3   Home_Team  64 non-null     object\n",
      " 4   Away_Team  64 non-null     object\n",
      "dtypes: int32(2), object(3)\n",
      "memory usage: 2.1+ KB\n"
     ]
    }
   ],
   "source": [
    "t1.info()"
   ]
  },
  {
   "cell_type": "code",
   "execution_count": 24,
   "id": "d63127f4",
   "metadata": {},
   "outputs": [
    {
     "data": {
      "text/html": [
       "<div>\n",
       "<style scoped>\n",
       "    .dataframe tbody tr th:only-of-type {\n",
       "        vertical-align: middle;\n",
       "    }\n",
       "\n",
       "    .dataframe tbody tr th {\n",
       "        vertical-align: top;\n",
       "    }\n",
       "\n",
       "    .dataframe thead th {\n",
       "        text-align: right;\n",
       "    }\n",
       "</style>\n",
       "<table border=\"1\" class=\"dataframe\">\n",
       "  <thead>\n",
       "    <tr style=\"text-align: right;\">\n",
       "      <th></th>\n",
       "      <th>id</th>\n",
       "      <th>Year</th>\n",
       "      <th>Stage</th>\n",
       "      <th>Home_Team</th>\n",
       "      <th>Away_Team</th>\n",
       "    </tr>\n",
       "  </thead>\n",
       "  <tbody>\n",
       "    <tr>\n",
       "      <th>count</th>\n",
       "      <td>64.000000</td>\n",
       "      <td>64.0</td>\n",
       "      <td>64</td>\n",
       "      <td>64</td>\n",
       "      <td>64</td>\n",
       "    </tr>\n",
       "    <tr>\n",
       "      <th>unique</th>\n",
       "      <td>NaN</td>\n",
       "      <td>NaN</td>\n",
       "      <td>6</td>\n",
       "      <td>45</td>\n",
       "      <td>45</td>\n",
       "    </tr>\n",
       "    <tr>\n",
       "      <th>top</th>\n",
       "      <td>NaN</td>\n",
       "      <td>NaN</td>\n",
       "      <td>Group stage</td>\n",
       "      <td>Qatar</td>\n",
       "      <td>Cameroon</td>\n",
       "    </tr>\n",
       "    <tr>\n",
       "      <th>freq</th>\n",
       "      <td>NaN</td>\n",
       "      <td>NaN</td>\n",
       "      <td>48</td>\n",
       "      <td>3</td>\n",
       "      <td>3</td>\n",
       "    </tr>\n",
       "    <tr>\n",
       "      <th>mean</th>\n",
       "      <td>32.500000</td>\n",
       "      <td>2022.0</td>\n",
       "      <td>NaN</td>\n",
       "      <td>NaN</td>\n",
       "      <td>NaN</td>\n",
       "    </tr>\n",
       "    <tr>\n",
       "      <th>std</th>\n",
       "      <td>18.618987</td>\n",
       "      <td>0.0</td>\n",
       "      <td>NaN</td>\n",
       "      <td>NaN</td>\n",
       "      <td>NaN</td>\n",
       "    </tr>\n",
       "    <tr>\n",
       "      <th>min</th>\n",
       "      <td>1.000000</td>\n",
       "      <td>2022.0</td>\n",
       "      <td>NaN</td>\n",
       "      <td>NaN</td>\n",
       "      <td>NaN</td>\n",
       "    </tr>\n",
       "    <tr>\n",
       "      <th>25%</th>\n",
       "      <td>16.750000</td>\n",
       "      <td>2022.0</td>\n",
       "      <td>NaN</td>\n",
       "      <td>NaN</td>\n",
       "      <td>NaN</td>\n",
       "    </tr>\n",
       "    <tr>\n",
       "      <th>50%</th>\n",
       "      <td>32.500000</td>\n",
       "      <td>2022.0</td>\n",
       "      <td>NaN</td>\n",
       "      <td>NaN</td>\n",
       "      <td>NaN</td>\n",
       "    </tr>\n",
       "    <tr>\n",
       "      <th>75%</th>\n",
       "      <td>48.250000</td>\n",
       "      <td>2022.0</td>\n",
       "      <td>NaN</td>\n",
       "      <td>NaN</td>\n",
       "      <td>NaN</td>\n",
       "    </tr>\n",
       "    <tr>\n",
       "      <th>max</th>\n",
       "      <td>64.000000</td>\n",
       "      <td>2022.0</td>\n",
       "      <td>NaN</td>\n",
       "      <td>NaN</td>\n",
       "      <td>NaN</td>\n",
       "    </tr>\n",
       "  </tbody>\n",
       "</table>\n",
       "</div>"
      ],
      "text/plain": [
       "               id    Year        Stage Home_Team Away_Team\n",
       "count   64.000000    64.0           64        64        64\n",
       "unique        NaN     NaN            6        45        45\n",
       "top           NaN     NaN  Group stage     Qatar  Cameroon\n",
       "freq          NaN     NaN           48         3         3\n",
       "mean    32.500000  2022.0          NaN       NaN       NaN\n",
       "std     18.618987     0.0          NaN       NaN       NaN\n",
       "min      1.000000  2022.0          NaN       NaN       NaN\n",
       "25%     16.750000  2022.0          NaN       NaN       NaN\n",
       "50%     32.500000  2022.0          NaN       NaN       NaN\n",
       "75%     48.250000  2022.0          NaN       NaN       NaN\n",
       "max     64.000000  2022.0          NaN       NaN       NaN"
      ]
     },
     "execution_count": 24,
     "metadata": {},
     "output_type": "execute_result"
    }
   ],
   "source": [
    "t1.describe(include = 'all')"
   ]
  },
  {
   "cell_type": "code",
   "execution_count": 25,
   "id": "e86966ae",
   "metadata": {},
   "outputs": [
    {
     "data": {
      "text/plain": [
       "(64, 5)"
      ]
     },
     "execution_count": 25,
     "metadata": {},
     "output_type": "execute_result"
    }
   ],
   "source": [
    "t1.shape"
   ]
  },
  {
   "cell_type": "code",
   "execution_count": 26,
   "id": "ec030fb6",
   "metadata": {},
   "outputs": [],
   "source": [
    "t2 = df2.toPandas()"
   ]
  },
  {
   "cell_type": "code",
   "execution_count": 27,
   "id": "2d6b911d",
   "metadata": {},
   "outputs": [
    {
     "name": "stdout",
     "output_type": "stream",
     "text": [
      "<class 'pandas.core.frame.DataFrame'>\n",
      "RangeIndex: 17769 entries, 0 to 17768\n",
      "Data columns (total 8 columns):\n",
      " #   Column               Non-Null Count  Dtype \n",
      "---  ------               --------------  ----- \n",
      " 0   id                   17769 non-null  int32 \n",
      " 1   Tournament           17769 non-null  object\n",
      " 2   Date                 17769 non-null  object\n",
      " 3   Home_Team            17769 non-null  object\n",
      " 4   Away_Team            17769 non-null  object\n",
      " 5   Home_Goals           17769 non-null  int32 \n",
      " 6   Away_Goals           17769 non-null  int32 \n",
      " 7   Home_Stadium_or_Not  17769 non-null  int32 \n",
      "dtypes: int32(4), object(4)\n",
      "memory usage: 833.0+ KB\n"
     ]
    }
   ],
   "source": [
    "t2.info()"
   ]
  },
  {
   "cell_type": "code",
   "execution_count": 28,
   "id": "c26b5c97",
   "metadata": {},
   "outputs": [
    {
     "data": {
      "text/html": [
       "<div>\n",
       "<style scoped>\n",
       "    .dataframe tbody tr th:only-of-type {\n",
       "        vertical-align: middle;\n",
       "    }\n",
       "\n",
       "    .dataframe tbody tr th {\n",
       "        vertical-align: top;\n",
       "    }\n",
       "\n",
       "    .dataframe thead th {\n",
       "        text-align: right;\n",
       "    }\n",
       "</style>\n",
       "<table border=\"1\" class=\"dataframe\">\n",
       "  <thead>\n",
       "    <tr style=\"text-align: right;\">\n",
       "      <th></th>\n",
       "      <th>id</th>\n",
       "      <th>Tournament</th>\n",
       "      <th>Date</th>\n",
       "      <th>Home_Team</th>\n",
       "      <th>Away_Team</th>\n",
       "      <th>Home_Goals</th>\n",
       "      <th>Away_Goals</th>\n",
       "      <th>Home_Stadium_or_Not</th>\n",
       "    </tr>\n",
       "  </thead>\n",
       "  <tbody>\n",
       "    <tr>\n",
       "      <th>count</th>\n",
       "      <td>17769.000000</td>\n",
       "      <td>17769</td>\n",
       "      <td>17769</td>\n",
       "      <td>17769</td>\n",
       "      <td>17769</td>\n",
       "      <td>17769.000000</td>\n",
       "      <td>17769.000000</td>\n",
       "      <td>17769.000000</td>\n",
       "    </tr>\n",
       "    <tr>\n",
       "      <th>unique</th>\n",
       "      <td>NaN</td>\n",
       "      <td>90</td>\n",
       "      <td>9004</td>\n",
       "      <td>214</td>\n",
       "      <td>218</td>\n",
       "      <td>NaN</td>\n",
       "      <td>NaN</td>\n",
       "      <td>NaN</td>\n",
       "    </tr>\n",
       "    <tr>\n",
       "      <th>top</th>\n",
       "      <td>NaN</td>\n",
       "      <td>Friendly</td>\n",
       "      <td>2009-08-12</td>\n",
       "      <td>Mexico</td>\n",
       "      <td>Uruguay</td>\n",
       "      <td>NaN</td>\n",
       "      <td>NaN</td>\n",
       "      <td>NaN</td>\n",
       "    </tr>\n",
       "    <tr>\n",
       "      <th>freq</th>\n",
       "      <td>NaN</td>\n",
       "      <td>7871</td>\n",
       "      <td>27</td>\n",
       "      <td>520</td>\n",
       "      <td>521</td>\n",
       "      <td>NaN</td>\n",
       "      <td>NaN</td>\n",
       "      <td>NaN</td>\n",
       "    </tr>\n",
       "    <tr>\n",
       "      <th>mean</th>\n",
       "      <td>8885.000000</td>\n",
       "      <td>NaN</td>\n",
       "      <td>NaN</td>\n",
       "      <td>NaN</td>\n",
       "      <td>NaN</td>\n",
       "      <td>1.722382</td>\n",
       "      <td>1.169002</td>\n",
       "      <td>0.804997</td>\n",
       "    </tr>\n",
       "    <tr>\n",
       "      <th>std</th>\n",
       "      <td>5129.612802</td>\n",
       "      <td>NaN</td>\n",
       "      <td>NaN</td>\n",
       "      <td>NaN</td>\n",
       "      <td>NaN</td>\n",
       "      <td>1.692834</td>\n",
       "      <td>1.335989</td>\n",
       "      <td>0.396214</td>\n",
       "    </tr>\n",
       "    <tr>\n",
       "      <th>min</th>\n",
       "      <td>1.000000</td>\n",
       "      <td>NaN</td>\n",
       "      <td>NaN</td>\n",
       "      <td>NaN</td>\n",
       "      <td>NaN</td>\n",
       "      <td>0.000000</td>\n",
       "      <td>0.000000</td>\n",
       "      <td>0.000000</td>\n",
       "    </tr>\n",
       "    <tr>\n",
       "      <th>25%</th>\n",
       "      <td>4443.000000</td>\n",
       "      <td>NaN</td>\n",
       "      <td>NaN</td>\n",
       "      <td>NaN</td>\n",
       "      <td>NaN</td>\n",
       "      <td>1.000000</td>\n",
       "      <td>0.000000</td>\n",
       "      <td>1.000000</td>\n",
       "    </tr>\n",
       "    <tr>\n",
       "      <th>50%</th>\n",
       "      <td>8885.000000</td>\n",
       "      <td>NaN</td>\n",
       "      <td>NaN</td>\n",
       "      <td>NaN</td>\n",
       "      <td>NaN</td>\n",
       "      <td>1.000000</td>\n",
       "      <td>1.000000</td>\n",
       "      <td>1.000000</td>\n",
       "    </tr>\n",
       "    <tr>\n",
       "      <th>75%</th>\n",
       "      <td>13327.000000</td>\n",
       "      <td>NaN</td>\n",
       "      <td>NaN</td>\n",
       "      <td>NaN</td>\n",
       "      <td>NaN</td>\n",
       "      <td>2.000000</td>\n",
       "      <td>2.000000</td>\n",
       "      <td>1.000000</td>\n",
       "    </tr>\n",
       "    <tr>\n",
       "      <th>max</th>\n",
       "      <td>17769.000000</td>\n",
       "      <td>NaN</td>\n",
       "      <td>NaN</td>\n",
       "      <td>NaN</td>\n",
       "      <td>NaN</td>\n",
       "      <td>31.000000</td>\n",
       "      <td>17.000000</td>\n",
       "      <td>1.000000</td>\n",
       "    </tr>\n",
       "  </tbody>\n",
       "</table>\n",
       "</div>"
      ],
      "text/plain": [
       "                  id Tournament        Date Home_Team Away_Team    Home_Goals  \\\n",
       "count   17769.000000      17769       17769     17769     17769  17769.000000   \n",
       "unique           NaN         90        9004       214       218           NaN   \n",
       "top              NaN   Friendly  2009-08-12    Mexico   Uruguay           NaN   \n",
       "freq             NaN       7871          27       520       521           NaN   \n",
       "mean     8885.000000        NaN         NaN       NaN       NaN      1.722382   \n",
       "std      5129.612802        NaN         NaN       NaN       NaN      1.692834   \n",
       "min         1.000000        NaN         NaN       NaN       NaN      0.000000   \n",
       "25%      4443.000000        NaN         NaN       NaN       NaN      1.000000   \n",
       "50%      8885.000000        NaN         NaN       NaN       NaN      1.000000   \n",
       "75%     13327.000000        NaN         NaN       NaN       NaN      2.000000   \n",
       "max     17769.000000        NaN         NaN       NaN       NaN     31.000000   \n",
       "\n",
       "          Away_Goals  Home_Stadium_or_Not  \n",
       "count   17769.000000         17769.000000  \n",
       "unique           NaN                  NaN  \n",
       "top              NaN                  NaN  \n",
       "freq             NaN                  NaN  \n",
       "mean        1.169002             0.804997  \n",
       "std         1.335989             0.396214  \n",
       "min         0.000000             0.000000  \n",
       "25%         0.000000             1.000000  \n",
       "50%         1.000000             1.000000  \n",
       "75%         2.000000             1.000000  \n",
       "max        17.000000             1.000000  "
      ]
     },
     "execution_count": 28,
     "metadata": {},
     "output_type": "execute_result"
    }
   ],
   "source": [
    "t2.describe(include = 'all')"
   ]
  },
  {
   "cell_type": "code",
   "execution_count": 29,
   "id": "b7dd526e",
   "metadata": {},
   "outputs": [
    {
     "data": {
      "text/plain": [
       "(17769, 8)"
      ]
     },
     "execution_count": 29,
     "metadata": {},
     "output_type": "execute_result"
    }
   ],
   "source": [
    "t2.shape"
   ]
  },
  {
   "cell_type": "code",
   "execution_count": 30,
   "id": "6a1a764d",
   "metadata": {},
   "outputs": [],
   "source": [
    "t3 = df3.toPandas()"
   ]
  },
  {
   "cell_type": "code",
   "execution_count": 31,
   "id": "3f68c7be",
   "metadata": {},
   "outputs": [
    {
     "name": "stdout",
     "output_type": "stream",
     "text": [
      "<class 'pandas.core.frame.DataFrame'>\n",
      "RangeIndex: 900 entries, 0 to 899\n",
      "Data columns (total 8 columns):\n",
      " #   Column            Non-Null Count  Dtype \n",
      "---  ------            --------------  ----- \n",
      " 0   id                900 non-null    int32 \n",
      " 1   Year              900 non-null    int32 \n",
      " 2   Stage             900 non-null    object\n",
      " 3   Home_Team         900 non-null    object\n",
      " 4   Home_Goals        900 non-null    int32 \n",
      " 5   Away_Goals        900 non-null    int32 \n",
      " 6   Away_Team         900 non-null    object\n",
      " 7   Host_Team_or_Not  900 non-null    int32 \n",
      "dtypes: int32(5), object(3)\n",
      "memory usage: 38.8+ KB\n"
     ]
    }
   ],
   "source": [
    "t3.info()"
   ]
  },
  {
   "cell_type": "code",
   "execution_count": 32,
   "id": "7d5f7c6c",
   "metadata": {},
   "outputs": [
    {
     "data": {
      "text/html": [
       "<div>\n",
       "<style scoped>\n",
       "    .dataframe tbody tr th:only-of-type {\n",
       "        vertical-align: middle;\n",
       "    }\n",
       "\n",
       "    .dataframe tbody tr th {\n",
       "        vertical-align: top;\n",
       "    }\n",
       "\n",
       "    .dataframe thead th {\n",
       "        text-align: right;\n",
       "    }\n",
       "</style>\n",
       "<table border=\"1\" class=\"dataframe\">\n",
       "  <thead>\n",
       "    <tr style=\"text-align: right;\">\n",
       "      <th></th>\n",
       "      <th>id</th>\n",
       "      <th>Year</th>\n",
       "      <th>Stage</th>\n",
       "      <th>Home_Team</th>\n",
       "      <th>Home_Goals</th>\n",
       "      <th>Away_Goals</th>\n",
       "      <th>Away_Team</th>\n",
       "      <th>Host_Team_or_Not</th>\n",
       "    </tr>\n",
       "  </thead>\n",
       "  <tbody>\n",
       "    <tr>\n",
       "      <th>count</th>\n",
       "      <td>900.000000</td>\n",
       "      <td>900.000000</td>\n",
       "      <td>900</td>\n",
       "      <td>900</td>\n",
       "      <td>900.000000</td>\n",
       "      <td>900.000000</td>\n",
       "      <td>900</td>\n",
       "      <td>900.000000</td>\n",
       "    </tr>\n",
       "    <tr>\n",
       "      <th>unique</th>\n",
       "      <td>NaN</td>\n",
       "      <td>NaN</td>\n",
       "      <td>10</td>\n",
       "      <td>77</td>\n",
       "      <td>NaN</td>\n",
       "      <td>NaN</td>\n",
       "      <td>81</td>\n",
       "      <td>NaN</td>\n",
       "    </tr>\n",
       "    <tr>\n",
       "      <th>top</th>\n",
       "      <td>NaN</td>\n",
       "      <td>NaN</td>\n",
       "      <td>Group stage</td>\n",
       "      <td>Brazil</td>\n",
       "      <td>NaN</td>\n",
       "      <td>NaN</td>\n",
       "      <td>Mexico</td>\n",
       "      <td>NaN</td>\n",
       "    </tr>\n",
       "    <tr>\n",
       "      <th>freq</th>\n",
       "      <td>NaN</td>\n",
       "      <td>NaN</td>\n",
       "      <td>528</td>\n",
       "      <td>79</td>\n",
       "      <td>NaN</td>\n",
       "      <td>NaN</td>\n",
       "      <td>36</td>\n",
       "      <td>NaN</td>\n",
       "    </tr>\n",
       "    <tr>\n",
       "      <th>mean</th>\n",
       "      <td>450.500000</td>\n",
       "      <td>1986.915556</td>\n",
       "      <td>NaN</td>\n",
       "      <td>NaN</td>\n",
       "      <td>1.792222</td>\n",
       "      <td>1.038889</td>\n",
       "      <td>NaN</td>\n",
       "      <td>0.131111</td>\n",
       "    </tr>\n",
       "    <tr>\n",
       "      <th>std</th>\n",
       "      <td>259.951919</td>\n",
       "      <td>23.150270</td>\n",
       "      <td>NaN</td>\n",
       "      <td>NaN</td>\n",
       "      <td>1.593279</td>\n",
       "      <td>1.081567</td>\n",
       "      <td>NaN</td>\n",
       "      <td>0.337710</td>\n",
       "    </tr>\n",
       "    <tr>\n",
       "      <th>min</th>\n",
       "      <td>1.000000</td>\n",
       "      <td>1930.000000</td>\n",
       "      <td>NaN</td>\n",
       "      <td>NaN</td>\n",
       "      <td>0.000000</td>\n",
       "      <td>0.000000</td>\n",
       "      <td>NaN</td>\n",
       "      <td>0.000000</td>\n",
       "    </tr>\n",
       "    <tr>\n",
       "      <th>25%</th>\n",
       "      <td>225.750000</td>\n",
       "      <td>1970.000000</td>\n",
       "      <td>NaN</td>\n",
       "      <td>NaN</td>\n",
       "      <td>1.000000</td>\n",
       "      <td>0.000000</td>\n",
       "      <td>NaN</td>\n",
       "      <td>0.000000</td>\n",
       "    </tr>\n",
       "    <tr>\n",
       "      <th>50%</th>\n",
       "      <td>450.500000</td>\n",
       "      <td>1990.000000</td>\n",
       "      <td>NaN</td>\n",
       "      <td>NaN</td>\n",
       "      <td>2.000000</td>\n",
       "      <td>1.000000</td>\n",
       "      <td>NaN</td>\n",
       "      <td>0.000000</td>\n",
       "    </tr>\n",
       "    <tr>\n",
       "      <th>75%</th>\n",
       "      <td>675.250000</td>\n",
       "      <td>2006.000000</td>\n",
       "      <td>NaN</td>\n",
       "      <td>NaN</td>\n",
       "      <td>3.000000</td>\n",
       "      <td>2.000000</td>\n",
       "      <td>NaN</td>\n",
       "      <td>0.000000</td>\n",
       "    </tr>\n",
       "    <tr>\n",
       "      <th>max</th>\n",
       "      <td>900.000000</td>\n",
       "      <td>2018.000000</td>\n",
       "      <td>NaN</td>\n",
       "      <td>NaN</td>\n",
       "      <td>10.000000</td>\n",
       "      <td>7.000000</td>\n",
       "      <td>NaN</td>\n",
       "      <td>1.000000</td>\n",
       "    </tr>\n",
       "  </tbody>\n",
       "</table>\n",
       "</div>"
      ],
      "text/plain": [
       "                id         Year        Stage Home_Team  Home_Goals  \\\n",
       "count   900.000000   900.000000          900       900  900.000000   \n",
       "unique         NaN          NaN           10        77         NaN   \n",
       "top            NaN          NaN  Group stage    Brazil         NaN   \n",
       "freq           NaN          NaN          528        79         NaN   \n",
       "mean    450.500000  1986.915556          NaN       NaN    1.792222   \n",
       "std     259.951919    23.150270          NaN       NaN    1.593279   \n",
       "min       1.000000  1930.000000          NaN       NaN    0.000000   \n",
       "25%     225.750000  1970.000000          NaN       NaN    1.000000   \n",
       "50%     450.500000  1990.000000          NaN       NaN    2.000000   \n",
       "75%     675.250000  2006.000000          NaN       NaN    3.000000   \n",
       "max     900.000000  2018.000000          NaN       NaN   10.000000   \n",
       "\n",
       "        Away_Goals Away_Team  Host_Team_or_Not  \n",
       "count   900.000000       900        900.000000  \n",
       "unique         NaN        81               NaN  \n",
       "top            NaN    Mexico               NaN  \n",
       "freq           NaN        36               NaN  \n",
       "mean      1.038889       NaN          0.131111  \n",
       "std       1.081567       NaN          0.337710  \n",
       "min       0.000000       NaN          0.000000  \n",
       "25%       0.000000       NaN          0.000000  \n",
       "50%       1.000000       NaN          0.000000  \n",
       "75%       2.000000       NaN          0.000000  \n",
       "max       7.000000       NaN          1.000000  "
      ]
     },
     "execution_count": 32,
     "metadata": {},
     "output_type": "execute_result"
    }
   ],
   "source": [
    "t3.describe(include = 'all')"
   ]
  },
  {
   "cell_type": "code",
   "execution_count": 33,
   "id": "00171aa1",
   "metadata": {},
   "outputs": [
    {
     "data": {
      "text/plain": [
       "(900, 8)"
      ]
     },
     "execution_count": 33,
     "metadata": {},
     "output_type": "execute_result"
    }
   ],
   "source": [
    "t3.shape"
   ]
  },
  {
   "cell_type": "code",
   "execution_count": 34,
   "id": "b66b86e0",
   "metadata": {},
   "outputs": [],
   "source": [
    "t4 = df4.toPandas()"
   ]
  },
  {
   "cell_type": "code",
   "execution_count": 35,
   "id": "081cff3e",
   "metadata": {},
   "outputs": [
    {
     "name": "stdout",
     "output_type": "stream",
     "text": [
      "<class 'pandas.core.frame.DataFrame'>\n",
      "RangeIndex: 21 entries, 0 to 20\n",
      "Data columns (total 9 columns):\n",
      " #   Column           Non-Null Count  Dtype \n",
      "---  ------           --------------  ----- \n",
      " 0   Year             21 non-null     int32 \n",
      " 1   Host_Country     21 non-null     object\n",
      " 2   Winner           21 non-null     object\n",
      " 3   Runners_Up       21 non-null     object\n",
      " 4   Third            21 non-null     object\n",
      " 5   Fourth           21 non-null     object\n",
      " 6   Goals_Scored     21 non-null     int32 \n",
      " 7   Matches_Played   21 non-null     int32 \n",
      " 8   Qualified_Teams  21 non-null     int32 \n",
      "dtypes: int32(4), object(5)\n",
      "memory usage: 1.3+ KB\n"
     ]
    }
   ],
   "source": [
    "t4.info()"
   ]
  },
  {
   "cell_type": "code",
   "execution_count": 36,
   "id": "6dcc297d",
   "metadata": {},
   "outputs": [
    {
     "data": {
      "text/html": [
       "<div>\n",
       "<style scoped>\n",
       "    .dataframe tbody tr th:only-of-type {\n",
       "        vertical-align: middle;\n",
       "    }\n",
       "\n",
       "    .dataframe tbody tr th {\n",
       "        vertical-align: top;\n",
       "    }\n",
       "\n",
       "    .dataframe thead th {\n",
       "        text-align: right;\n",
       "    }\n",
       "</style>\n",
       "<table border=\"1\" class=\"dataframe\">\n",
       "  <thead>\n",
       "    <tr style=\"text-align: right;\">\n",
       "      <th></th>\n",
       "      <th>Year</th>\n",
       "      <th>Host_Country</th>\n",
       "      <th>Winner</th>\n",
       "      <th>Runners_Up</th>\n",
       "      <th>Third</th>\n",
       "      <th>Fourth</th>\n",
       "      <th>Goals_Scored</th>\n",
       "      <th>Matches_Played</th>\n",
       "      <th>Qualified_Teams</th>\n",
       "    </tr>\n",
       "  </thead>\n",
       "  <tbody>\n",
       "    <tr>\n",
       "      <th>count</th>\n",
       "      <td>21.000000</td>\n",
       "      <td>21</td>\n",
       "      <td>21</td>\n",
       "      <td>21</td>\n",
       "      <td>21</td>\n",
       "      <td>21</td>\n",
       "      <td>21.000000</td>\n",
       "      <td>21.000000</td>\n",
       "      <td>21.000000</td>\n",
       "    </tr>\n",
       "    <tr>\n",
       "      <th>unique</th>\n",
       "      <td>NaN</td>\n",
       "      <td>16</td>\n",
       "      <td>9</td>\n",
       "      <td>11</td>\n",
       "      <td>15</td>\n",
       "      <td>16</td>\n",
       "      <td>NaN</td>\n",
       "      <td>NaN</td>\n",
       "      <td>NaN</td>\n",
       "    </tr>\n",
       "    <tr>\n",
       "      <th>top</th>\n",
       "      <td>NaN</td>\n",
       "      <td>Italy</td>\n",
       "      <td>Brazil</td>\n",
       "      <td>Argentina</td>\n",
       "      <td>Germany</td>\n",
       "      <td>Uruguay</td>\n",
       "      <td>NaN</td>\n",
       "      <td>NaN</td>\n",
       "      <td>NaN</td>\n",
       "    </tr>\n",
       "    <tr>\n",
       "      <th>freq</th>\n",
       "      <td>NaN</td>\n",
       "      <td>2</td>\n",
       "      <td>5</td>\n",
       "      <td>3</td>\n",
       "      <td>3</td>\n",
       "      <td>3</td>\n",
       "      <td>NaN</td>\n",
       "      <td>NaN</td>\n",
       "      <td>NaN</td>\n",
       "    </tr>\n",
       "    <tr>\n",
       "      <th>mean</th>\n",
       "      <td>1976.857143</td>\n",
       "      <td>NaN</td>\n",
       "      <td>NaN</td>\n",
       "      <td>NaN</td>\n",
       "      <td>NaN</td>\n",
       "      <td>NaN</td>\n",
       "      <td>121.333333</td>\n",
       "      <td>42.857143</td>\n",
       "      <td>21.761905</td>\n",
       "    </tr>\n",
       "    <tr>\n",
       "      <th>std</th>\n",
       "      <td>26.657618</td>\n",
       "      <td>NaN</td>\n",
       "      <td>NaN</td>\n",
       "      <td>NaN</td>\n",
       "      <td>NaN</td>\n",
       "      <td>NaN</td>\n",
       "      <td>33.943090</td>\n",
       "      <td>17.467930</td>\n",
       "      <td>7.462605</td>\n",
       "    </tr>\n",
       "    <tr>\n",
       "      <th>min</th>\n",
       "      <td>1930.000000</td>\n",
       "      <td>NaN</td>\n",
       "      <td>NaN</td>\n",
       "      <td>NaN</td>\n",
       "      <td>NaN</td>\n",
       "      <td>NaN</td>\n",
       "      <td>70.000000</td>\n",
       "      <td>17.000000</td>\n",
       "      <td>13.000000</td>\n",
       "    </tr>\n",
       "    <tr>\n",
       "      <th>25%</th>\n",
       "      <td>1958.000000</td>\n",
       "      <td>NaN</td>\n",
       "      <td>NaN</td>\n",
       "      <td>NaN</td>\n",
       "      <td>NaN</td>\n",
       "      <td>NaN</td>\n",
       "      <td>89.000000</td>\n",
       "      <td>32.000000</td>\n",
       "      <td>16.000000</td>\n",
       "    </tr>\n",
       "    <tr>\n",
       "      <th>50%</th>\n",
       "      <td>1978.000000</td>\n",
       "      <td>NaN</td>\n",
       "      <td>NaN</td>\n",
       "      <td>NaN</td>\n",
       "      <td>NaN</td>\n",
       "      <td>NaN</td>\n",
       "      <td>126.000000</td>\n",
       "      <td>38.000000</td>\n",
       "      <td>16.000000</td>\n",
       "    </tr>\n",
       "    <tr>\n",
       "      <th>75%</th>\n",
       "      <td>1998.000000</td>\n",
       "      <td>NaN</td>\n",
       "      <td>NaN</td>\n",
       "      <td>NaN</td>\n",
       "      <td>NaN</td>\n",
       "      <td>NaN</td>\n",
       "      <td>146.000000</td>\n",
       "      <td>64.000000</td>\n",
       "      <td>32.000000</td>\n",
       "    </tr>\n",
       "    <tr>\n",
       "      <th>max</th>\n",
       "      <td>2018.000000</td>\n",
       "      <td>NaN</td>\n",
       "      <td>NaN</td>\n",
       "      <td>NaN</td>\n",
       "      <td>NaN</td>\n",
       "      <td>NaN</td>\n",
       "      <td>171.000000</td>\n",
       "      <td>64.000000</td>\n",
       "      <td>32.000000</td>\n",
       "    </tr>\n",
       "  </tbody>\n",
       "</table>\n",
       "</div>"
      ],
      "text/plain": [
       "               Year Host_Country  Winner Runners_Up    Third   Fourth  \\\n",
       "count     21.000000           21      21         21       21       21   \n",
       "unique          NaN           16       9         11       15       16   \n",
       "top             NaN        Italy  Brazil  Argentina  Germany  Uruguay   \n",
       "freq            NaN            2       5          3        3        3   \n",
       "mean    1976.857143          NaN     NaN        NaN      NaN      NaN   \n",
       "std       26.657618          NaN     NaN        NaN      NaN      NaN   \n",
       "min     1930.000000          NaN     NaN        NaN      NaN      NaN   \n",
       "25%     1958.000000          NaN     NaN        NaN      NaN      NaN   \n",
       "50%     1978.000000          NaN     NaN        NaN      NaN      NaN   \n",
       "75%     1998.000000          NaN     NaN        NaN      NaN      NaN   \n",
       "max     2018.000000          NaN     NaN        NaN      NaN      NaN   \n",
       "\n",
       "        Goals_Scored  Matches_Played  Qualified_Teams  \n",
       "count      21.000000       21.000000        21.000000  \n",
       "unique           NaN             NaN              NaN  \n",
       "top              NaN             NaN              NaN  \n",
       "freq             NaN             NaN              NaN  \n",
       "mean      121.333333       42.857143        21.761905  \n",
       "std        33.943090       17.467930         7.462605  \n",
       "min        70.000000       17.000000        13.000000  \n",
       "25%        89.000000       32.000000        16.000000  \n",
       "50%       126.000000       38.000000        16.000000  \n",
       "75%       146.000000       64.000000        32.000000  \n",
       "max       171.000000       64.000000        32.000000  "
      ]
     },
     "execution_count": 36,
     "metadata": {},
     "output_type": "execute_result"
    }
   ],
   "source": [
    "t4.describe(include = 'all')"
   ]
  },
  {
   "cell_type": "code",
   "execution_count": 37,
   "id": "41c2ae60",
   "metadata": {},
   "outputs": [
    {
     "data": {
      "text/plain": [
       "(21, 9)"
      ]
     },
     "execution_count": 37,
     "metadata": {},
     "output_type": "execute_result"
    }
   ],
   "source": [
    "t4.shape"
   ]
  },
  {
   "cell_type": "markdown",
   "id": "3cfe34b4",
   "metadata": {},
   "source": [
    "Задание 3. Найдите все матчи чемпионата мира, в которых хотя бы одна команда является победителем или финалистом прошлого чемпионата.\n"
   ]
  },
  {
   "cell_type": "code",
   "execution_count": 38,
   "id": "27d553d1",
   "metadata": {
    "scrolled": true
   },
   "outputs": [
    {
     "name": "stdout",
     "output_type": "stream",
     "text": [
      "+---+----+-----------+---------+---------+\n",
      "|id |Year|Stage      |Home_Team|Away_Team|\n",
      "+---+----+-----------+---------+---------+\n",
      "|5  |2022|Group stage|France   |Australia|\n",
      "|23 |2022|Group stage|France   |Denmark  |\n",
      "|38 |2022|Group stage|Tunisia  |France   |\n",
      "|12 |2022|Group stage|Morocco  |Croatia  |\n",
      "|27 |2022|Group stage|Croatia  |Canada   |\n",
      "|41 |2022|Group stage|Croatia  |Belgium  |\n",
      "+---+----+-----------+---------+---------+\n",
      "\n",
      "CPU times: user 2.22 ms, sys: 400 µs, total: 2.62 ms\n",
      "Wall time: 1.74 s\n"
     ]
    }
   ],
   "source": [
    "%%time\n",
    "spark.sql('''\n",
    "            with t1 as(\n",
    "            select Home_Team as team from ivanov.world_cup_matches1_p \n",
    "            where Stage = 'Final'\n",
    "            and Year = 2018\n",
    "            union\n",
    "            select Away_Team from ivanov.world_cup_matches1_p \n",
    "            where Stage = 'Final'\n",
    "            and Year = 2018)\n",
    "            \n",
    "            select t2.* from ivanov.2022_world_cup_matches1_p as t2, t1\n",
    "            where t2.Home_Team = t1.team or t2.Away_Team = t1.team\n",
    "            \n",
    "            ''').show(truncate=False)"
   ]
  },
  {
   "cell_type": "code",
   "execution_count": 39,
   "id": "9d3ca044",
   "metadata": {},
   "outputs": [],
   "source": [
    "df = spark.table('ivanov.world_cup_matches1_p').cache()"
   ]
  },
  {
   "cell_type": "code",
   "execution_count": 40,
   "id": "7fcfe491",
   "metadata": {},
   "outputs": [
    {
     "name": "stdout",
     "output_type": "stream",
     "text": [
      "+---+----+-----------+---------+---------+\n",
      "|id |Year|Stage      |Home_Team|Away_Team|\n",
      "+---+----+-----------+---------+---------+\n",
      "|5  |2022|Group stage|France   |Australia|\n",
      "|23 |2022|Group stage|France   |Denmark  |\n",
      "|38 |2022|Group stage|Tunisia  |France   |\n",
      "|12 |2022|Group stage|Morocco  |Croatia  |\n",
      "|27 |2022|Group stage|Croatia  |Canada   |\n",
      "|41 |2022|Group stage|Croatia  |Belgium  |\n",
      "+---+----+-----------+---------+---------+\n",
      "\n",
      "CPU times: user 1.82 ms, sys: 1.31 ms, total: 3.13 ms\n",
      "Wall time: 1.1 s\n"
     ]
    }
   ],
   "source": [
    "%%time\n",
    "spark.sql('''\n",
    "            with t1 as(\n",
    "            select Home_Team as team from ivanov.world_cup_matches1_p \n",
    "            where Stage = 'Final'\n",
    "            and Year = 2018\n",
    "            union\n",
    "            select Away_Team from ivanov.world_cup_matches1_p \n",
    "            where Stage = 'Final'\n",
    "            and Year = 2018)\n",
    "            \n",
    "            select t2.* from ivanov.2022_world_cup_matches1_p as t2, t1\n",
    "            where t2.Home_Team = t1.team or t2.Away_Team = t1.team\n",
    "            \n",
    "            ''').show(truncate=False)"
   ]
  },
  {
   "cell_type": "code",
   "execution_count": 41,
   "id": "b687d002",
   "metadata": {},
   "outputs": [
    {
     "data": {
      "text/plain": [
       "DataFrame[id: int, Year: int, Stage: string, Home_Team: string, Home_Goals: int, Away_Goals: int, Away_Team: string, Host_Team_or_Not: int]"
      ]
     },
     "execution_count": 41,
     "metadata": {},
     "output_type": "execute_result"
    }
   ],
   "source": [
    "df.unpersist()"
   ]
  },
  {
   "cell_type": "code",
   "execution_count": 42,
   "id": "e216664d",
   "metadata": {},
   "outputs": [
    {
     "name": "stdout",
     "output_type": "stream",
     "text": [
      "+---+----+-----------+---------+---------+\n",
      "|id |Year|Stage      |Home_Team|Away_Team|\n",
      "+---+----+-----------+---------+---------+\n",
      "|5  |2022|Group stage|France   |Australia|\n",
      "|12 |2022|Group stage|Morocco  |Croatia  |\n",
      "|23 |2022|Group stage|France   |Denmark  |\n",
      "|27 |2022|Group stage|Croatia  |Canada   |\n",
      "|38 |2022|Group stage|Tunisia  |France   |\n",
      "|41 |2022|Group stage|Croatia  |Belgium  |\n",
      "+---+----+-----------+---------+---------+\n",
      "\n",
      "CPU times: user 1.22 ms, sys: 107 µs, total: 1.33 ms\n",
      "Wall time: 710 ms\n"
     ]
    }
   ],
   "source": [
    "%%time\n",
    "spark.sql('''\n",
    "            with t1 as(\n",
    "            select Home_Team as team from ivanov.world_cup_matches1_p \n",
    "            where Stage = 'Final'\n",
    "            and Year = 2018\n",
    "            union\n",
    "            select Away_Team from ivanov.world_cup_matches1_p \n",
    "            where Stage = 'Final'\n",
    "            and Year = 2018)\n",
    "            \n",
    "            select /*+ BROADCAST(t1) */ t2.* from ivanov.2022_world_cup_matches1_p as t2, t1\n",
    "            where t2.Home_Team = t1.team or t2.Away_Team = t1.team\n",
    "            \n",
    "            ''').show(truncate=False)"
   ]
  },
  {
   "cell_type": "markdown",
   "id": "70731a48",
   "metadata": {},
   "source": [
    "Задание 4. Найдите все матчи чемпионата мира, в которых хозяйствующая страна также участвовала в матче.\n"
   ]
  },
  {
   "cell_type": "code",
   "execution_count": 43,
   "id": "280662a9",
   "metadata": {},
   "outputs": [
    {
     "name": "stdout",
     "output_type": "stream",
     "text": [
      "+---+----+-----------+---------+-----------+\n",
      "|id |Year|Stage      |Home_Team|Away_Team  |\n",
      "+---+----+-----------+---------+-----------+\n",
      "|1  |2022|Group stage|Qatar    |Ecuador    |\n",
      "|18 |2022|Group stage|Qatar    |Senegal    |\n",
      "|36 |2022|Group stage|Qatar    |Netherlands|\n",
      "+---+----+-----------+---------+-----------+\n",
      "\n",
      "CPU times: user 1.99 ms, sys: 786 µs, total: 2.77 ms\n",
      "Wall time: 149 ms\n"
     ]
    }
   ],
   "source": [
    "%%time\n",
    "spark.sql('''            \n",
    "            select * from ivanov.2022_world_cup_matches1_p\n",
    "            where Home_Team = 'Qatar' or Away_Team = 'Qatar'\n",
    "            \n",
    "            ''').show(truncate=False)"
   ]
  },
  {
   "cell_type": "code",
   "execution_count": 44,
   "id": "20215fb8",
   "metadata": {},
   "outputs": [],
   "source": [
    "df = spark.table('ivanov.world_cup_matches1_p').cache()"
   ]
  },
  {
   "cell_type": "code",
   "execution_count": 45,
   "id": "9912a6f2",
   "metadata": {},
   "outputs": [
    {
     "name": "stdout",
     "output_type": "stream",
     "text": [
      "+---+----+-----------+---------+-----------+\n",
      "|id |Year|Stage      |Home_Team|Away_Team  |\n",
      "+---+----+-----------+---------+-----------+\n",
      "|1  |2022|Group stage|Qatar    |Ecuador    |\n",
      "|18 |2022|Group stage|Qatar    |Senegal    |\n",
      "|36 |2022|Group stage|Qatar    |Netherlands|\n",
      "+---+----+-----------+---------+-----------+\n",
      "\n",
      "CPU times: user 2.1 ms, sys: 396 µs, total: 2.49 ms\n",
      "Wall time: 145 ms\n"
     ]
    }
   ],
   "source": [
    "%%time\n",
    "spark.sql('''            \n",
    "            select * from ivanov.2022_world_cup_matches1_p\n",
    "            where Home_Team = 'Qatar' or Away_Team = 'Qatar'\n",
    "            \n",
    "            ''').show(truncate=False)"
   ]
  },
  {
   "cell_type": "code",
   "execution_count": 46,
   "id": "848f1c7a",
   "metadata": {},
   "outputs": [
    {
     "data": {
      "text/plain": [
       "DataFrame[id: int, Year: int, Stage: string, Home_Team: string, Home_Goals: int, Away_Goals: int, Away_Team: string, Host_Team_or_Not: int]"
      ]
     },
     "execution_count": 46,
     "metadata": {},
     "output_type": "execute_result"
    }
   ],
   "source": [
    "df.unpersist()"
   ]
  },
  {
   "cell_type": "markdown",
   "id": "23d23ac7",
   "metadata": {},
   "source": [
    "Задание 5. Найдите все матчи чемпионата мира и международные матчи, которые прошли на домашнем стадионе страны, участвовавшей в чемпионате мира. \n"
   ]
  },
  {
   "cell_type": "code",
   "execution_count": 47,
   "id": "2ce91ba2",
   "metadata": {},
   "outputs": [
    {
     "name": "stdout",
     "output_type": "stream",
     "text": [
      "+-----------+---------+-------------+\n",
      "|Stage      |Home_Team|Away_Team    |\n",
      "+-----------+---------+-------------+\n",
      "|Group stage|England  |Wales        |\n",
      "|Group stage|England  |United States|\n",
      "|Group stage|England  |Iran         |\n",
      "|Group stage|England  |Wales        |\n",
      "|Group stage|England  |United States|\n",
      "|Group stage|England  |Iran         |\n",
      "|Group stage|England  |Wales        |\n",
      "|Group stage|England  |United States|\n",
      "|Group stage|England  |Iran         |\n",
      "|Group stage|England  |Wales        |\n",
      "|Group stage|England  |United States|\n",
      "|Group stage|England  |Iran         |\n",
      "|Group stage|England  |Wales        |\n",
      "|Group stage|England  |United States|\n",
      "|Group stage|England  |Iran         |\n",
      "|Group stage|England  |Wales        |\n",
      "|Group stage|England  |United States|\n",
      "|Group stage|England  |Iran         |\n",
      "|Group stage|England  |Wales        |\n",
      "|Group stage|England  |United States|\n",
      "+-----------+---------+-------------+\n",
      "only showing top 20 rows\n",
      "\n",
      "CPU times: user 1.98 ms, sys: 1.24 ms, total: 3.22 ms\n",
      "Wall time: 538 ms\n"
     ]
    }
   ],
   "source": [
    "%%time\n",
    "spark.sql(''' \n",
    "            with tab as (\n",
    "            select t1.Stage, t1.Home_Team, t1.Away_Team,\n",
    "            t2.Tournament, t2.Home_Team as h_t, t2.Away_Team as a_t\n",
    "            from ivanov.2022_world_cup_matches1_p t1\n",
    "            join ivanov.international_matches1_p t2 \n",
    "            on t1.Home_Team = t2.Home_Team)\n",
    "            \n",
    "            select Stage, Home_Team, Away_Team from tab\n",
    "            union all\n",
    "            select Tournament, h_t, a_t from tab\n",
    "            \n",
    "            ''').show(truncate=False)"
   ]
  },
  {
   "cell_type": "code",
   "execution_count": 48,
   "id": "695d3672",
   "metadata": {},
   "outputs": [],
   "source": [
    "df1 = spark.table('ivanov.world_cup_matches1_p').cache()\n",
    "df2 = spark.table('ivanov.international_matches1_p').cache()"
   ]
  },
  {
   "cell_type": "code",
   "execution_count": 49,
   "id": "5b2c91d2",
   "metadata": {},
   "outputs": [
    {
     "name": "stdout",
     "output_type": "stream",
     "text": [
      "+-----------+---------+-------------+\n",
      "|Stage      |Home_Team|Away_Team    |\n",
      "+-----------+---------+-------------+\n",
      "|Group stage|England  |Wales        |\n",
      "|Group stage|England  |United States|\n",
      "|Group stage|England  |Iran         |\n",
      "|Group stage|England  |Wales        |\n",
      "|Group stage|England  |United States|\n",
      "|Group stage|England  |Iran         |\n",
      "|Group stage|England  |Wales        |\n",
      "|Group stage|England  |United States|\n",
      "|Group stage|England  |Iran         |\n",
      "|Group stage|England  |Wales        |\n",
      "|Group stage|England  |United States|\n",
      "|Group stage|England  |Iran         |\n",
      "|Group stage|England  |Wales        |\n",
      "|Group stage|England  |United States|\n",
      "|Group stage|England  |Iran         |\n",
      "|Group stage|England  |Wales        |\n",
      "|Group stage|England  |United States|\n",
      "|Group stage|England  |Iran         |\n",
      "|Group stage|England  |Wales        |\n",
      "|Group stage|England  |United States|\n",
      "+-----------+---------+-------------+\n",
      "only showing top 20 rows\n",
      "\n",
      "CPU times: user 2.6 ms, sys: 209 µs, total: 2.81 ms\n",
      "Wall time: 533 ms\n"
     ]
    }
   ],
   "source": [
    "%%time\n",
    "spark.sql(''' \n",
    "            with tab as (\n",
    "            select t1.Stage, t1.Home_Team, t1.Away_Team,\n",
    "            t2.Tournament, t2.Home_Team as h_t, t2.Away_Team as a_t\n",
    "            from ivanov.2022_world_cup_matches1_p t1\n",
    "            join ivanov.international_matches1_p t2 \n",
    "            on t1.Home_Team = t2.Home_Team)\n",
    "            \n",
    "            select Stage, Home_Team, Away_Team from tab\n",
    "            union all\n",
    "            select Tournament, h_t, a_t from tab\n",
    "            \n",
    "            ''').show(truncate=False)"
   ]
  },
  {
   "cell_type": "code",
   "execution_count": 50,
   "id": "2b2a1f7a",
   "metadata": {},
   "outputs": [
    {
     "data": {
      "text/plain": [
       "DataFrame[id: int, Tournament: string, Date: date, Home_Team: string, Away_Team: string, Home_Goals: int, Away_Goals: int, Home_Stadium_or_Not: int]"
      ]
     },
     "execution_count": 50,
     "metadata": {},
     "output_type": "execute_result"
    }
   ],
   "source": [
    "df1.unpersist()\n",
    "df2.unpersist()"
   ]
  },
  {
   "cell_type": "code",
   "execution_count": 51,
   "id": "e8309cf9",
   "metadata": {},
   "outputs": [
    {
     "name": "stdout",
     "output_type": "stream",
     "text": [
      "+-----------+---------+-------------+\n",
      "|Stage      |Home_Team|Away_Team    |\n",
      "+-----------+---------+-------------+\n",
      "|Group stage|England  |Wales        |\n",
      "|Group stage|England  |United States|\n",
      "|Group stage|England  |Iran         |\n",
      "|Group stage|England  |Wales        |\n",
      "|Group stage|England  |United States|\n",
      "|Group stage|England  |Iran         |\n",
      "|Group stage|England  |Wales        |\n",
      "|Group stage|England  |United States|\n",
      "|Group stage|England  |Iran         |\n",
      "|Group stage|England  |Wales        |\n",
      "|Group stage|England  |United States|\n",
      "|Group stage|England  |Iran         |\n",
      "|Group stage|England  |Wales        |\n",
      "|Group stage|England  |United States|\n",
      "|Group stage|England  |Iran         |\n",
      "|Group stage|England  |Wales        |\n",
      "|Group stage|England  |United States|\n",
      "|Group stage|England  |Iran         |\n",
      "|Group stage|England  |Wales        |\n",
      "|Group stage|England  |United States|\n",
      "+-----------+---------+-------------+\n",
      "only showing top 20 rows\n",
      "\n",
      "CPU times: user 1.26 ms, sys: 735 µs, total: 1.99 ms\n",
      "Wall time: 344 ms\n"
     ]
    }
   ],
   "source": [
    "%%time\n",
    "spark.sql(''' \n",
    "            with tab as (\n",
    "            select /*+ BROADCAST(t1) */ t1.Stage, t1.Home_Team, t1.Away_Team,\n",
    "            t2.Tournament, t2.Home_Team as h_t, t2.Away_Team as a_t\n",
    "            from ivanov.2022_world_cup_matches1_p t1\n",
    "            join ivanov.international_matches1_p t2 \n",
    "            on t1.Home_Team = t2.Home_Team)\n",
    "            \n",
    "            select Stage, Home_Team, Away_Team from tab\n",
    "            union all\n",
    "            select Tournament, h_t, a_t from tab\n",
    "            \n",
    "            ''').show(truncate=False)"
   ]
  },
  {
   "cell_type": "markdown",
   "id": "cded53c8",
   "metadata": {},
   "source": [
    "Задание 6. Для каждой страны найдите количество выигранных матчей в чемпионатах мира. Используйте оконную функцию для подсчета общего числа побед каждой команды.\n"
   ]
  },
  {
   "cell_type": "code",
   "execution_count": 52,
   "id": "decb3a2b",
   "metadata": {},
   "outputs": [
    {
     "name": "stdout",
     "output_type": "stream",
     "text": [
      "+-------------+---+\n",
      "|team         |cnt|\n",
      "+-------------+---+\n",
      "|Paraguay     |7  |\n",
      "|Russia       |19 |\n",
      "|Senegal      |3  |\n",
      "|Sweden       |19 |\n",
      "|Turkey       |5  |\n",
      "|Germany      |67 |\n",
      "|Ivory Coast  |3  |\n",
      "|France       |34 |\n",
      "|Greece       |2  |\n",
      "|Algeria      |3  |\n",
      "|Slovakia     |1  |\n",
      "|Argentina    |43 |\n",
      "|Wales        |1  |\n",
      "|Belgium      |20 |\n",
      "|Ecuador      |4  |\n",
      "|Ghana        |4  |\n",
      "|Peru         |5  |\n",
      "|United States|8  |\n",
      "|Chile        |11 |\n",
      "|Croatia      |11 |\n",
      "+-------------+---+\n",
      "only showing top 20 rows\n",
      "\n",
      "CPU times: user 1.46 ms, sys: 1.79 ms, total: 3.25 ms\n",
      "Wall time: 1.67 s\n"
     ]
    }
   ],
   "source": [
    "%%time\n",
    "spark.sql(''' \n",
    "            with t1 as (\n",
    "            select DISTINCT Away_Team,\n",
    "            count(Away_Team) over(partition by Away_Team) cnt_ta\n",
    "            from ivanov.world_cup_matches1_p\n",
    "            where Away_Goals > Home_Goals),\n",
    "            t2 as (\n",
    "            select DISTINCT Home_Team,\n",
    "            count(Home_Team) over(partition by Home_Team) cnt_th\n",
    "            from ivanov.world_cup_matches1_p\n",
    "            where Home_Goals > Away_Goals),\n",
    "            t3 as (\n",
    "            select * from t1\n",
    "            full join t2\n",
    "            on t1.Away_Team = t2.Home_Team\n",
    "            ),\n",
    "            t4 as (\n",
    "            select *,\n",
    "            case when cnt_ta is null then 0 else cnt_ta end c1,\n",
    "            case when cnt_th is null then 0 else cnt_th end c2\n",
    "            from t3\n",
    "            ),\n",
    "            t5 as (\n",
    "            select\n",
    "            case when Away_Team is null then Home_Team\n",
    "                 when Home_Team is null then Away_Team\n",
    "                 else Away_Team\n",
    "            end team,\n",
    "            (c1+c2) cnt\n",
    "            from t4\n",
    "            )\n",
    "            \n",
    "            select * from t5\n",
    "            \n",
    "            ''').show(truncate=False)"
   ]
  },
  {
   "cell_type": "code",
   "execution_count": 53,
   "id": "cd14d1ff",
   "metadata": {},
   "outputs": [],
   "source": [
    "df1 = spark.table('ivanov.world_cup_matches1_p').cache()"
   ]
  },
  {
   "cell_type": "code",
   "execution_count": 54,
   "id": "dfab7e4c",
   "metadata": {},
   "outputs": [
    {
     "name": "stdout",
     "output_type": "stream",
     "text": [
      "+-------------+---+\n",
      "|team         |cnt|\n",
      "+-------------+---+\n",
      "|Paraguay     |7  |\n",
      "|Russia       |19 |\n",
      "|Senegal      |3  |\n",
      "|Sweden       |19 |\n",
      "|Turkey       |5  |\n",
      "|Germany      |67 |\n",
      "|Ivory Coast  |3  |\n",
      "|France       |34 |\n",
      "|Greece       |2  |\n",
      "|Algeria      |3  |\n",
      "|Slovakia     |1  |\n",
      "|Argentina    |43 |\n",
      "|Wales        |1  |\n",
      "|Belgium      |20 |\n",
      "|Ecuador      |4  |\n",
      "|Ghana        |4  |\n",
      "|Peru         |5  |\n",
      "|United States|8  |\n",
      "|Chile        |11 |\n",
      "|Croatia      |11 |\n",
      "+-------------+---+\n",
      "only showing top 20 rows\n",
      "\n",
      "CPU times: user 0 ns, sys: 1.21 ms, total: 1.21 ms\n",
      "Wall time: 1.01 s\n"
     ]
    }
   ],
   "source": [
    "%%time\n",
    "spark.sql(''' \n",
    "            with t1 as (\n",
    "            select DISTINCT Away_Team,\n",
    "            count(Away_Team) over(partition by Away_Team) cnt_ta\n",
    "            from ivanov.world_cup_matches1_p\n",
    "            where Away_Goals > Home_Goals),\n",
    "            t2 as (\n",
    "            select DISTINCT Home_Team,\n",
    "            count(Home_Team) over(partition by Home_Team) cnt_th\n",
    "            from ivanov.world_cup_matches1_p\n",
    "            where Home_Goals > Away_Goals),\n",
    "            t3 as (\n",
    "            select * from t1\n",
    "            full join t2\n",
    "            on t1.Away_Team = t2.Home_Team\n",
    "            ),\n",
    "            t4 as (\n",
    "            select *,\n",
    "            case when cnt_ta is null then 0 else cnt_ta end c1,\n",
    "            case when cnt_th is null then 0 else cnt_th end c2\n",
    "            from t3\n",
    "            ),\n",
    "            t5 as (\n",
    "            select\n",
    "            case when Away_Team is null then Home_Team\n",
    "                 when Home_Team is null then Away_Team\n",
    "                 else Away_Team\n",
    "            end team,\n",
    "            (c1+c2) cnt\n",
    "            from t4\n",
    "            )\n",
    "            \n",
    "            select * from t5\n",
    "            \n",
    "            ''').show(truncate=False)"
   ]
  },
  {
   "cell_type": "code",
   "execution_count": 55,
   "id": "2064dd21",
   "metadata": {},
   "outputs": [
    {
     "data": {
      "text/plain": [
       "DataFrame[id: int, Year: int, Stage: string, Home_Team: string, Home_Goals: int, Away_Goals: int, Away_Team: string, Host_Team_or_Not: int]"
      ]
     },
     "execution_count": 55,
     "metadata": {},
     "output_type": "execute_result"
    }
   ],
   "source": [
    "df1.unpersist()"
   ]
  },
  {
   "cell_type": "code",
   "execution_count": 56,
   "id": "de008f73",
   "metadata": {},
   "outputs": [
    {
     "name": "stdout",
     "output_type": "stream",
     "text": [
      "+-------------+---+\n",
      "|team         |cnt|\n",
      "+-------------+---+\n",
      "|Paraguay     |7  |\n",
      "|Russia       |19 |\n",
      "|Senegal      |3  |\n",
      "|Sweden       |19 |\n",
      "|Turkey       |5  |\n",
      "|Germany      |67 |\n",
      "|Ivory Coast  |3  |\n",
      "|France       |34 |\n",
      "|Greece       |2  |\n",
      "|Algeria      |3  |\n",
      "|Slovakia     |1  |\n",
      "|Argentina    |43 |\n",
      "|Wales        |1  |\n",
      "|Belgium      |20 |\n",
      "|Ecuador      |4  |\n",
      "|Ghana        |4  |\n",
      "|Peru         |5  |\n",
      "|United States|8  |\n",
      "|Chile        |11 |\n",
      "|Croatia      |11 |\n",
      "+-------------+---+\n",
      "only showing top 20 rows\n",
      "\n",
      "CPU times: user 1.97 ms, sys: 465 µs, total: 2.43 ms\n",
      "Wall time: 819 ms\n"
     ]
    }
   ],
   "source": [
    "%%time\n",
    "spark.sql(''' \n",
    "            with t1 as (\n",
    "            select DISTINCT Away_Team,\n",
    "            count(Away_Team) over(partition by Away_Team) cnt_ta\n",
    "            from ivanov.world_cup_matches1_p\n",
    "            where Away_Goals > Home_Goals),\n",
    "            t2 as (\n",
    "            select DISTINCT Home_Team,\n",
    "            count(Home_Team) over(partition by Home_Team) cnt_th\n",
    "            from ivanov.world_cup_matches1_p\n",
    "            where Home_Goals > Away_Goals),\n",
    "            t3 as (\n",
    "            select /*+ BROADCAST(t1) */ * from t1\n",
    "            full join t2\n",
    "            on t1.Away_Team = t2.Home_Team\n",
    "            ),\n",
    "            t4 as (\n",
    "            select *,\n",
    "            case when cnt_ta is null then 0 else cnt_ta end c1,\n",
    "            case when cnt_th is null then 0 else cnt_th end c2\n",
    "            from t3\n",
    "            ),\n",
    "            t5 as (\n",
    "            select\n",
    "            case when Away_Team is null then Home_Team\n",
    "                 when Home_Team is null then Away_Team\n",
    "                 else Away_Team\n",
    "            end team,\n",
    "            (c1+c2) cnt\n",
    "            from t4\n",
    "            )\n",
    "            \n",
    "            select * from t5\n",
    "            \n",
    "            ''').show(truncate=False)"
   ]
  },
  {
   "cell_type": "markdown",
   "id": "d8f1bff0",
   "metadata": {},
   "source": [
    "Задание 7. Для каждого чемпионата мира найдите количество забитых голов и количество сыгранных матчей для каждой команды. Используйте оконные функции для подсчета общего числа голов и матчей для каждой команды в рамках каждого чемпионата.\n"
   ]
  },
  {
   "cell_type": "code",
   "execution_count": 57,
   "id": "73c39d2a",
   "metadata": {},
   "outputs": [
    {
     "name": "stdout",
     "output_type": "stream",
     "text": [
      "+---+----------+----------+----------------+---------+----------+----------+-------------------+\n",
      "|id |Tournament|Date      |Home_Team       |Away_Team|Home_Goals|Away_Goals|Home_Stadium_or_Not|\n",
      "+---+----------+----------+----------------+---------+----------+----------+-------------------+\n",
      "|1  |Friendly  |1872-11-30|Scotland        |England  |0         |0         |1                  |\n",
      "|2  |Friendly  |1873-03-08|England         |Scotland |4         |2         |1                  |\n",
      "|3  |Friendly  |1874-03-07|Scotland        |England  |2         |1         |1                  |\n",
      "|4  |Friendly  |1875-03-06|England         |Scotland |2         |2         |1                  |\n",
      "|5  |Friendly  |1876-03-04|Scotland        |England  |3         |0         |1                  |\n",
      "|6  |Friendly  |1876-03-25|Scotland        |Wales    |4         |0         |1                  |\n",
      "|7  |Friendly  |1877-03-03|England         |Scotland |1         |3         |1                  |\n",
      "|8  |Friendly  |1877-03-05|Wales           |Scotland |0         |2         |1                  |\n",
      "|9  |Friendly  |1878-03-02|Scotland        |England  |7         |2         |1                  |\n",
      "|10 |Friendly  |1878-03-23|Scotland        |Wales    |9         |0         |1                  |\n",
      "|11 |Friendly  |1879-01-18|England         |Wales    |2         |1         |1                  |\n",
      "|12 |Friendly  |1879-04-05|England         |Scotland |5         |4         |1                  |\n",
      "|13 |Friendly  |1879-04-07|Wales           |Scotland |0         |3         |1                  |\n",
      "|14 |Friendly  |1880-03-13|Scotland        |England  |5         |4         |1                  |\n",
      "|15 |Friendly  |1880-03-15|Wales           |England  |2         |3         |1                  |\n",
      "|16 |Friendly  |1880-03-27|Scotland        |Wales    |5         |1         |1                  |\n",
      "|17 |Friendly  |1881-02-26|England         |Wales    |0         |1         |1                  |\n",
      "|18 |Friendly  |1881-03-12|England         |Scotland |1         |6         |1                  |\n",
      "|19 |Friendly  |1881-03-14|Wales           |Scotland |1         |5         |1                  |\n",
      "|20 |Friendly  |1882-02-18|Northern Ireland|England  |0         |13        |1                  |\n",
      "+---+----------+----------+----------------+---------+----------+----------+-------------------+\n",
      "only showing top 20 rows\n",
      "\n",
      "CPU times: user 2.2 ms, sys: 1.07 ms, total: 3.27 ms\n",
      "Wall time: 125 ms\n"
     ]
    }
   ],
   "source": [
    "%%time\n",
    "spark.sql('''             \n",
    "            select *\n",
    "            from ivanov.international_matches1_p\n",
    "            \n",
    "            ''').show(truncate=False)"
   ]
  },
  {
   "cell_type": "code",
   "execution_count": 58,
   "id": "4f7cb36f",
   "metadata": {},
   "outputs": [
    {
     "name": "stderr",
     "output_type": "stream",
     "text": [
      "                                                                                \r"
     ]
    },
    {
     "name": "stdout",
     "output_type": "stream",
     "text": [
      "+-------------+--------------------+--------+--------+\n",
      "|Tournament   |team                |sum_goal|cnt_play|\n",
      "+-------------+--------------------+--------+--------+\n",
      "|AFC Asian Cup|Iraq                |98      |99      |\n",
      "|AFC Asian Cup|Cambodia            |6       |15      |\n",
      "|AFC Asian Cup|Jordan              |31      |45      |\n",
      "|AFC Asian Cup|Qatar               |551     |357     |\n",
      "|AFC Asian Cup|India               |28      |45      |\n",
      "|AFC Asian Cup|Kuwait              |132     |111     |\n",
      "|AFC Asian Cup|Iran                |644     |300     |\n",
      "|AFC Asian Cup|Thailand            |63      |99      |\n",
      "|AFC Asian Cup|Hong Kong           |24      |59      |\n",
      "|AFC Asian Cup|Israel              |52      |64      |\n",
      "|AFC Asian Cup|Oman                |50      |83      |\n",
      "|AFC Asian Cup|North Korea         |48      |63      |\n",
      "|AFC Asian Cup|South Korea         |1111    |566     |\n",
      "|AFC Asian Cup|Palestine           |20      |23      |\n",
      "|AFC Asian Cup|Indonesia           |44      |68      |\n",
      "|AFC Asian Cup|Syria               |57      |67      |\n",
      "|AFC Asian Cup|Saudi Arabia        |657     |370     |\n",
      "|AFC Asian Cup|United Arab Emirates|80      |113     |\n",
      "|AFC Asian Cup|Uzbekistan          |53      |50      |\n",
      "|AFC Asian Cup|Lebanon             |13      |39      |\n",
      "+-------------+--------------------+--------+--------+\n",
      "only showing top 20 rows\n",
      "\n",
      "CPU times: user 7.35 ms, sys: 4.22 ms, total: 11.6 ms\n",
      "Wall time: 6.79 s\n"
     ]
    }
   ],
   "source": [
    "%%time\n",
    "spark.sql(''' \n",
    "            with t1 as (\n",
    "            select Tournament, Home_Team, Away_Team, Home_Goals, Away_Goals,   \n",
    "            row_number() over(partition by Tournament ORDER BY Tournament) rn\n",
    "            from ivanov.international_matches1_p\n",
    "            where Tournament != 'Friendly'),\n",
    "            t2 as(\n",
    "            select Tournament, Home_Team,\n",
    "            sum(Home_Goals) over(partition by Home_Team ORDER BY Home_Team) sum_goal_h\n",
    "            from t1\n",
    "            ORDER BY Tournament\n",
    "            ),\n",
    "            t3 as (\n",
    "            select DISTINCT(*),\n",
    "            count(Home_Team) over(partition by Home_Team ORDER BY Home_Team) cnt_play_h\n",
    "            from t2\n",
    "            ORDER BY Tournament\n",
    "            ),\n",
    "            t4 as (\n",
    "            select Tournament, Home_Team, Away_Team, Home_Goals, Away_Goals,   \n",
    "            row_number() over(partition by Tournament ORDER BY Tournament) rn\n",
    "            from ivanov.international_matches1_p\n",
    "            where Tournament != 'Friendly'),\n",
    "            t5 as(\n",
    "            select Tournament, Away_Team,\n",
    "            sum(Away_Goals) over(partition by Away_Team ORDER BY Away_Team) sum_goal_a\n",
    "            from t4\n",
    "            ORDER BY Tournament\n",
    "            ),\n",
    "            t6 as (\n",
    "            select DISTINCT(*),\n",
    "            count(Away_Team) over(partition by Away_Team ORDER BY Away_Team) cnt_play_a\n",
    "            from t5\n",
    "            ORDER BY Tournament),\n",
    "            t7 as(\n",
    "            select t3.Tournament, Home_Team as team, (sum_goal_h + sum_goal_a) as sum_goal,\n",
    "            (cnt_play_h+cnt_play_a) cnt_play  from t3\n",
    "            join t6 on t3.Tournament = t6.Tournament and t3.Home_Team = t6.Away_Team\n",
    "            )\n",
    "            \n",
    "            select * from t7\n",
    "            ''').show(truncate=False)"
   ]
  },
  {
   "cell_type": "code",
   "execution_count": 59,
   "id": "2564c5d9",
   "metadata": {},
   "outputs": [],
   "source": [
    "df1 = spark.table('ivanov.international_matches1_p').cache()"
   ]
  },
  {
   "cell_type": "code",
   "execution_count": 60,
   "id": "15f84c3a",
   "metadata": {},
   "outputs": [
    {
     "name": "stdout",
     "output_type": "stream",
     "text": [
      "+-------------+--------------------+--------+--------+\n",
      "|Tournament   |team                |sum_goal|cnt_play|\n",
      "+-------------+--------------------+--------+--------+\n",
      "|AFC Asian Cup|Iraq                |98      |99      |\n",
      "|AFC Asian Cup|Cambodia            |6       |15      |\n",
      "|AFC Asian Cup|Jordan              |31      |45      |\n",
      "|AFC Asian Cup|Qatar               |551     |357     |\n",
      "|AFC Asian Cup|India               |28      |45      |\n",
      "|AFC Asian Cup|Kuwait              |132     |111     |\n",
      "|AFC Asian Cup|Iran                |644     |300     |\n",
      "|AFC Asian Cup|Thailand            |63      |99      |\n",
      "|AFC Asian Cup|Hong Kong           |24      |59      |\n",
      "|AFC Asian Cup|Israel              |52      |64      |\n",
      "|AFC Asian Cup|Oman                |50      |83      |\n",
      "|AFC Asian Cup|North Korea         |48      |63      |\n",
      "|AFC Asian Cup|South Korea         |1111    |566     |\n",
      "|AFC Asian Cup|Palestine           |20      |23      |\n",
      "|AFC Asian Cup|Indonesia           |44      |68      |\n",
      "|AFC Asian Cup|Syria               |57      |67      |\n",
      "|AFC Asian Cup|Saudi Arabia        |657     |370     |\n",
      "|AFC Asian Cup|United Arab Emirates|80      |113     |\n",
      "|AFC Asian Cup|Uzbekistan          |53      |50      |\n",
      "|AFC Asian Cup|Lebanon             |13      |39      |\n",
      "+-------------+--------------------+--------+--------+\n",
      "only showing top 20 rows\n",
      "\n",
      "CPU times: user 3.66 ms, sys: 1.19 ms, total: 4.86 ms\n",
      "Wall time: 4.55 s\n"
     ]
    },
    {
     "name": "stderr",
     "output_type": "stream",
     "text": [
      "                                                                                \r"
     ]
    }
   ],
   "source": [
    "%%time\n",
    "spark.sql(''' \n",
    "            with t1 as (\n",
    "            select Tournament, Home_Team, Away_Team, Home_Goals, Away_Goals,   \n",
    "            row_number() over(partition by Tournament ORDER BY Tournament) rn\n",
    "            from ivanov.international_matches1_p\n",
    "            where Tournament != 'Friendly'),\n",
    "            t2 as(\n",
    "            select Tournament, Home_Team,\n",
    "            sum(Home_Goals) over(partition by Home_Team ORDER BY Home_Team) sum_goal_h\n",
    "            from t1\n",
    "            ORDER BY Tournament\n",
    "            ),\n",
    "            t3 as (\n",
    "            select DISTINCT(*),\n",
    "            count(Home_Team) over(partition by Home_Team ORDER BY Home_Team) cnt_play_h\n",
    "            from t2\n",
    "            ORDER BY Tournament\n",
    "            ),\n",
    "            t4 as (\n",
    "            select Tournament, Home_Team, Away_Team, Home_Goals, Away_Goals,   \n",
    "            row_number() over(partition by Tournament ORDER BY Tournament) rn\n",
    "            from ivanov.international_matches1_p\n",
    "            where Tournament != 'Friendly'),\n",
    "            t5 as(\n",
    "            select Tournament, Away_Team,\n",
    "            sum(Away_Goals) over(partition by Away_Team ORDER BY Away_Team) sum_goal_a\n",
    "            from t4\n",
    "            ORDER BY Tournament\n",
    "            ),\n",
    "            t6 as (\n",
    "            select DISTINCT(*),\n",
    "            count(Away_Team) over(partition by Away_Team ORDER BY Away_Team) cnt_play_a\n",
    "            from t5\n",
    "            ORDER BY Tournament),\n",
    "            t7 as(\n",
    "            select t3.Tournament, Home_Team as team, (sum_goal_h + sum_goal_a) as sum_goal,\n",
    "            (cnt_play_h+cnt_play_a) cnt_play  from t3\n",
    "            join t6 on t3.Tournament = t6.Tournament and t3.Home_Team = t6.Away_Team\n",
    "            )\n",
    "            \n",
    "            select * from t7\n",
    "            ''').show(truncate=False)"
   ]
  },
  {
   "cell_type": "code",
   "execution_count": 61,
   "id": "880f4604",
   "metadata": {},
   "outputs": [
    {
     "data": {
      "text/plain": [
       "DataFrame[id: int, Tournament: string, Date: date, Home_Team: string, Away_Team: string, Home_Goals: int, Away_Goals: int, Home_Stadium_or_Not: int]"
      ]
     },
     "execution_count": 61,
     "metadata": {},
     "output_type": "execute_result"
    }
   ],
   "source": [
    "df1.unpersist()"
   ]
  },
  {
   "cell_type": "code",
   "execution_count": 62,
   "id": "d1b5d67c",
   "metadata": {},
   "outputs": [
    {
     "name": "stdout",
     "output_type": "stream",
     "text": [
      "+-------------+--------------------+--------+--------+\n",
      "|Tournament   |team                |sum_goal|cnt_play|\n",
      "+-------------+--------------------+--------+--------+\n",
      "|AFC Asian Cup|Iraq                |98      |99      |\n",
      "|AFC Asian Cup|Cambodia            |6       |15      |\n",
      "|AFC Asian Cup|Jordan              |31      |45      |\n",
      "|AFC Asian Cup|Qatar               |551     |357     |\n",
      "|AFC Asian Cup|India               |28      |45      |\n",
      "|AFC Asian Cup|Kuwait              |132     |111     |\n",
      "|AFC Asian Cup|Iran                |644     |300     |\n",
      "|AFC Asian Cup|Thailand            |63      |99      |\n",
      "|AFC Asian Cup|Hong Kong           |24      |59      |\n",
      "|AFC Asian Cup|Israel              |52      |64      |\n",
      "|AFC Asian Cup|Oman                |50      |83      |\n",
      "|AFC Asian Cup|North Korea         |48      |63      |\n",
      "|AFC Asian Cup|South Korea         |1111    |566     |\n",
      "|AFC Asian Cup|Palestine           |20      |23      |\n",
      "|AFC Asian Cup|Indonesia           |44      |68      |\n",
      "|AFC Asian Cup|Syria               |57      |67      |\n",
      "|AFC Asian Cup|Saudi Arabia        |657     |370     |\n",
      "|AFC Asian Cup|United Arab Emirates|80      |113     |\n",
      "|AFC Asian Cup|Uzbekistan          |53      |50      |\n",
      "|AFC Asian Cup|Lebanon             |13      |39      |\n",
      "+-------------+--------------------+--------+--------+\n",
      "only showing top 20 rows\n",
      "\n",
      "CPU times: user 2.14 ms, sys: 1.42 ms, total: 3.56 ms\n",
      "Wall time: 4.13 s\n"
     ]
    }
   ],
   "source": [
    "%%time\n",
    "spark.sql(''' \n",
    "            with t1 as (\n",
    "            select Tournament, Home_Team, Away_Team, Home_Goals, Away_Goals,   \n",
    "            row_number() over(partition by Tournament ORDER BY Tournament) rn\n",
    "            from ivanov.international_matches1_p\n",
    "            where Tournament != 'Friendly'),\n",
    "            t2 as(\n",
    "            select Tournament, Home_Team,\n",
    "            sum(Home_Goals) over(partition by Home_Team ORDER BY Home_Team) sum_goal_h\n",
    "            from t1\n",
    "            ORDER BY Tournament\n",
    "            ),\n",
    "            t3 as (\n",
    "            select DISTINCT(*),\n",
    "            count(Home_Team) over(partition by Home_Team ORDER BY Home_Team) cnt_play_h\n",
    "            from t2\n",
    "            ORDER BY Tournament\n",
    "            ),\n",
    "            t4 as (\n",
    "            select Tournament, Home_Team, Away_Team, Home_Goals, Away_Goals,   \n",
    "            row_number() over(partition by Tournament ORDER BY Tournament) rn\n",
    "            from ivanov.international_matches1_p\n",
    "            where Tournament != 'Friendly'),\n",
    "            t5 as(\n",
    "            select Tournament, Away_Team,\n",
    "            sum(Away_Goals) over(partition by Away_Team ORDER BY Away_Team) sum_goal_a\n",
    "            from t4\n",
    "            ORDER BY Tournament\n",
    "            ),\n",
    "            t6 as (\n",
    "            select DISTINCT(*),\n",
    "            count(Away_Team) over(partition by Away_Team ORDER BY Away_Team) cnt_play_a\n",
    "            from t5\n",
    "            ORDER BY Tournament),\n",
    "            t7 as(\n",
    "            select t3.Tournament, Home_Team as team, (sum_goal_h + sum_goal_a) as sum_goal,\n",
    "            (cnt_play_h+cnt_play_a) cnt_play  from t3\n",
    "            join t6 on t3.Tournament = t6.Tournament and t3.Home_Team = t6.Away_Team\n",
    "            )\n",
    "            \n",
    "            select /*+ BROADCAST(t6) */ * from t7\n",
    "            ''').show(truncate=False)"
   ]
  },
  {
   "cell_type": "code",
   "execution_count": 63,
   "id": "0fdd150c",
   "metadata": {},
   "outputs": [],
   "source": [
    "sc.stop()"
   ]
  },
  {
   "cell_type": "code",
   "execution_count": null,
   "id": "4a9976a7",
   "metadata": {},
   "outputs": [],
   "source": []
  }
 ],
 "metadata": {
  "kernelspec": {
   "display_name": "Python 3 (ipykernel)",
   "language": "python",
   "name": "python3"
  },
  "language_info": {
   "codemirror_mode": {
    "name": "ipython",
    "version": 3
   },
   "file_extension": ".py",
   "mimetype": "text/x-python",
   "name": "python",
   "nbconvert_exporter": "python",
   "pygments_lexer": "ipython3",
   "version": "3.7.16"
  }
 },
 "nbformat": 4,
 "nbformat_minor": 5
}
