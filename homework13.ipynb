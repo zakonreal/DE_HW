{
 "cells": [
  {
   "cell_type": "markdown",
   "id": "5202af7b",
   "metadata": {},
   "source": [
    "*Функции, возвращающие значение "
   ]
  },
  {
   "cell_type": "markdown",
   "id": "b52e92e0",
   "metadata": {},
   "source": [
    "Задание 2. Напишите функцию сравнения, которая принимает два значения, x и y, и возвращает 1, если x > y, 0, если x == y, и -1, если x < y."
   ]
  },
  {
   "cell_type": "code",
   "execution_count": 1,
   "id": "b3a657ae",
   "metadata": {},
   "outputs": [],
   "source": [
    "def compare1(x, y):\n",
    "    if x > y:\n",
    "        return 1\n",
    "    elif x == y:\n",
    "        return 0\n",
    "    else:\n",
    "        return -1"
   ]
  },
  {
   "cell_type": "code",
   "execution_count": 2,
   "id": "a7693e7d",
   "metadata": {},
   "outputs": [],
   "source": [
    "def compare2(x, y):\n",
    "    return 1 if x > y else -1 if x < y else 0"
   ]
  },
  {
   "cell_type": "markdown",
   "id": "4bf7f906",
   "metadata": {},
   "source": [
    "Задание 3. Напишите функцию hypotenuse(), которая возвращает длину гипотенузы прямоугольного треугольника с учетом длины двух катетов, которые передаются в качестве аргументов. Формула: g**2 = k1**2 + k2**2"
   ]
  },
  {
   "cell_type": "code",
   "execution_count": 3,
   "id": "1d7130c0",
   "metadata": {},
   "outputs": [],
   "source": [
    "def hypotenuse(a, b):\n",
    "        c = (a ** 2 + b ** 2) ** 0.5\n",
    "        return c"
   ]
  },
  {
   "cell_type": "markdown",
   "id": "231d576c",
   "metadata": {},
   "source": [
    "Задание 4. Напишите функцию is_between(x, y, z), которая возвращает True, если истинно выражение x ≤ y ≤ z, и False в противном случае."
   ]
  },
  {
   "cell_type": "code",
   "execution_count": 4,
   "id": "a9c932bd",
   "metadata": {},
   "outputs": [],
   "source": [
    "def is_between(x, y, z):\n",
    "    if x <= y <= z:\n",
    "        return True\n",
    "    else:\n",
    "        return False"
   ]
  },
  {
   "cell_type": "raw",
   "id": "756a2c8d",
   "metadata": {},
   "source": [
    "Задание 5. Слово – палиндром, если первая и последняя буквы совпадают, а между ними палиндром. Напишите функцию is_palindrome(), возвращающую bool. Используйте функции ниже. \n",
    "def first(word):\n",
    "    return word[0]\n",
    "def last(word):\n",
    "    return word[-1]\n",
    "def middle(word):\n",
    "    return word[1:-1]\n"
   ]
  },
  {
   "cell_type": "code",
   "execution_count": 3,
   "id": "634d3215",
   "metadata": {},
   "outputs": [],
   "source": [
    "def first(word):\n",
    "    return word[0]\n",
    "        \n",
    "def last(word):\n",
    "    return word[-1]\n",
    "    \n",
    "def middle(word):\n",
    "    return word[1:-1]"
   ]
  },
  {
   "cell_type": "code",
   "execution_count": 4,
   "id": "8662ea6d",
   "metadata": {},
   "outputs": [
    {
     "name": "stdout",
     "output_type": "stream",
     "text": [
      "True\n",
      "True\n",
      "True\n",
      "False\n",
      "True\n",
      "True\n",
      "False\n"
     ]
    }
   ],
   "source": [
    "def is_palindrome(word):\n",
    "    \"\"\"Checks if word is a palindrome.\"\"\"\n",
    "    if len(word) <= 1:\n",
    "        return True\n",
    "    elif first(word) == last(word):\n",
    "\n",
    "        if len(middle(word)) == 1:\n",
    "            return True\n",
    "        else:\n",
    "            return is_palindrome(middle(word))\n",
    "\n",
    "    else:\n",
    "        return False\n",
    "\n",
    "print(is_palindrome(''))\n",
    "print(is_palindrome('noon'))\n",
    "print(is_palindrome('redivider'))\n",
    "print(is_palindrome('bobek'))\n",
    "print(is_palindrome('kajak'))\n",
    "print(is_palindrome('lol'))\n",
    "print(is_palindrome('kraken'))"
   ]
  },
  {
   "cell_type": "code",
   "execution_count": 5,
   "id": "9900bd89",
   "metadata": {},
   "outputs": [],
   "source": [
    "def isPalindrome(word) : return word == word[::-1]"
   ]
  },
  {
   "cell_type": "code",
   "execution_count": 14,
   "id": "eb46b654",
   "metadata": {},
   "outputs": [
    {
     "name": "stdout",
     "output_type": "stream",
     "text": [
      "Введите строку:kajak\n",
      "Данная строка палиндром!\n"
     ]
    }
   ],
   "source": [
    "def is_palindrome(s):\n",
    "    if len(s) < 1:\n",
    "        return True\n",
    "    else:\n",
    "        if s[0] == s[-1]:\n",
    "            return is_palindrome(s[1:-1])\n",
    "        else:\n",
    "            return False\n",
    "a = str(input(\"Введите строку:\"))\n",
    "if (is_palindrome(a) == True):\n",
    "    print(\"Данная строка палиндром!\")\n",
    "else:\n",
    "    print(\"Данная строка не палиндром!\")"
   ]
  },
  {
   "cell_type": "markdown",
   "id": "405d0e09",
   "metadata": {},
   "source": [
    "Задание 6. Число Фибоначчи – последовательность Фибоначчи начинается с 0 и 1, а далее в ней каждое следующее число является результатом сложения двух предыдущих.\n",
    "Проследить последовательность выполнения в такой функции очень сложно, работаем через принцип слепой веры.\n",
    "fibonacci(0) = 0\n",
    "fibonacci(1) = 1\n",
    "fibonacci(n) = fibonacci(n − 1) + fibonacci(n − 2)\n"
   ]
  },
  {
   "cell_type": "code",
   "execution_count": 1,
   "id": "385c7729",
   "metadata": {},
   "outputs": [],
   "source": [
    "def fibonacci(n):\n",
    "    if not isinstance(n, int):\n",
    "        print(\"Factorial is only defined for integers.\")\n",
    "        return None\n",
    "    elif n < 0:\n",
    "        print(\"Factorial is not defined for negative numbers.\")\n",
    "        return None\n",
    "    elif n == 0:\n",
    "        return 0\n",
    "    else:\n",
    "        result = fibonacci(n - 1) + fibonacci(n - 2)\n",
    "        return result"
   ]
  },
  {
   "cell_type": "markdown",
   "id": "6b5819d8",
   "metadata": {},
   "source": [
    "Итерации"
   ]
  },
  {
   "cell_type": "raw",
   "id": "9f34e60d",
   "metadata": {},
   "source": [
    "Задание 1. Перепишите функцию, используя циклы while и for. \n",
    "def print_n(s, n):\n",
    "    if n <= 0:\n",
    "        return\n",
    "    print(s)\n",
    "    print_n(s, n-1)\n"
   ]
  },
  {
   "cell_type": "code",
   "execution_count": 25,
   "id": "47efb06f",
   "metadata": {},
   "outputs": [],
   "source": [
    "def print_n1(s, n):\n",
    "    if n <= 0:\n",
    "        return\n",
    "    print(s)\n",
    "\n",
    "# print_n1(s, n-1)"
   ]
  },
  {
   "cell_type": "code",
   "execution_count": 24,
   "id": "325c03cb",
   "metadata": {},
   "outputs": [],
   "source": [
    "print_n1(0, 10)"
   ]
  },
  {
   "cell_type": "code",
   "execution_count": 21,
   "id": "f2316181",
   "metadata": {},
   "outputs": [],
   "source": [
    "def print_n2(s, n):\n",
    "    while n >= 0:\n",
    "        return print(s)\n",
    "    \n",
    "# print_n2(s, n-1)"
   ]
  },
  {
   "cell_type": "code",
   "execution_count": 22,
   "id": "817cc949",
   "metadata": {},
   "outputs": [
    {
     "name": "stdout",
     "output_type": "stream",
     "text": [
      "0\n"
     ]
    }
   ],
   "source": [
    "print_n2(0, 10)"
   ]
  },
  {
   "cell_type": "code",
   "execution_count": 18,
   "id": "5204c19b",
   "metadata": {},
   "outputs": [
    {
     "name": "stdout",
     "output_type": "stream",
     "text": [
      "0\n"
     ]
    }
   ],
   "source": [
    "def print_n3(s, n):\n",
    "    for i in range(s,n):\n",
    "        return print(s)\n",
    "\n",
    "print_n3(0, 10)"
   ]
  },
  {
   "cell_type": "code",
   "execution_count": 19,
   "id": "f0bf046a",
   "metadata": {},
   "outputs": [
    {
     "name": "stdout",
     "output_type": "stream",
     "text": [
      "0\n"
     ]
    }
   ],
   "source": [
    "print_n3(0, 10)"
   ]
  },
  {
   "cell_type": "markdown",
   "id": "3d25f0e5",
   "metadata": {},
   "source": [
    "Задание 2. Напишите программу, которая считывает с консоли числа (по одному в строке) до тех пор, пока сумма введённых чисел не будет равна 0 и сразу после этого выводит сумму квадратов всех считанных чисел."
   ]
  },
  {
   "cell_type": "code",
   "execution_count": 28,
   "id": "dc0db9c5",
   "metadata": {},
   "outputs": [
    {
     "name": "stdout",
     "output_type": "stream",
     "text": [
      "2\n",
      "-2\n",
      "8\n"
     ]
    }
   ],
   "source": [
    "summ = 0\n",
    "summq = 0\n",
    "i = 1\n",
    "while True:\n",
    "    i = int(input())\n",
    "    summ += i\n",
    "    summq = summq + i**2\n",
    "    if summ == 0:\n",
    "        break\n",
    "print(summq)"
   ]
  },
  {
   "cell_type": "markdown",
   "id": "4a9f2b60",
   "metadata": {},
   "source": [
    "Строки"
   ]
  },
  {
   "cell_type": "raw",
   "id": "193b3902",
   "metadata": {},
   "source": [
    "Задание 1. Отладьте функцию.\n",
    "def is_reverse(word1, word2):\n",
    "    if len(word1) != len(word2):\n",
    "        return False\n",
    "    i = 0\n",
    "    j = len(word2)\n",
    "    while j > 0:\n",
    "        if word1[i] != word2[j]:\n",
    "            return False\n",
    "    i = i+1\n",
    "    j = j-1\n",
    "    return True\n"
   ]
  },
  {
   "cell_type": "code",
   "execution_count": null,
   "id": "b9a135f4",
   "metadata": {},
   "outputs": [],
   "source": [
    "def is_reverse(word1, word2):\n",
    "    if len(word1) != len(word2):\n",
    "        return False\n",
    "    i = 0\n",
    "    j = len(word2)\n",
    "    while j >= 0: # здесь была ошибка\n",
    "        if word1[i] != word2[j]:\n",
    "            return False\n",
    "    i = i+1\n",
    "    j = j-1\n",
    "    return True\n"
   ]
  },
  {
   "cell_type": "raw",
   "id": "765aee18",
   "metadata": {},
   "source": [
    "Задание 2. Что делает функция ниже? Измените функцию так, чтобы она имела третий параметр: индекс в слове, с которого она должна начинать поиск.\n",
    "def find(word, letter):\n",
    "    index = 0\n",
    "    while index < len(word):\n",
    "        if word[index] == letter:\n",
    "            return index\n",
    "        index = index + 1\n",
    "     return –1\n"
   ]
  },
  {
   "cell_type": "code",
   "execution_count": 29,
   "id": "6dc0c944",
   "metadata": {},
   "outputs": [
    {
     "name": "stdout",
     "output_type": "stream",
     "text": [
      "3\n",
      "3\n",
      "-1\n"
     ]
    }
   ],
   "source": [
    "def find(word, letter, starting_index = 0):\n",
    "    index = starting_index\n",
    "    while index < len(word):\n",
    "        if word[index] == letter:\n",
    "            return index\n",
    "        index = index + 1\n",
    "    return -1\n",
    "\n",
    "print(find('maniana', 'i', 1))\n",
    "print(find('maniana', 'i', 3))\n",
    "print(find('maniana', 'i', 4))"
   ]
  },
  {
   "cell_type": "markdown",
   "id": "228a6e84",
   "metadata": {},
   "source": [
    "Задание 3. Существует строковый метод count(), прочитайте документацию по этому методу и напишите его вызов, который подсчитывает число букв а в слове «банан».\n",
    "def count_letters(letter, ch):\n",
    "    count = 0\n",
    "    for i in range(len(letter)):\n",
    "        if letter[i] == ch:\n",
    "            count += 1\n",
    "    return count\n",
    "\n",
    "count_letters('banana', 'a')  # 3\n"
   ]
  },
  {
   "cell_type": "code",
   "execution_count": 32,
   "id": "54f67410",
   "metadata": {},
   "outputs": [
    {
     "name": "stdout",
     "output_type": "stream",
     "text": [
      "3\n"
     ]
    }
   ],
   "source": [
    "word = 'banana'\n",
    "print(word.count('a'))"
   ]
  },
  {
   "cell_type": "markdown",
   "id": "c9eeb02b",
   "metadata": {},
   "source": [
    "Задание 4. При размере шага -1 слово обрабатывается с конца, поэтому срез [::-1] выводит строку в обратном порядке. Используйте это для написания однострочной версии функции is_palindrome()"
   ]
  },
  {
   "cell_type": "code",
   "execution_count": 31,
   "id": "b0fd2106",
   "metadata": {},
   "outputs": [],
   "source": [
    "def isPalindrome(word) : return word == word[::-1]"
   ]
  },
  {
   "cell_type": "raw",
   "id": "fef583c6",
   "metadata": {},
   "source": [
    "Задание 5. Инкапсулируйте код ниже в функцию count() и обобщите ее так, чтобы она принимала строку и букву в качестве аргументов.\n",
    "word = 'банан'\n",
    "count = 0\n",
    "for letter in word:\n",
    "    if letter == 'а’:\n",
    "        count = count + 1\n",
    "        print(count)\n",
    "Перепишите функцию так, чтобы вместо обхода строки она использовала версию функции find() с тремя параметрами из предыдущего раздела.\n"
   ]
  },
  {
   "cell_type": "code",
   "execution_count": null,
   "id": "e8fb5147",
   "metadata": {},
   "outputs": [],
   "source": [
    "def count(word, letter):\n",
    "    count = 0\n",
    "    for item in word:\n",
    "        if item == letter:\n",
    "            count += 1\n",
    "    return count\n",
    "\n",
    "print(count('banana', 'a'))"
   ]
  },
  {
   "cell_type": "raw",
   "id": "5a81a2c8",
   "metadata": {},
   "source": [
    "Задание 6. Опишите и отладьте функции ниже.\n",
    "def any_lowercase1(s):\n",
    "    for c in s:\n",
    "        if c.islower():\n",
    "            return True\n",
    "        else:\n",
    "            return False\n",
    "def any_lowercase2(s):\n",
    "    for c in s:\n",
    "        if 'c'.islower():\n",
    "            return 'True'\n",
    "        else:\n",
    "            return 'False'\n",
    "def any_lowercase3(s):\n",
    "    for c in s:\n",
    "        flag = c.islower()\n",
    "        return flag\n",
    "\n",
    "def any_lowercase4(s):\n",
    "    flag = False\n",
    "    for c in s:\n",
    "        flag = flag or c.islower()\n",
    "        return flagdef any_lowercase5(s):\n",
    "    for c in s:\n",
    "        if not c.islower():\n",
    "            return False\n",
    "        return True\n",
    "Пример описания функции \n",
    "import pandas as pd\n",
    "pd.DataFrame()\n"
   ]
  },
  {
   "cell_type": "code",
   "execution_count": null,
   "id": "b22539b3",
   "metadata": {},
   "outputs": [],
   "source": [
    "def any_lowercase1(s):\n",
    "    # Проверяет только первую букву в строке, является ли она строчной или нет, и возвращает\n",
    "    # логическое значение.\n",
    "    for c in s:\n",
    "        if c.islower():\n",
    "            return True\n",
    "        else:\n",
    "            return False\n",
    "\n",
    "def any_lowercase2(s):\n",
    "    # Проверяет, является ли строка 'c' строчной или нет; и возвращает строку «Истина»;\n",
    "    # Возвращает 'True' каждый раз, данный аргумент не имеет значения;\n",
    "    for c in s:\n",
    "        if 'c'.islower():\n",
    "            return 'True'\n",
    "        else:\n",
    "            return 'False'\n",
    "\n",
    "def any_lowercase3(s):\n",
    "    # Проверяет, является ли каждая буква в строке строчной или нет, и присваивает результат\n",
    "    # (логическое значение) в переменную 'flag'; новое значение присваивается флагу с\n",
    "    # каждая проверенная буква;\n",
    "    # Возвращает логическое значение вызова метода islower() только для последней буквы\n",
    "    # заданной строки;\n",
    "    for c in s:\n",
    "        flag = c.islower()\n",
    "    return flag\n",
    "\n",
    "def any_lowercase4(s):\n",
    "    # Проверяет, есть ли в заданной строке ЛЮБУЮ строчную букву, и возвращает логическое значение;\n",
    "    flag = False\n",
    "    for c in s:\n",
    "        flag = flag or c.islower()\n",
    "    return flag\n",
    "\n",
    "def any_lowercase5(s):\n",
    "    # Проверяет каждую букву, если она не в нижнем регистре, и возвращает логическое значение, если все буквы\n",
    "    # буквы в строке строчные или нет;\n",
    "    for c in s:\n",
    "        if not c.islower():\n",
    "            return False\n",
    "    return True"
   ]
  },
  {
   "cell_type": "markdown",
   "id": "879ae8f4",
   "metadata": {},
   "source": [
    "Задание 7. Напишите программу, которая считывает файл singular_and_plural.txt и печатает только слова длиной более 20 символов (не считая символы окончания строки).\n",
    "t = open('singular_and_plural.txt', encoding='UTF-8')\n",
    "print(t.readline().strip())\n"
   ]
  },
  {
   "cell_type": "code",
   "execution_count": 34,
   "id": "15a769a1",
   "metadata": {},
   "outputs": [
    {
     "name": "stdout",
     "output_type": "stream",
     "text": [
      "автомобилеразгрузчики\n",
      "адмиралтейств-коллегия\n",
      "адмиралтейств-коллегии\n",
      "альфа-радиоактивность\n",
      "астроспектрофотометрия\n",
      "библиотека-передвижка\n",
      "библиотеки-передвижки\n",
      "взаимообусловленность\n",
      "взаимообусловленности\n",
      "взаимоответственность\n",
      "взаимоответственности\n",
      "воздухонепроницаемость\n",
      "воздухонепроницаемости\n",
      "воздухораспределитель\n",
      "воздухораспределители\n",
      "высокопревосходительство\n",
      "высокопревосходительства\n",
      "генерал-губернаторство\n",
      "генерал-губернаторства\n",
      "генерал-квартирмейстер\n",
      "генерал-квартирмейстеры\n",
      "делопроизводительница\n",
      "делопроизводительницы\n",
      "диспропорциональность\n",
      "диспропорциональности\n",
      "достопримечательность\n",
      "достопримечательности\n",
      "естествоиспытательница\n",
      "естествоиспытательницы\n",
      "запрограммированность\n",
      "запрограммированности\n",
      "звукоподражательность\n",
      "звукоподражательности\n",
      "интернационализирование\n",
      "интернационализирования\n",
      "квартиронанимательница\n",
      "квартиронанимательницы\n",
      "конкурентоспособность\n",
      "конкурентоспособности\n",
      "культпросветработники\n",
      "малоупотребительность\n",
      "малоупотребительности\n",
      "металлопромышленность\n",
      "металлопромышленности\n",
      "многознаменательность\n",
      "многознаменательности\n",
      "мультипрограммирование\n",
      "неблагоприятствование\n",
      "неблагоприятствования\n",
      "недисциплинированность\n",
      "недисциплинированности\n",
      "недоброкачественность\n",
      "недоброкачественности\n",
      "непредусмотрительность\n",
      "непредусмотрительности\n",
      "неудобопроизносимость\n",
      "неудобопроизносимости\n",
      "неудовлетворительность\n",
      "неудовлетворительности\n",
      "неусовершенствованность\n",
      "неусовершенствованности\n",
      "облагодетельствование\n",
      "облагодетельствования\n",
      "общераспространенность\n",
      "общераспространенности\n",
      "общеупотребительность\n",
      "общеупотребительности\n",
      "паропроизводительность\n",
      "паропроизводительности\n",
      "переадминистрирование\n",
      "переадминистрирования\n",
      "переосвидетельствование\n",
      "переосвидетельствования\n",
      "платинопромышленность\n",
      "платинопромышленности\n",
      "покровительственность\n",
      "председательствование\n",
      "председательствования\n",
      "пристанодержательница\n",
      "пристанодержательницы\n",
      "пристанодержательство\n",
      "притоносодержательница\n",
      "притоносодержательницы\n",
      "противоестественность\n",
      "противоестественности\n",
      "противопоставленность\n",
      "противопоставленности\n",
      "рентгенодефектоскопия\n",
      "рентгеноспектроскопия\n",
      "самосовершенствование\n",
      "самосовершенствования\n",
      "самоудовлетворенность\n",
      "самоудовлетворенности\n",
      "самоусовершенствование\n",
      "самоусовершенствования\n",
      "сверхчувствительность\n",
      "сверхчувствительности\n",
      "светочувствительность\n",
      "светочувствительности\n",
      "трансформаторостроение\n",
      "трансформаторостроения\n",
      "фальшивомонетничество\n",
      "филлоксероустойчивость\n",
      "филлоксероустойчивости\n",
      "цветочувствительность\n",
      "цветочувствительности\n",
      "человеконенавистничество\n",
      "электромашиностроение\n",
      "электромашиностроения\n",
      "электропредохранитель\n",
      "электропредохранители\n",
      "электропромышленность\n",
      "электропромышленности\n",
      "электроэнцефалограмма\n",
      "электроэнцефалограммы\n",
      "электроэнцефалография\n"
     ]
    }
   ],
   "source": [
    "fin = open('singular_and_plural.txt',  encoding='UTF-8')\n",
    "for line in fin:\n",
    "    word = line.strip()\n",
    "    if len(word) > 20:\n",
    "        print(word)"
   ]
  },
  {
   "cell_type": "markdown",
   "id": "2c92fecd",
   "metadata": {},
   "source": [
    "Задание 8. Напишите функцию has_no_e(), которая возвращает True, если в данном слове нет буквы «e»."
   ]
  },
  {
   "cell_type": "code",
   "execution_count": 35,
   "id": "fc474fca",
   "metadata": {},
   "outputs": [],
   "source": [
    "def has_no_e(word):\n",
    "    for letter in word:\n",
    "        if letter == 'e':\n",
    "            return False\n",
    "    return True"
   ]
  },
  {
   "cell_type": "markdown",
   "id": "9620fb7f",
   "metadata": {},
   "source": [
    "Задание 9. Напишите функцию avoids(), которая принимает слово и строку запрещенных букв и возвращает True, если в слове нет запрещенных букв. Измените вашу программу, чтобы предложить пользователю ввести строку запрещенных букв, а затем напечатать количество слов из файла, которые не содержат ни одного из них. *Найдите сочетание из пяти запрещенных букв, которое исключает наименьшее количество слов."
   ]
  },
  {
   "cell_type": "code",
   "execution_count": 36,
   "id": "d78a065e",
   "metadata": {},
   "outputs": [],
   "source": [
    "def avoid(word, forbidden):\n",
    "    for letter in word:\n",
    "        if letter in forbidden:\n",
    "            return False\n",
    "    return True"
   ]
  },
  {
   "cell_type": "markdown",
   "id": "7ecb45cd",
   "metadata": {},
   "source": [
    "Задание 10. Напишите функцию uses_only(), которая принимает слово и последовательность букв и возвращает True, если слово содержит только буквы из списка."
   ]
  },
  {
   "cell_type": "code",
   "execution_count": 37,
   "id": "88cc788e",
   "metadata": {},
   "outputs": [],
   "source": [
    "def uses_only(word, letters):\n",
    "    for letter in word:\n",
    "        if letter not in letters:\n",
    "            return False\n",
    "    return True"
   ]
  },
  {
   "cell_type": "markdown",
   "id": "7020d646",
   "metadata": {},
   "source": [
    "Задание 11. Напишите функцию uses_all() которая принимает слово и последовательность обязательных букв и возвращает True, если слово содержит все обязательные буквы из списка."
   ]
  },
  {
   "cell_type": "code",
   "execution_count": 38,
   "id": "6e2e7bab",
   "metadata": {},
   "outputs": [],
   "source": [
    "def uses_all(word, letters):\n",
    "    required = letters.split()\n",
    "    for letter in required:\n",
    "        if letter not in word:\n",
    "            return False\n",
    "    return True"
   ]
  }
 ],
 "metadata": {
  "kernelspec": {
   "display_name": "Python 3 (ipykernel)",
   "language": "python",
   "name": "python3"
  },
  "language_info": {
   "codemirror_mode": {
    "name": "ipython",
    "version": 3
   },
   "file_extension": ".py",
   "mimetype": "text/x-python",
   "name": "python",
   "nbconvert_exporter": "python",
   "pygments_lexer": "ipython3",
   "version": "3.9.12"
  }
 },
 "nbformat": 4,
 "nbformat_minor": 5
}
