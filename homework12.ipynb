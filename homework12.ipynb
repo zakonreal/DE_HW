{
 "cells": [
  {
   "cell_type": "markdown",
   "id": "71bff158",
   "metadata": {},
   "source": [
    "Функции"
   ]
  },
  {
   "cell_type": "markdown",
   "id": "8adc5ec7",
   "metadata": {},
   "source": [
    "Задание 1. Напишите функцию print_twice(). Измените код функции do_twice() так, чтобы она принимала два аргумента, объект функции и значение и дважды вызывала функцию, передавая значение в качестве аргумента.\n",
    "Используйте модифицированную версию функции do_twice(), чтобы дважды вызвать функцию print_twice(), передав в качестве аргумента значение 'спам'.\n",
    "Определите новую функцию do_four(), которая принимает объект функции и значение и вызывает функцию четыре раза, передавая значение в качестве параметра.\n",
    "В теле этой функции должно быть только две инструкции, а не четыре."
   ]
  },
  {
   "cell_type": "code",
   "execution_count": 1,
   "id": "4c450312",
   "metadata": {},
   "outputs": [
    {
     "name": "stdout",
     "output_type": "stream",
     "text": [
      "spam\n",
      "spam\n",
      "spam\n",
      "spam\n",
      "spam\n",
      "spam\n",
      "spam\n",
      "spam\n",
      "\n",
      "spam\n",
      "spam\n",
      "spam\n",
      "spam\n",
      "spam\n",
      "spam\n",
      "spam\n",
      "spam\n"
     ]
    }
   ],
   "source": [
    "def do_twice(f,g):\n",
    "    f(g) \n",
    "    f(g)\n",
    "\n",
    "def print_twice(s):\n",
    "    print(s)\n",
    "    print(s)\n",
    "\n",
    "do_twice(print_twice,'spam')\n",
    "\n",
    "def do_four(do_twice,g):\n",
    "    do_twice(g)\n",
    "    do_twice(g)\n",
    "\n",
    "def do_twice(func, arg):\n",
    "    \"\"\"Runs a function twice.\n",
    "\n",
    "    func: function object\n",
    "    arg: argument passed to the function\n",
    "    \"\"\"\n",
    "    func(arg)\n",
    "    func(arg)\n",
    "\n",
    "\n",
    "def print_twice(arg):\n",
    "    \"\"\"Prints the argument twice.\n",
    "\n",
    "    arg: anything printable\n",
    "    \"\"\"\n",
    "    print(arg)\n",
    "    print(arg)\n",
    "\n",
    "\n",
    "def do_four(func, arg):\n",
    "    \"\"\"Runs a function four times.\n",
    "\n",
    "    func: function object\n",
    "    arg: argument passed to the function\n",
    "    \"\"\"\n",
    "    do_twice(func, arg)\n",
    "    do_twice(func, arg)\n",
    "\n",
    "\n",
    "do_twice(print_twice, 'spam')\n",
    "print('')\n",
    "\n",
    "do_four(print_twice, 'spam')\n"
   ]
  },
  {
   "cell_type": "code",
   "execution_count": 2,
   "id": "c99b7157",
   "metadata": {},
   "outputs": [
    {
     "name": "stdout",
     "output_type": "stream",
     "text": [
      "spam\n",
      "spam\n",
      "spam\n",
      "spam\n",
      "spam\n",
      "spam\n",
      "spam\n",
      "spam\n",
      "spam\n",
      "spam\n",
      "spam\n",
      "spam\n"
     ]
    }
   ],
   "source": [
    "def do_twice(f, v):\n",
    "    f(v)\n",
    "    f(v)\n",
    "\n",
    "def print_twice(bruce):\n",
    "    print(bruce)\n",
    "    print(bruce)\n",
    "\n",
    "do_twice(print_twice, 'spam')\n",
    "\n",
    "def do_four(f, v):\n",
    "    do_twice(f, v)\n",
    "    do_twice(f, v)\n",
    "    \n",
    "do_four(print_twice, 'spam')"
   ]
  },
  {
   "cell_type": "markdown",
   "id": "cbcaec0c",
   "metadata": {},
   "source": [
    "Задание 2. Напишите функцию right_justify(), которая принимает строку s в качестве параметра и печатает строку с достаточным количеством пробелов в начале строки, так чтобы последняя буква строки находилась в столбце 70 на экране."
   ]
  },
  {
   "cell_type": "code",
   "execution_count": 5,
   "id": "487aa6f9",
   "metadata": {},
   "outputs": [
    {
     "name": "stdout",
     "output_type": "stream",
     "text": [
      "                                                                 Allen\n"
     ]
    }
   ],
   "source": [
    "def right_justify(s):\n",
    "    sub = len(s)\n",
    "    new_s = ' ' * (70 - sub) + s\n",
    "    print(new_s)\n",
    "\n",
    "right_justify('Allen')"
   ]
  },
  {
   "cell_type": "code",
   "execution_count": 1,
   "id": "ad21ba1c",
   "metadata": {},
   "outputs": [
    {
     "name": "stdout",
     "output_type": "stream",
     "text": [
      "                                                                 monty\n"
     ]
    }
   ],
   "source": [
    "def right_justify(s):\n",
    "    num_of_spaces = 70 - len(s)\n",
    "    result = num_of_spaces * \" \" + s\n",
    "    print(result)\n",
    "\n",
    "right_justify(\"monty\") "
   ]
  },
  {
   "cell_type": "markdown",
   "id": "f76949c7",
   "metadata": {},
   "source": [
    "Задание 3. Напишите функцию, которая рисует сетку следующим образом. Напишите функцию, которая рисует похожую сетку с четырьмя строками и четырьмя столбцами."
   ]
  },
  {
   "cell_type": "code",
   "execution_count": 17,
   "id": "c310c2e1",
   "metadata": {},
   "outputs": [
    {
     "name": "stdout",
     "output_type": "stream",
     "text": [
      "+ – – – –  + – – – –  +\n",
      "|          |          |\n",
      "|          |          |\n",
      "|          |          |\n",
      "|          |          |\n",
      "+ – – – –  + – – – –  +\n",
      "|          |          |\n",
      "|          |          |\n",
      "|          |          |\n",
      "|          |          |\n",
      "+ – – – –  + – – – –  +\n"
     ]
    }
   ],
   "source": [
    "def print_setka():\n",
    "    print('+', '– ' * 4, '+', '– ' * 4, '+')\n",
    "    print('|', '  ' * 4, '|', '  ' * 4, '|')\n",
    "    print('|', '  ' * 4, '|', '  ' * 4, '|')\n",
    "    print('|', '  ' * 4, '|', '  ' * 4, '|')\n",
    "    print('|', '  ' * 4, '|', '  ' * 4, '|')\n",
    "    print('+', '– ' * 4, '+', '– ' * 4, '+')\n",
    "    print('|', '  ' * 4, '|', '  ' * 4, '|')\n",
    "    print('|', '  ' * 4, '|', '  ' * 4, '|')\n",
    "    print('|', '  ' * 4, '|', '  ' * 4, '|')\n",
    "    print('|', '  ' * 4, '|', '  ' * 4, '|')\n",
    "    print('+', '– ' * 4, '+', '– ' * 4, '+')\n",
    "print_setka()"
   ]
  },
  {
   "cell_type": "markdown",
   "id": "31555fa6",
   "metadata": {},
   "source": [
    "Условия и рекурсия "
   ]
  },
  {
   "cell_type": "markdown",
   "id": "99ebb620",
   "metadata": {},
   "source": [
    "Задание 1.\n",
    "Модуль time предоставляет функцию, также называемую time(), которая возвращает текущее время по Гринвичу в формате «эпохи» – отсчета от произвольно выбранного момента. В системах UNIX эпоха началась 1 января 1970 года.\n",
    "import time\n",
    "time.time()\n",
    "Напишите скрипт, который считывает текущее время и преобразует его в суточное время в часах, минутах и секундах, а также отображает количество дней, прошедших с начала эпохи."
   ]
  },
  {
   "cell_type": "code",
   "execution_count": 4,
   "id": "405d895a",
   "metadata": {},
   "outputs": [
    {
     "name": "stdout",
     "output_type": "stream",
     "text": [
      "The minues: 28151724.813264843 The hours: 469195.41355441406 The days: 19549.808898100586\n",
      "The seconds: 1689103488.7958906\n"
     ]
    }
   ],
   "source": [
    "import time\n",
    "\n",
    "secs = time.time()\n",
    "\n",
    "def times():\n",
    "  mins = secs / 60\n",
    "  hours = mins / 60\n",
    "  days = hours/24\n",
    "  print ('The minues:',mins,'The hours:' ,hours, 'The days:',days)\n",
    "\n",
    "times()\n",
    "print ('The seconds:', secs)\n"
   ]
  },
  {
   "cell_type": "code",
   "execution_count": 3,
   "id": "95a9d84a",
   "metadata": {},
   "outputs": [
    {
     "name": "stdout",
     "output_type": "stream",
     "text": [
      "(19.0, 24.0, 44.0)\n",
      "19549.0\n"
     ]
    }
   ],
   "source": [
    "import time\n",
    "last_epoch = time.time()\n",
    "\n",
    "def current_time(since_epoch):\n",
    "    \"\"\"Calculates current hour, minute, and second since given epoch;\n",
    "    since epoch - in seconds.\n",
    "    \"\"\"\n",
    "    hours_since = since_epoch // 60 // 60\n",
    "    current_hour = hours_since - (hours_since // 24) * 24\n",
    "    minutes_since = since_epoch // 60\n",
    "    current_minute = minutes_since - (minutes_since // 60) * 60\n",
    "    second_since = since_epoch // 1  # to round down seconds\n",
    "    current_second = second_since - (second_since // 60) * 60\n",
    "    return current_hour, current_minute, current_second\n",
    "\n",
    "def days_since_epoch(epoch):\n",
    "    \"\"\"Returns number of days since given epoch;\n",
    "    epoch - in seconds.\n",
    "    \"\"\"\n",
    "    days = epoch // 60 // 60 // 24\n",
    "    return days\n",
    "\n",
    "\n",
    "print(current_time(last_epoch))\n",
    "print(days_since_epoch(last_epoch))"
   ]
  },
  {
   "cell_type": "markdown",
   "id": "26a3db66",
   "metadata": {},
   "source": [
    "Задание 2.\n",
    "Теорема Ферма гласит, что для любого натурального числа n > 2 уравнение: a**n + b**n = c**n не имеет решений в целых ненулевых числах a, b, c. \n",
    "1.Напишите функцию check_fermat(), которая принимает четыре параметра – a, b, c и n – и проверяет, выполняется ли теорема Ферма. Если n больше 2 и a**n + b**n = c**n, в программе должно быть напечатано: «Не может быть, Ферма ошибся!» В противном случае программа должна вывести: «Нет, это не работает». \n",
    "2.Напишите функцию, которая предлагает пользователю ввести значения для переменных a, b, c и n, преобразует их в целые числа и использует функцию check_fermat(), чтобы проверить, нарушают ли они теорему Ферма. "
   ]
  },
  {
   "cell_type": "code",
   "execution_count": 6,
   "id": "8303c829",
   "metadata": {},
   "outputs": [
    {
     "name": "stdout",
     "output_type": "stream",
     "text": [
      "Type your value of a: 1\n",
      "Type your value of b: 2\n",
      "Type your value of c: 3\n",
      "Type your value of n: 4\n",
      "No, that doesn't work.\n"
     ]
    }
   ],
   "source": [
    "def check_fermat(a, b, c, n):\n",
    "    if n > 2 and a**n + b**n == c**n:\n",
    "        print(\"Holy smokes, Fermat was wrong!\")\n",
    "    else:\n",
    "        print(\"No, that doesn't work.\")\n",
    "\n",
    "def prompting():\n",
    "    a = input(\"Type your value of a: \")\n",
    "    b = input(\"Type your value of b: \")\n",
    "    c = input(\"Type your value of c: \")\n",
    "    n = input(\"Type your value of n: \")\n",
    "    \n",
    "    check_fermat(int(a), int(b), int(c), int(n))\n",
    "\n",
    "prompting()"
   ]
  },
  {
   "cell_type": "raw",
   "id": "97c633dc",
   "metadata": {},
   "source": [
    "Задание 4.\n",
    "1.Каков результат выполнения следующей программы? Нарисуйте поэтапное состояние программы до момента, когда она выводит результат.\n",
    "def recurse(n, s): \n",
    "    if n == 0: \n",
    "        print(s) \n",
    "    else: \n",
    "        recurse(n-1, n+s) \n",
    "\n",
    "recurse(3, 0) \n",
    "2.Что произойдет, если вызвать эту функцию следующим образом: recurse(-1, 0)? \n",
    "3.Напишите строку документации, которая объясняет, что нужно знать для того, чтобы использовать эту функцию."
   ]
  },
  {
   "cell_type": "code",
   "execution_count": 8,
   "id": "8cea0252",
   "metadata": {},
   "outputs": [
    {
     "name": "stdout",
     "output_type": "stream",
     "text": [
      "6\n"
     ]
    }
   ],
   "source": [
    "def recurse(n, s):\n",
    "    '''Recursive function for getting and printing the value of s;\n",
    "    n - positive integer;\n",
    "    s - integer.\n",
    "    '''\n",
    "    if n == 0:\n",
    "        print(s)\n",
    "    else:\n",
    "        recurse(n-1, n+s)\n",
    "        \n",
    "recurse(3, 0) "
   ]
  },
  {
   "cell_type": "markdown",
   "id": "cbd8543d",
   "metadata": {},
   "source": [
    "Задание 5.\n",
    "Если у вас три отрезка, из них, возможно, получится составить треугольник. Например, если один из отрезков имеет длину 12 см, а два других – по 1 см, вы не сможете сделать так, чтобы короткие отрезки пересеклись. Если какая-либо из трех длин больше, чем сумма двух других, вы не сможете образовать треугольник. В противном случае сможете.\n",
    "Напишите функцию is_triangle(), которая принимает три целых числа в качестве аргументов и выводит либо «Да», либо «Нет» в зависимости от того, возможно ли образовать треугольник из отрезков с заданной длиной.\n",
    "Напишите функцию, которая предлагает пользователю ввести три длины отрезка, преобразует их в целые числа и использует функцию is_triangle(), чтобы проверить, могут ли отрезки заданной длины образовать треугольник. "
   ]
  },
  {
   "cell_type": "code",
   "execution_count": 9,
   "id": "b005994d",
   "metadata": {},
   "outputs": [
    {
     "name": "stdout",
     "output_type": "stream",
     "text": [
      "1\n",
      "2\n",
      "3\n",
      "Это не треугольник\n",
      "None\n"
     ]
    }
   ],
   "source": [
    "def triangle(a, b, c):\n",
    "    if a + b > c and a + c > b and b + c > a:\n",
    "        print('Это треугольник')\n",
    "    else:\n",
    "        print('Это не треугольник')\n",
    "\n",
    "a = int(input())\n",
    "b = int(input())\n",
    "c = int(input())\n",
    "print(triangle(a, b, c))"
   ]
  },
  {
   "cell_type": "code",
   "execution_count": 10,
   "id": "7fc711f4",
   "metadata": {},
   "outputs": [
    {
     "name": "stdout",
     "output_type": "stream",
     "text": [
      "Type length of side a: 2\n",
      "Type length of side b: 4\n",
      "Type length of side c: 6\n",
      "Yes\n"
     ]
    }
   ],
   "source": [
    "def is_triangle(a, b, c):\n",
    "    if a > b + c:\n",
    "        print(\"No\")\n",
    "    elif b > a + c:\n",
    "        print(\"No\")\n",
    "    elif c > a + b:\n",
    "        print(\"No\")\n",
    "    else:\n",
    "        print(\"Yes\")\n",
    "\n",
    "def prompting():\n",
    "    a = input(\"Type length of side a: \")\n",
    "    b = input(\"Type length of side b: \")\n",
    "    c = input(\"Type length of side c: \")\n",
    "    \n",
    "    is_triangle(int(a), int(b), int(c))\n",
    "    \n",
    "prompting()"
   ]
  },
  {
   "cell_type": "markdown",
   "id": "96c7b8e9",
   "metadata": {},
   "source": [
    "Переменные, выражения и инструкции "
   ]
  },
  {
   "cell_type": "markdown",
   "id": "b5c2e238",
   "metadata": {},
   "source": [
    "Задание 1. Объем сферы с радиусом r составляет 4/3 * Pi * r**3. Каков объем сферы с радиусом 5?"
   ]
  },
  {
   "cell_type": "code",
   "execution_count": 11,
   "id": "1c820ac5",
   "metadata": {},
   "outputs": [
    {
     "name": "stdout",
     "output_type": "stream",
     "text": [
      "523.3333333333334\n"
     ]
    }
   ],
   "source": [
    "print (((4/3.0) * 3.14) * 5**3)"
   ]
  },
  {
   "cell_type": "code",
   "execution_count": 14,
   "id": "529cb44d",
   "metadata": {},
   "outputs": [
    {
     "data": {
      "text/plain": [
       "523.5987755982989"
      ]
     },
     "execution_count": 14,
     "metadata": {},
     "output_type": "execute_result"
    }
   ],
   "source": [
    "import math\n",
    "4/3*math.pi*5**3"
   ]
  },
  {
   "cell_type": "markdown",
   "id": "c0c653f8",
   "metadata": {},
   "source": [
    "Задание 2. Предположим, что книга стоит 249 рублей 50 копеек, при этом книжный магазин предоставляет скидку в 40%. Стоимость доставки составляет 100 рублей за первый экземпляр и 49 рублей 50 копеек за каждый дополнительный. В какую сумму обойдется закупка 60 экземпляров?"
   ]
  },
  {
   "cell_type": "code",
   "execution_count": 16,
   "id": "48afda0f",
   "metadata": {},
   "outputs": [
    {
     "name": "stdout",
     "output_type": "stream",
     "text": [
      "301445.9\n"
     ]
    }
   ],
   "source": [
    "price = 249.5\n",
    "discount = 0.4\n",
    "travel_1 = 100\n",
    "travel_2 = 49.5\n",
    "all_book = 60\n",
    "total = price * travel_1 * discount + (all_book -1) * price * travel_2 * discount\n",
    "print(total)"
   ]
  },
  {
   "cell_type": "markdown",
   "id": "3a1244d2",
   "metadata": {},
   "source": [
    "Задание 3. Если я вышел из дома в 6:52 утра и пробежал 1 км в легком темпе (1 км за 8 мин. 15 сек.), потом 3 км в среднем темпе (1 км за 7 мин. 12 сек.) и 1 км в легком темпе снова, то во сколько я вернусь домой позавтракать?"
   ]
  },
  {
   "cell_type": "code",
   "execution_count": 23,
   "id": "18e75d22",
   "metadata": {},
   "outputs": [
    {
     "data": {
      "text/plain": [
       "datetime.timedelta(seconds=495)"
      ]
     },
     "execution_count": 23,
     "metadata": {},
     "output_type": "execute_result"
    }
   ],
   "source": [
    "timedelta(minutes=8, seconds=15)"
   ]
  },
  {
   "cell_type": "code",
   "execution_count": 44,
   "id": "456db620",
   "metadata": {},
   "outputs": [
    {
     "name": "stdout",
     "output_type": "stream",
     "text": [
      "6:52:00\n",
      "0:08:15\n",
      "0:21:45\n",
      "я вернусь домой позавтракать 7:30:06\n"
     ]
    }
   ],
   "source": [
    "import datetime\n",
    "from datetime import timedelta\n",
    "time_start = timedelta(hours=6,minutes=52)\n",
    "print(time_start)\n",
    "print(timedelta(minutes=8, seconds=15))\n",
    "print(timedelta(minutes=7 * 3, seconds=15 * 3))\n",
    "time_end = time_start + 2 * timedelta(minutes=8, seconds=15) + 3 * timedelta(minutes=7, seconds=12) \n",
    "print('я вернусь домой позавтракать', time_end)"
   ]
  },
  {
   "cell_type": "markdown",
   "id": "bb12fdb7",
   "metadata": {},
   "source": [
    "Задание 3. \n",
    "Добавьте условия в задачи из первого раздела. Скидка на книги за сумму чека, скидка на доставку за количество экземпляров. Скорость бега в зависимости от пройденного расстояния.\n"
   ]
  },
  {
   "cell_type": "code",
   "execution_count": 50,
   "id": "76f36fd8",
   "metadata": {},
   "outputs": [
    {
     "name": "stdout",
     "output_type": "stream",
     "text": [
      "301445.9\n",
      "198351.4022\n"
     ]
    }
   ],
   "source": [
    "price = 249.5\n",
    "discount = 0.4\n",
    "travel_1 = 100\n",
    "travel_2 = 49.5\n",
    "all_book = 60\n",
    "total = price * travel_1 * discount + (all_book -1) * price * travel_2 * discount\n",
    "discount_price = 0.3 # Скидка на книги за сумму чека болбше 1000 руб\n",
    "discount_travel = 0.2 # скидка на доставку за количество экземпляров больше 10 шт.\n",
    "print(total)\n",
    "\n",
    "if total >= 1000:\n",
    "            total = total - total * discount_price\n",
    "if all_book >= 10:\n",
    "            total = total - total * discount_price * discount_travel\n",
    "    \n",
    "print(total)"
   ]
  },
  {
   "cell_type": "code",
   "execution_count": 57,
   "id": "d0523fbc",
   "metadata": {},
   "outputs": [
    {
     "name": "stdout",
     "output_type": "stream",
     "text": [
      "495.0\n",
      "1305.0\n",
      "Скорость бега в легком темпе, м/с 2.0202020202020203\n",
      "Скорость бега в среднем темпе, м/с 2.2988505747126435\n"
     ]
    }
   ],
   "source": [
    "time_1 = timedelta(minutes=8, seconds=15)\n",
    "time_2 = timedelta(minutes=7 * 3, seconds=15 * 3)\n",
    "total_seconds_1 = time_1.total_seconds()\n",
    "total_seconds_2 = time_2.total_seconds()\n",
    "print(total_seconds_1)\n",
    "print(total_seconds_2)\n",
    "print('Скорость бега в легком темпе, м/с', 1000 / total_seconds_1)\n",
    "print('Скорость бега в среднем темпе, м/с', 3000 / total_seconds_2)"
   ]
  }
 ],
 "metadata": {
  "kernelspec": {
   "display_name": "Python 3 (ipykernel)",
   "language": "python",
   "name": "python3"
  },
  "language_info": {
   "codemirror_mode": {
    "name": "ipython",
    "version": 3
   },
   "file_extension": ".py",
   "mimetype": "text/x-python",
   "name": "python",
   "nbconvert_exporter": "python",
   "pygments_lexer": "ipython3",
   "version": "3.9.12"
  }
 },
 "nbformat": 4,
 "nbformat_minor": 5
}
