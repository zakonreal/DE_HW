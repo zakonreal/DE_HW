{
 "cells": [
  {
   "cell_type": "markdown",
   "id": "0fddf66d",
   "metadata": {},
   "source": [
    "# Pandas"
   ]
  },
  {
   "cell_type": "markdown",
   "id": "ec989710",
   "metadata": {},
   "source": [
    "Задание 1. Создайте Series из последовательности 15 значений, равномерно разбивающих отрезок [0, 20] (воспользуйтесь функцией linspace) Определите отношение элементов полученной серии к их предыдущим элементам. В результате необходимо получить среднее полученного вектора, оставив в нём только те значения, которые не более чем 1.5. \n",
    "Варианты ответов:\n",
    "1) 1.24 2) 1.18  3) 0.71 4) 1.13\n"
   ]
  },
  {
   "cell_type": "code",
   "execution_count": 3,
   "id": "02ce56e8",
   "metadata": {},
   "outputs": [],
   "source": [
    "import pandas as pd\n",
    "import numpy as np"
   ]
  },
  {
   "cell_type": "code",
   "execution_count": 60,
   "id": "c883a01c",
   "metadata": {},
   "outputs": [],
   "source": [
    "import matplotlib.pyplot as plt\n",
    "import seaborn as sns\n",
    "%matplotlib inline"
   ]
  },
  {
   "cell_type": "code",
   "execution_count": 4,
   "id": "3dac0019",
   "metadata": {},
   "outputs": [
    {
     "name": "stdout",
     "output_type": "stream",
     "text": [
      "1.181677812927813\n"
     ]
    }
   ],
   "source": [
    "numb1 = pd.Series(data = np.linspace(0, 20, 15))\n",
    "numb2 = numb1.divide(numb1.shift(1))\n",
    "numb3 = numb2[numb2 <= 1.5].mean()\n",
    "print(numb3)"
   ]
  },
  {
   "cell_type": "markdown",
   "id": "4ab87b16",
   "metadata": {},
   "source": [
    "Задание 2. Сгенерируйте Series из 100 значений нормально распределённой СВ (np.random.normal с дефолтными параметрами - нулевым средним и единичной дисперсией). Возведите каждое значение серии в 3 степень, а значения индекса увеличьте в 3 раза. Выведите сумму элементов, строго меньших 2.6, имеющих нечётные значения индекса. Выведите количество значений серии меньше нуля. np.random.seed(242)"
   ]
  },
  {
   "cell_type": "code",
   "execution_count": 7,
   "id": "ef9637f6",
   "metadata": {},
   "outputs": [
    {
     "name": "stdout",
     "output_type": "stream",
     "text": [
      "-15.15,51\n"
     ]
    }
   ],
   "source": [
    "np.random.seed(242)\n",
    "pd.options.display.max_rows = 10\n",
    "### Type your code here\n",
    "s = pd.Series(np.random.normal(size=100)**3, index=[x * 3 for x in range(100)])\n",
    "print(round(s[s < 2.6][lambda x: x.index % 2 ==1].sum(), 2), s[s < 0].count(), sep=',')"
   ]
  },
  {
   "cell_type": "markdown",
   "id": "98c565bf",
   "metadata": {},
   "source": [
    "Задание 3.\n",
    "1.\tОтобразите основную информацию об этом DataFrame и его данных.\n",
    "2.\tВерните первые 3 строки DataFrame df.\n",
    "3.\tВыберите только столбцы «animal» и «age» из DataFrame df.\n",
    "4.\tВыберите данные в строках [3, 4, 8] и в столбцах [‘animal’, ‘age'].\n",
    "5.\tВыберите только те строки, в которых количество посещений больше 3.\n",
    "6.\tВыберите строки, в которых отсутствует возраст, т. е. это NaN.\n",
    "7.\tВыберите строки, в которых животное — кошка, а возраст меньше 3 лет.\n",
    "8.\tВыберите строки с возрастом от 2 до 4 (включительно). \n",
    "9.\tИзмените возраст в строке «f» на 1,5.\n",
    "10.\tПодсчитайте сумму всех посещений в df (т.е. найдите общее количество посещений).\n",
    "11.\tРассчитайте средний возраст для каждого отдельного животного в df.\n"
   ]
  },
  {
   "cell_type": "code",
   "execution_count": 9,
   "id": "e267f33e",
   "metadata": {},
   "outputs": [
    {
     "name": "stdout",
     "output_type": "stream",
     "text": [
      "  animal  age  visits priority\n",
      "a    cat  2.5       1      yes\n",
      "b    cat  3.0       3      yes\n",
      "c  snake  0.5       2       no\n",
      "d    dog  NaN       3      yes\n",
      "e    dog  5.0       2       no\n",
      "f    cat  2.0       3       no\n",
      "g  snake  4.5       1       no\n",
      "h    cat  NaN       1      yes\n",
      "i    dog  7.0       2       no\n",
      "j    dog  3.0       1       no\n"
     ]
    }
   ],
   "source": [
    "data = {'animal': ['cat', 'cat', 'snake', 'dog', 'dog', 'cat', 'snake', 'cat', 'dog', 'dog'],\n",
    "        'age': [2.5, 3, 0.5, np.nan, 5, 2, 4.5, np.nan, 7, 3],\n",
    "        'visits': [1, 3, 2, 3, 2, 3, 1, 1, 2, 1],\n",
    "        'priority': ['yes', 'yes', 'no', 'yes', 'no', 'no', 'no', 'yes', 'no', 'no']}\n",
    "\n",
    "labels = ['a', 'b', 'c', 'd', 'e', 'f', 'g', 'h', 'i', 'j']\n",
    "\n",
    "df = pd.DataFrame(data, index=labels)\n",
    "print(df)"
   ]
  },
  {
   "cell_type": "code",
   "execution_count": 10,
   "id": "473add9e",
   "metadata": {},
   "outputs": [
    {
     "name": "stdout",
     "output_type": "stream",
     "text": [
      "<class 'pandas.core.frame.DataFrame'>\n",
      "Index: 10 entries, a to j\n",
      "Data columns (total 4 columns):\n",
      " #   Column    Non-Null Count  Dtype  \n",
      "---  ------    --------------  -----  \n",
      " 0   animal    10 non-null     object \n",
      " 1   age       8 non-null      float64\n",
      " 2   visits    10 non-null     int64  \n",
      " 3   priority  10 non-null     object \n",
      "dtypes: float64(1), int64(1), object(2)\n",
      "memory usage: 400.0+ bytes\n"
     ]
    }
   ],
   "source": [
    "# Отобразите основную информацию об этом DataFrame и его данных.\n",
    "df.info()"
   ]
  },
  {
   "cell_type": "code",
   "execution_count": 11,
   "id": "de581ce1",
   "metadata": {},
   "outputs": [
    {
     "data": {
      "text/html": [
       "<div>\n",
       "<style scoped>\n",
       "    .dataframe tbody tr th:only-of-type {\n",
       "        vertical-align: middle;\n",
       "    }\n",
       "\n",
       "    .dataframe tbody tr th {\n",
       "        vertical-align: top;\n",
       "    }\n",
       "\n",
       "    .dataframe thead th {\n",
       "        text-align: right;\n",
       "    }\n",
       "</style>\n",
       "<table border=\"1\" class=\"dataframe\">\n",
       "  <thead>\n",
       "    <tr style=\"text-align: right;\">\n",
       "      <th></th>\n",
       "      <th>animal</th>\n",
       "      <th>age</th>\n",
       "      <th>visits</th>\n",
       "      <th>priority</th>\n",
       "    </tr>\n",
       "  </thead>\n",
       "  <tbody>\n",
       "    <tr>\n",
       "      <th>a</th>\n",
       "      <td>cat</td>\n",
       "      <td>2.5</td>\n",
       "      <td>1</td>\n",
       "      <td>yes</td>\n",
       "    </tr>\n",
       "    <tr>\n",
       "      <th>b</th>\n",
       "      <td>cat</td>\n",
       "      <td>3.0</td>\n",
       "      <td>3</td>\n",
       "      <td>yes</td>\n",
       "    </tr>\n",
       "    <tr>\n",
       "      <th>c</th>\n",
       "      <td>snake</td>\n",
       "      <td>0.5</td>\n",
       "      <td>2</td>\n",
       "      <td>no</td>\n",
       "    </tr>\n",
       "  </tbody>\n",
       "</table>\n",
       "</div>"
      ],
      "text/plain": [
       "  animal  age  visits priority\n",
       "a    cat  2.5       1      yes\n",
       "b    cat  3.0       3      yes\n",
       "c  snake  0.5       2       no"
      ]
     },
     "execution_count": 11,
     "metadata": {},
     "output_type": "execute_result"
    }
   ],
   "source": [
    "# Верните первые 3 строки DataFrame df.\n",
    "df.head(3)"
   ]
  },
  {
   "cell_type": "code",
   "execution_count": 12,
   "id": "bb80188a",
   "metadata": {},
   "outputs": [
    {
     "data": {
      "text/html": [
       "<div>\n",
       "<style scoped>\n",
       "    .dataframe tbody tr th:only-of-type {\n",
       "        vertical-align: middle;\n",
       "    }\n",
       "\n",
       "    .dataframe tbody tr th {\n",
       "        vertical-align: top;\n",
       "    }\n",
       "\n",
       "    .dataframe thead th {\n",
       "        text-align: right;\n",
       "    }\n",
       "</style>\n",
       "<table border=\"1\" class=\"dataframe\">\n",
       "  <thead>\n",
       "    <tr style=\"text-align: right;\">\n",
       "      <th></th>\n",
       "      <th>animal</th>\n",
       "      <th>age</th>\n",
       "    </tr>\n",
       "  </thead>\n",
       "  <tbody>\n",
       "    <tr>\n",
       "      <th>a</th>\n",
       "      <td>cat</td>\n",
       "      <td>2.5</td>\n",
       "    </tr>\n",
       "    <tr>\n",
       "      <th>b</th>\n",
       "      <td>cat</td>\n",
       "      <td>3.0</td>\n",
       "    </tr>\n",
       "    <tr>\n",
       "      <th>c</th>\n",
       "      <td>snake</td>\n",
       "      <td>0.5</td>\n",
       "    </tr>\n",
       "    <tr>\n",
       "      <th>d</th>\n",
       "      <td>dog</td>\n",
       "      <td>NaN</td>\n",
       "    </tr>\n",
       "    <tr>\n",
       "      <th>e</th>\n",
       "      <td>dog</td>\n",
       "      <td>5.0</td>\n",
       "    </tr>\n",
       "    <tr>\n",
       "      <th>f</th>\n",
       "      <td>cat</td>\n",
       "      <td>2.0</td>\n",
       "    </tr>\n",
       "    <tr>\n",
       "      <th>g</th>\n",
       "      <td>snake</td>\n",
       "      <td>4.5</td>\n",
       "    </tr>\n",
       "    <tr>\n",
       "      <th>h</th>\n",
       "      <td>cat</td>\n",
       "      <td>NaN</td>\n",
       "    </tr>\n",
       "    <tr>\n",
       "      <th>i</th>\n",
       "      <td>dog</td>\n",
       "      <td>7.0</td>\n",
       "    </tr>\n",
       "    <tr>\n",
       "      <th>j</th>\n",
       "      <td>dog</td>\n",
       "      <td>3.0</td>\n",
       "    </tr>\n",
       "  </tbody>\n",
       "</table>\n",
       "</div>"
      ],
      "text/plain": [
       "  animal  age\n",
       "a    cat  2.5\n",
       "b    cat  3.0\n",
       "c  snake  0.5\n",
       "d    dog  NaN\n",
       "e    dog  5.0\n",
       "f    cat  2.0\n",
       "g  snake  4.5\n",
       "h    cat  NaN\n",
       "i    dog  7.0\n",
       "j    dog  3.0"
      ]
     },
     "execution_count": 12,
     "metadata": {},
     "output_type": "execute_result"
    }
   ],
   "source": [
    "# Выберите только столбцы «animal» и «age» из DataFrame df.\n",
    "df.loc[:, ['animal', 'age']]"
   ]
  },
  {
   "cell_type": "code",
   "execution_count": 13,
   "id": "0022cda5",
   "metadata": {},
   "outputs": [
    {
     "data": {
      "text/html": [
       "<div>\n",
       "<style scoped>\n",
       "    .dataframe tbody tr th:only-of-type {\n",
       "        vertical-align: middle;\n",
       "    }\n",
       "\n",
       "    .dataframe tbody tr th {\n",
       "        vertical-align: top;\n",
       "    }\n",
       "\n",
       "    .dataframe thead th {\n",
       "        text-align: right;\n",
       "    }\n",
       "</style>\n",
       "<table border=\"1\" class=\"dataframe\">\n",
       "  <thead>\n",
       "    <tr style=\"text-align: right;\">\n",
       "      <th></th>\n",
       "      <th>animal</th>\n",
       "      <th>age</th>\n",
       "    </tr>\n",
       "  </thead>\n",
       "  <tbody>\n",
       "    <tr>\n",
       "      <th>d</th>\n",
       "      <td>dog</td>\n",
       "      <td>NaN</td>\n",
       "    </tr>\n",
       "    <tr>\n",
       "      <th>e</th>\n",
       "      <td>dog</td>\n",
       "      <td>5.0</td>\n",
       "    </tr>\n",
       "    <tr>\n",
       "      <th>i</th>\n",
       "      <td>dog</td>\n",
       "      <td>7.0</td>\n",
       "    </tr>\n",
       "  </tbody>\n",
       "</table>\n",
       "</div>"
      ],
      "text/plain": [
       "  animal  age\n",
       "d    dog  NaN\n",
       "e    dog  5.0\n",
       "i    dog  7.0"
      ]
     },
     "execution_count": 13,
     "metadata": {},
     "output_type": "execute_result"
    }
   ],
   "source": [
    "# Выберите данные в строках [3, 4, 8] и в столбцах [‘animal’, ‘age'].\n",
    "df.loc[df.index[[3, 4, 8]], ['animal', 'age']]"
   ]
  },
  {
   "cell_type": "code",
   "execution_count": 14,
   "id": "6508ee2f",
   "metadata": {},
   "outputs": [
    {
     "data": {
      "text/html": [
       "<div>\n",
       "<style scoped>\n",
       "    .dataframe tbody tr th:only-of-type {\n",
       "        vertical-align: middle;\n",
       "    }\n",
       "\n",
       "    .dataframe tbody tr th {\n",
       "        vertical-align: top;\n",
       "    }\n",
       "\n",
       "    .dataframe thead th {\n",
       "        text-align: right;\n",
       "    }\n",
       "</style>\n",
       "<table border=\"1\" class=\"dataframe\">\n",
       "  <thead>\n",
       "    <tr style=\"text-align: right;\">\n",
       "      <th></th>\n",
       "      <th>animal</th>\n",
       "      <th>age</th>\n",
       "      <th>visits</th>\n",
       "      <th>priority</th>\n",
       "    </tr>\n",
       "  </thead>\n",
       "  <tbody>\n",
       "  </tbody>\n",
       "</table>\n",
       "</div>"
      ],
      "text/plain": [
       "Empty DataFrame\n",
       "Columns: [animal, age, visits, priority]\n",
       "Index: []"
      ]
     },
     "execution_count": 14,
     "metadata": {},
     "output_type": "execute_result"
    }
   ],
   "source": [
    "# Выберите только те строки, в которых количество посещений больше 3.\n",
    "df[df['visits'] > 3]"
   ]
  },
  {
   "cell_type": "code",
   "execution_count": 15,
   "id": "cbde5a48",
   "metadata": {},
   "outputs": [
    {
     "data": {
      "text/html": [
       "<div>\n",
       "<style scoped>\n",
       "    .dataframe tbody tr th:only-of-type {\n",
       "        vertical-align: middle;\n",
       "    }\n",
       "\n",
       "    .dataframe tbody tr th {\n",
       "        vertical-align: top;\n",
       "    }\n",
       "\n",
       "    .dataframe thead th {\n",
       "        text-align: right;\n",
       "    }\n",
       "</style>\n",
       "<table border=\"1\" class=\"dataframe\">\n",
       "  <thead>\n",
       "    <tr style=\"text-align: right;\">\n",
       "      <th></th>\n",
       "      <th>animal</th>\n",
       "      <th>age</th>\n",
       "      <th>visits</th>\n",
       "      <th>priority</th>\n",
       "    </tr>\n",
       "  </thead>\n",
       "  <tbody>\n",
       "    <tr>\n",
       "      <th>d</th>\n",
       "      <td>dog</td>\n",
       "      <td>NaN</td>\n",
       "      <td>3</td>\n",
       "      <td>yes</td>\n",
       "    </tr>\n",
       "    <tr>\n",
       "      <th>h</th>\n",
       "      <td>cat</td>\n",
       "      <td>NaN</td>\n",
       "      <td>1</td>\n",
       "      <td>yes</td>\n",
       "    </tr>\n",
       "  </tbody>\n",
       "</table>\n",
       "</div>"
      ],
      "text/plain": [
       "  animal  age  visits priority\n",
       "d    dog  NaN       3      yes\n",
       "h    cat  NaN       1      yes"
      ]
     },
     "execution_count": 15,
     "metadata": {},
     "output_type": "execute_result"
    }
   ],
   "source": [
    "# Выберите строки, в которых отсутствует возраст, т. е. это NaN.\n",
    "df[df['age'].isnull()]"
   ]
  },
  {
   "cell_type": "code",
   "execution_count": 16,
   "id": "2fe2b997",
   "metadata": {},
   "outputs": [
    {
     "data": {
      "text/html": [
       "<div>\n",
       "<style scoped>\n",
       "    .dataframe tbody tr th:only-of-type {\n",
       "        vertical-align: middle;\n",
       "    }\n",
       "\n",
       "    .dataframe tbody tr th {\n",
       "        vertical-align: top;\n",
       "    }\n",
       "\n",
       "    .dataframe thead th {\n",
       "        text-align: right;\n",
       "    }\n",
       "</style>\n",
       "<table border=\"1\" class=\"dataframe\">\n",
       "  <thead>\n",
       "    <tr style=\"text-align: right;\">\n",
       "      <th></th>\n",
       "      <th>animal</th>\n",
       "      <th>age</th>\n",
       "      <th>visits</th>\n",
       "      <th>priority</th>\n",
       "    </tr>\n",
       "  </thead>\n",
       "  <tbody>\n",
       "    <tr>\n",
       "      <th>a</th>\n",
       "      <td>cat</td>\n",
       "      <td>2.5</td>\n",
       "      <td>1</td>\n",
       "      <td>yes</td>\n",
       "    </tr>\n",
       "    <tr>\n",
       "      <th>f</th>\n",
       "      <td>cat</td>\n",
       "      <td>2.0</td>\n",
       "      <td>3</td>\n",
       "      <td>no</td>\n",
       "    </tr>\n",
       "  </tbody>\n",
       "</table>\n",
       "</div>"
      ],
      "text/plain": [
       "  animal  age  visits priority\n",
       "a    cat  2.5       1      yes\n",
       "f    cat  2.0       3       no"
      ]
     },
     "execution_count": 16,
     "metadata": {},
     "output_type": "execute_result"
    }
   ],
   "source": [
    "# Выберите строки, в которых животное — кошка, а возраст меньше 3 лет.\n",
    "df[(df['animal'] == 'cat') & (df['age'] < 3)]"
   ]
  },
  {
   "cell_type": "code",
   "execution_count": 17,
   "id": "1f379c7d",
   "metadata": {},
   "outputs": [
    {
     "data": {
      "text/html": [
       "<div>\n",
       "<style scoped>\n",
       "    .dataframe tbody tr th:only-of-type {\n",
       "        vertical-align: middle;\n",
       "    }\n",
       "\n",
       "    .dataframe tbody tr th {\n",
       "        vertical-align: top;\n",
       "    }\n",
       "\n",
       "    .dataframe thead th {\n",
       "        text-align: right;\n",
       "    }\n",
       "</style>\n",
       "<table border=\"1\" class=\"dataframe\">\n",
       "  <thead>\n",
       "    <tr style=\"text-align: right;\">\n",
       "      <th></th>\n",
       "      <th>animal</th>\n",
       "      <th>age</th>\n",
       "      <th>visits</th>\n",
       "      <th>priority</th>\n",
       "    </tr>\n",
       "  </thead>\n",
       "  <tbody>\n",
       "    <tr>\n",
       "      <th>a</th>\n",
       "      <td>cat</td>\n",
       "      <td>2.5</td>\n",
       "      <td>1</td>\n",
       "      <td>yes</td>\n",
       "    </tr>\n",
       "    <tr>\n",
       "      <th>b</th>\n",
       "      <td>cat</td>\n",
       "      <td>3.0</td>\n",
       "      <td>3</td>\n",
       "      <td>yes</td>\n",
       "    </tr>\n",
       "    <tr>\n",
       "      <th>f</th>\n",
       "      <td>cat</td>\n",
       "      <td>2.0</td>\n",
       "      <td>3</td>\n",
       "      <td>no</td>\n",
       "    </tr>\n",
       "    <tr>\n",
       "      <th>j</th>\n",
       "      <td>dog</td>\n",
       "      <td>3.0</td>\n",
       "      <td>1</td>\n",
       "      <td>no</td>\n",
       "    </tr>\n",
       "  </tbody>\n",
       "</table>\n",
       "</div>"
      ],
      "text/plain": [
       "  animal  age  visits priority\n",
       "a    cat  2.5       1      yes\n",
       "b    cat  3.0       3      yes\n",
       "f    cat  2.0       3       no\n",
       "j    dog  3.0       1       no"
      ]
     },
     "execution_count": 17,
     "metadata": {},
     "output_type": "execute_result"
    }
   ],
   "source": [
    "# Выберите строки с возрастом от 2 до 4 (включительно).\n",
    "df[df['age'].between(2, 4)]"
   ]
  },
  {
   "cell_type": "code",
   "execution_count": 19,
   "id": "86129b7d",
   "metadata": {},
   "outputs": [
    {
     "data": {
      "text/html": [
       "<div>\n",
       "<style scoped>\n",
       "    .dataframe tbody tr th:only-of-type {\n",
       "        vertical-align: middle;\n",
       "    }\n",
       "\n",
       "    .dataframe tbody tr th {\n",
       "        vertical-align: top;\n",
       "    }\n",
       "\n",
       "    .dataframe thead th {\n",
       "        text-align: right;\n",
       "    }\n",
       "</style>\n",
       "<table border=\"1\" class=\"dataframe\">\n",
       "  <thead>\n",
       "    <tr style=\"text-align: right;\">\n",
       "      <th></th>\n",
       "      <th>animal</th>\n",
       "      <th>age</th>\n",
       "      <th>visits</th>\n",
       "      <th>priority</th>\n",
       "    </tr>\n",
       "  </thead>\n",
       "  <tbody>\n",
       "    <tr>\n",
       "      <th>a</th>\n",
       "      <td>cat</td>\n",
       "      <td>2.5</td>\n",
       "      <td>1</td>\n",
       "      <td>yes</td>\n",
       "    </tr>\n",
       "    <tr>\n",
       "      <th>b</th>\n",
       "      <td>cat</td>\n",
       "      <td>3.0</td>\n",
       "      <td>3</td>\n",
       "      <td>yes</td>\n",
       "    </tr>\n",
       "    <tr>\n",
       "      <th>c</th>\n",
       "      <td>snake</td>\n",
       "      <td>0.5</td>\n",
       "      <td>2</td>\n",
       "      <td>no</td>\n",
       "    </tr>\n",
       "    <tr>\n",
       "      <th>d</th>\n",
       "      <td>dog</td>\n",
       "      <td>NaN</td>\n",
       "      <td>3</td>\n",
       "      <td>yes</td>\n",
       "    </tr>\n",
       "    <tr>\n",
       "      <th>e</th>\n",
       "      <td>dog</td>\n",
       "      <td>5.0</td>\n",
       "      <td>2</td>\n",
       "      <td>no</td>\n",
       "    </tr>\n",
       "    <tr>\n",
       "      <th>f</th>\n",
       "      <td>cat</td>\n",
       "      <td>1.5</td>\n",
       "      <td>3</td>\n",
       "      <td>no</td>\n",
       "    </tr>\n",
       "    <tr>\n",
       "      <th>g</th>\n",
       "      <td>snake</td>\n",
       "      <td>4.5</td>\n",
       "      <td>1</td>\n",
       "      <td>no</td>\n",
       "    </tr>\n",
       "    <tr>\n",
       "      <th>h</th>\n",
       "      <td>cat</td>\n",
       "      <td>NaN</td>\n",
       "      <td>1</td>\n",
       "      <td>yes</td>\n",
       "    </tr>\n",
       "    <tr>\n",
       "      <th>i</th>\n",
       "      <td>dog</td>\n",
       "      <td>7.0</td>\n",
       "      <td>2</td>\n",
       "      <td>no</td>\n",
       "    </tr>\n",
       "    <tr>\n",
       "      <th>j</th>\n",
       "      <td>dog</td>\n",
       "      <td>3.0</td>\n",
       "      <td>1</td>\n",
       "      <td>no</td>\n",
       "    </tr>\n",
       "  </tbody>\n",
       "</table>\n",
       "</div>"
      ],
      "text/plain": [
       "  animal  age  visits priority\n",
       "a    cat  2.5       1      yes\n",
       "b    cat  3.0       3      yes\n",
       "c  snake  0.5       2       no\n",
       "d    dog  NaN       3      yes\n",
       "e    dog  5.0       2       no\n",
       "f    cat  1.5       3       no\n",
       "g  snake  4.5       1       no\n",
       "h    cat  NaN       1      yes\n",
       "i    dog  7.0       2       no\n",
       "j    dog  3.0       1       no"
      ]
     },
     "execution_count": 19,
     "metadata": {},
     "output_type": "execute_result"
    }
   ],
   "source": [
    "# Измените возраст в строке «f» на 1,5.\n",
    "df.loc['f', 'age'] = 1.5\n",
    "df"
   ]
  },
  {
   "cell_type": "code",
   "execution_count": 20,
   "id": "bf5b1fc9",
   "metadata": {},
   "outputs": [
    {
     "data": {
      "text/plain": [
       "19"
      ]
     },
     "execution_count": 20,
     "metadata": {},
     "output_type": "execute_result"
    }
   ],
   "source": [
    "# Подсчитайте сумму всех посещений в df (т.е. найдите общее количество посещений).\n",
    "df['visits'].sum()"
   ]
  },
  {
   "cell_type": "code",
   "execution_count": 21,
   "id": "dfc53a1e",
   "metadata": {},
   "outputs": [
    {
     "data": {
      "text/plain": [
       "animal\n",
       "cat      2.333333\n",
       "dog      5.000000\n",
       "snake    2.500000\n",
       "Name: age, dtype: float64"
      ]
     },
     "execution_count": 21,
     "metadata": {},
     "output_type": "execute_result"
    }
   ],
   "source": [
    "# Рассчитайте средний возраст для каждого отдельного животного в df.\n",
    "df.groupby('animal')['age'].mean()"
   ]
  },
  {
   "cell_type": "markdown",
   "id": "7e3d70c4",
   "metadata": {},
   "source": [
    "Задание 4.\n",
    "12.\tДобавьте новую строку «k» в df с выбранными вами значениями для каждого столбца. Затем удалите эту строку, чтобы вернуть исходный DataFrame.\n",
    "13.\tПодсчитайте количество животных каждого вида в df.\n",
    "14.\tОтсортируйте df сначала по значениям в столбце «возраст» в порядке убывания, затем по значению в столбце «посещения» в порядке возрастания (таким образом, строка i должна быть первой, а строка d — последней).\n",
    "15.\tСтолбец «приоритет» содержит значения «да» и «нет». Замените этот столбец столбцом логических значений: «да» должно быть «Истина», а «нет» должно быть «Ложь».\n",
    "16.\tВ столбце «животное» измените записи «змея» на «питон».\n"
   ]
  },
  {
   "cell_type": "code",
   "execution_count": 22,
   "id": "67760a18",
   "metadata": {},
   "outputs": [],
   "source": [
    "# Добавьте новую строку «k» в df с выбранными вами значениями для каждого столбца.\n",
    "# Затем удалите эту строку, чтобы вернуть исходный DataFrame.\n",
    "df.loc['k'] = [5.5, 'dog', 'no', 2]\n",
    "df = df.drop('k')"
   ]
  },
  {
   "cell_type": "code",
   "execution_count": 23,
   "id": "b51f5397",
   "metadata": {},
   "outputs": [
    {
     "data": {
      "text/plain": [
       "cat      4\n",
       "dog      4\n",
       "snake    2\n",
       "Name: animal, dtype: int64"
      ]
     },
     "execution_count": 23,
     "metadata": {},
     "output_type": "execute_result"
    }
   ],
   "source": [
    "# Подсчитайте количество животных каждого вида в df.\n",
    "df['animal'].value_counts()"
   ]
  },
  {
   "cell_type": "code",
   "execution_count": 24,
   "id": "c145aea2",
   "metadata": {},
   "outputs": [
    {
     "data": {
      "text/html": [
       "<div>\n",
       "<style scoped>\n",
       "    .dataframe tbody tr th:only-of-type {\n",
       "        vertical-align: middle;\n",
       "    }\n",
       "\n",
       "    .dataframe tbody tr th {\n",
       "        vertical-align: top;\n",
       "    }\n",
       "\n",
       "    .dataframe thead th {\n",
       "        text-align: right;\n",
       "    }\n",
       "</style>\n",
       "<table border=\"1\" class=\"dataframe\">\n",
       "  <thead>\n",
       "    <tr style=\"text-align: right;\">\n",
       "      <th></th>\n",
       "      <th>animal</th>\n",
       "      <th>age</th>\n",
       "      <th>visits</th>\n",
       "      <th>priority</th>\n",
       "    </tr>\n",
       "  </thead>\n",
       "  <tbody>\n",
       "    <tr>\n",
       "      <th>i</th>\n",
       "      <td>dog</td>\n",
       "      <td>7.0</td>\n",
       "      <td>2</td>\n",
       "      <td>no</td>\n",
       "    </tr>\n",
       "    <tr>\n",
       "      <th>e</th>\n",
       "      <td>dog</td>\n",
       "      <td>5.0</td>\n",
       "      <td>2</td>\n",
       "      <td>no</td>\n",
       "    </tr>\n",
       "    <tr>\n",
       "      <th>g</th>\n",
       "      <td>snake</td>\n",
       "      <td>4.5</td>\n",
       "      <td>1</td>\n",
       "      <td>no</td>\n",
       "    </tr>\n",
       "    <tr>\n",
       "      <th>j</th>\n",
       "      <td>dog</td>\n",
       "      <td>3.0</td>\n",
       "      <td>1</td>\n",
       "      <td>no</td>\n",
       "    </tr>\n",
       "    <tr>\n",
       "      <th>b</th>\n",
       "      <td>cat</td>\n",
       "      <td>3.0</td>\n",
       "      <td>3</td>\n",
       "      <td>yes</td>\n",
       "    </tr>\n",
       "    <tr>\n",
       "      <th>a</th>\n",
       "      <td>cat</td>\n",
       "      <td>2.5</td>\n",
       "      <td>1</td>\n",
       "      <td>yes</td>\n",
       "    </tr>\n",
       "    <tr>\n",
       "      <th>f</th>\n",
       "      <td>cat</td>\n",
       "      <td>1.5</td>\n",
       "      <td>3</td>\n",
       "      <td>no</td>\n",
       "    </tr>\n",
       "    <tr>\n",
       "      <th>c</th>\n",
       "      <td>snake</td>\n",
       "      <td>0.5</td>\n",
       "      <td>2</td>\n",
       "      <td>no</td>\n",
       "    </tr>\n",
       "    <tr>\n",
       "      <th>h</th>\n",
       "      <td>cat</td>\n",
       "      <td>NaN</td>\n",
       "      <td>1</td>\n",
       "      <td>yes</td>\n",
       "    </tr>\n",
       "    <tr>\n",
       "      <th>d</th>\n",
       "      <td>dog</td>\n",
       "      <td>NaN</td>\n",
       "      <td>3</td>\n",
       "      <td>yes</td>\n",
       "    </tr>\n",
       "  </tbody>\n",
       "</table>\n",
       "</div>"
      ],
      "text/plain": [
       "  animal  age visits priority\n",
       "i    dog  7.0      2       no\n",
       "e    dog  5.0      2       no\n",
       "g  snake  4.5      1       no\n",
       "j    dog  3.0      1       no\n",
       "b    cat  3.0      3      yes\n",
       "a    cat  2.5      1      yes\n",
       "f    cat  1.5      3       no\n",
       "c  snake  0.5      2       no\n",
       "h    cat  NaN      1      yes\n",
       "d    dog  NaN      3      yes"
      ]
     },
     "execution_count": 24,
     "metadata": {},
     "output_type": "execute_result"
    }
   ],
   "source": [
    "# Отсортируйте df сначала по значениям в столбце «возраст» в порядке убывания,\n",
    "# затем по значению в столбце «посещения» в порядке возрастания (таким образом,\n",
    "# строка i должна быть первой, а строка d — последней).\n",
    "df.sort_values(by=['age', 'visits'], ascending=[False, True])"
   ]
  },
  {
   "cell_type": "code",
   "execution_count": 25,
   "id": "9f26651b",
   "metadata": {},
   "outputs": [],
   "source": [
    "# Столбец «приоритет» содержит значения «да» и «нет». \n",
    "# Замените этот столбец столбцом логических значений: «да» должно быть «Истина», а «нет» должно быть «Ложь».\n",
    "df['priority'] = df['priority'].map({'yes': True, 'no': False})"
   ]
  },
  {
   "cell_type": "code",
   "execution_count": 26,
   "id": "5d2ec601",
   "metadata": {},
   "outputs": [],
   "source": [
    "# В столбце «животное» измените записи «змея» на «питон».\n",
    "df['animal'] = df['animal'].replace('snake', 'python')"
   ]
  },
  {
   "cell_type": "markdown",
   "id": "66a37fed",
   "metadata": {},
   "source": [
    "Задание 5.\n",
    "Воспроизвести шаги задачи https://www.kaggle.com/code/kektyc/titanic-solution-a-beginner-s-guide-russian"
   ]
  },
  {
   "cell_type": "markdown",
   "id": "b5fe36b6",
   "metadata": {},
   "source": [
    "Задание 6. В tr_types выберите произвольные 100 строк с помощью метода sample (указав при этом random_seed равный 242)\n",
    "В полученной на предыдущем этапе подвыборке найдите долю наблюдений (стобец tr_description), в которой содержится подстрока 'плата' (в любом регистре).\n"
   ]
  },
  {
   "cell_type": "code",
   "execution_count": 27,
   "id": "88438143",
   "metadata": {},
   "outputs": [
    {
     "name": "stdout",
     "output_type": "stream",
     "text": [
      "0.24\n"
     ]
    }
   ],
   "source": [
    "df = pd.read_csv(\"tr_types.csv\", sep=';')\n",
    "df = df.sample(100, random_state=42)\n",
    "d = df.loc[df.tr_description.str.lower().str.contains('плата')].count()[0] / len(df)\n",
    "print(f\"{d:.2f}\")"
   ]
  },
  {
   "cell_type": "markdown",
   "id": "05552306",
   "metadata": {},
   "source": [
    "Задание 7. Для поля tr_type датафрейма transactions посчитайте частоту встречаемости всех типов транзакций tr_type в transactions.\n",
    "Перечислите названия топ-5 транзакций по частоте встречаемости.\n"
   ]
  },
  {
   "cell_type": "code",
   "execution_count": 41,
   "id": "e0deba7c",
   "metadata": {},
   "outputs": [],
   "source": [
    "transactions = pd.read_csv(\"transactions.csv\", nrows=1000000, sep=\",\")\n",
    "tr_types=pd.read_csv(\"tr_types.csv\", sep=\";\")\n",
    "gender_train=pd.read_csv(\"gender_train.csv\", sep=\",\")\n",
    "tr_mcc_codes=pd.read_csv(\"tr_mcc_codes.csv\", sep=\";\")"
   ]
  },
  {
   "cell_type": "code",
   "execution_count": 42,
   "id": "4e7affc3",
   "metadata": {},
   "outputs": [
    {
     "data": {
      "text/html": [
       "<div>\n",
       "<style scoped>\n",
       "    .dataframe tbody tr th:only-of-type {\n",
       "        vertical-align: middle;\n",
       "    }\n",
       "\n",
       "    .dataframe tbody tr th {\n",
       "        vertical-align: top;\n",
       "    }\n",
       "\n",
       "    .dataframe thead th {\n",
       "        text-align: right;\n",
       "    }\n",
       "</style>\n",
       "<table border=\"1\" class=\"dataframe\">\n",
       "  <thead>\n",
       "    <tr style=\"text-align: right;\">\n",
       "      <th></th>\n",
       "      <th>tr_type</th>\n",
       "      <th>tr_description</th>\n",
       "    </tr>\n",
       "  </thead>\n",
       "  <tbody>\n",
       "    <tr>\n",
       "      <th>59</th>\n",
       "      <td>7070</td>\n",
       "      <td>Перевод на карту (с карты) через Мобильный бан...</td>\n",
       "    </tr>\n",
       "    <tr>\n",
       "      <th>98</th>\n",
       "      <td>1010</td>\n",
       "      <td>Покупка. POS ТУ СБ РФ</td>\n",
       "    </tr>\n",
       "    <tr>\n",
       "      <th>99</th>\n",
       "      <td>1030</td>\n",
       "      <td>Оплата услуги. Банкоматы СБ РФ</td>\n",
       "    </tr>\n",
       "    <tr>\n",
       "      <th>101</th>\n",
       "      <td>1110</td>\n",
       "      <td>Покупка. POS ТУ Россия</td>\n",
       "    </tr>\n",
       "    <tr>\n",
       "      <th>106</th>\n",
       "      <td>2010</td>\n",
       "      <td>Выдача наличных в АТМ Сбербанк России</td>\n",
       "    </tr>\n",
       "  </tbody>\n",
       "</table>\n",
       "</div>"
      ],
      "text/plain": [
       "     tr_type                                     tr_description\n",
       "59      7070  Перевод на карту (с карты) через Мобильный бан...\n",
       "98      1010                              Покупка. POS ТУ СБ РФ\n",
       "99      1030                     Оплата услуги. Банкоматы СБ РФ\n",
       "101     1110                             Покупка. POS ТУ Россия\n",
       "106     2010              Выдача наличных в АТМ Сбербанк России"
      ]
     },
     "execution_count": 42,
     "metadata": {},
     "output_type": "execute_result"
    }
   ],
   "source": [
    "top_ten_transactions = transactions[\"tr_type\"].value_counts().sort_values(ascending=False).head(5)\n",
    "tr_types[tr_types[\"tr_type\"].isin(top_ten_transactions.index)]"
   ]
  },
  {
   "cell_type": "markdown",
   "id": "0aa74300",
   "metadata": {},
   "source": [
    "Задание 8. В датафрейме transactions задайте столбец customer_id в качестве индекса. Выделите клиента с максимальной суммой транзакции. Найдите у него наиболее часто встречающийся модуль суммы приходов/расходов."
   ]
  },
  {
   "cell_type": "code",
   "execution_count": 35,
   "id": "3021181b",
   "metadata": {},
   "outputs": [
    {
     "data": {
      "text/html": [
       "<div>\n",
       "<style scoped>\n",
       "    .dataframe tbody tr th:only-of-type {\n",
       "        vertical-align: middle;\n",
       "    }\n",
       "\n",
       "    .dataframe tbody tr th {\n",
       "        vertical-align: top;\n",
       "    }\n",
       "\n",
       "    .dataframe thead th {\n",
       "        text-align: right;\n",
       "    }\n",
       "</style>\n",
       "<table border=\"1\" class=\"dataframe\">\n",
       "  <thead>\n",
       "    <tr style=\"text-align: right;\">\n",
       "      <th></th>\n",
       "      <th>customer_id</th>\n",
       "      <th>tr_datetime</th>\n",
       "      <th>mcc_code</th>\n",
       "      <th>tr_type</th>\n",
       "      <th>amount</th>\n",
       "      <th>term_id</th>\n",
       "    </tr>\n",
       "  </thead>\n",
       "  <tbody>\n",
       "    <tr>\n",
       "      <th>0</th>\n",
       "      <td>39026145</td>\n",
       "      <td>0 10:23:26</td>\n",
       "      <td>4814</td>\n",
       "      <td>1030</td>\n",
       "      <td>-2245.92</td>\n",
       "      <td>NaN</td>\n",
       "    </tr>\n",
       "    <tr>\n",
       "      <th>1</th>\n",
       "      <td>39026145</td>\n",
       "      <td>1 10:19:29</td>\n",
       "      <td>6011</td>\n",
       "      <td>7010</td>\n",
       "      <td>56147.89</td>\n",
       "      <td>NaN</td>\n",
       "    </tr>\n",
       "    <tr>\n",
       "      <th>2</th>\n",
       "      <td>39026145</td>\n",
       "      <td>1 10:20:56</td>\n",
       "      <td>4829</td>\n",
       "      <td>2330</td>\n",
       "      <td>-56147.89</td>\n",
       "      <td>NaN</td>\n",
       "    </tr>\n",
       "    <tr>\n",
       "      <th>3</th>\n",
       "      <td>39026145</td>\n",
       "      <td>1 10:39:54</td>\n",
       "      <td>5499</td>\n",
       "      <td>1010</td>\n",
       "      <td>-1392.47</td>\n",
       "      <td>NaN</td>\n",
       "    </tr>\n",
       "    <tr>\n",
       "      <th>4</th>\n",
       "      <td>39026145</td>\n",
       "      <td>2 15:33:42</td>\n",
       "      <td>5499</td>\n",
       "      <td>1010</td>\n",
       "      <td>-920.83</td>\n",
       "      <td>NaN</td>\n",
       "    </tr>\n",
       "    <tr>\n",
       "      <th>...</th>\n",
       "      <td>...</td>\n",
       "      <td>...</td>\n",
       "      <td>...</td>\n",
       "      <td>...</td>\n",
       "      <td>...</td>\n",
       "      <td>...</td>\n",
       "    </tr>\n",
       "    <tr>\n",
       "      <th>499994</th>\n",
       "      <td>71186181</td>\n",
       "      <td>410 17:22:32</td>\n",
       "      <td>5499</td>\n",
       "      <td>1010</td>\n",
       "      <td>-14845.50</td>\n",
       "      <td>10268176</td>\n",
       "    </tr>\n",
       "    <tr>\n",
       "      <th>499995</th>\n",
       "      <td>71186181</td>\n",
       "      <td>411 12:41:25</td>\n",
       "      <td>5814</td>\n",
       "      <td>1110</td>\n",
       "      <td>-3571.01</td>\n",
       "      <td>26021835</td>\n",
       "    </tr>\n",
       "    <tr>\n",
       "      <th>499996</th>\n",
       "      <td>71186181</td>\n",
       "      <td>411 18:40:49</td>\n",
       "      <td>6011</td>\n",
       "      <td>2010</td>\n",
       "      <td>-15721.41</td>\n",
       "      <td>51586</td>\n",
       "    </tr>\n",
       "    <tr>\n",
       "      <th>499997</th>\n",
       "      <td>71186181</td>\n",
       "      <td>411 19:08:23</td>\n",
       "      <td>5411</td>\n",
       "      <td>1010</td>\n",
       "      <td>-13877.96</td>\n",
       "      <td>696286</td>\n",
       "    </tr>\n",
       "    <tr>\n",
       "      <th>499998</th>\n",
       "      <td>71186181</td>\n",
       "      <td>411 19:39:00</td>\n",
       "      <td>5411</td>\n",
       "      <td>1010</td>\n",
       "      <td>-12764.89</td>\n",
       "      <td>698937</td>\n",
       "    </tr>\n",
       "  </tbody>\n",
       "</table>\n",
       "<p>499999 rows × 6 columns</p>\n",
       "</div>"
      ],
      "text/plain": [
       "        customer_id   tr_datetime  mcc_code  tr_type    amount   term_id\n",
       "0          39026145    0 10:23:26      4814     1030  -2245.92       NaN\n",
       "1          39026145    1 10:19:29      6011     7010  56147.89       NaN\n",
       "2          39026145    1 10:20:56      4829     2330 -56147.89       NaN\n",
       "3          39026145    1 10:39:54      5499     1010  -1392.47       NaN\n",
       "4          39026145    2 15:33:42      5499     1010   -920.83       NaN\n",
       "...             ...           ...       ...      ...       ...       ...\n",
       "499994     71186181  410 17:22:32      5499     1010 -14845.50  10268176\n",
       "499995     71186181  411 12:41:25      5814     1110  -3571.01  26021835\n",
       "499996     71186181  411 18:40:49      6011     2010 -15721.41     51586\n",
       "499997     71186181  411 19:08:23      5411     1010 -13877.96    696286\n",
       "499998     71186181  411 19:39:00      5411     1010 -12764.89    698937\n",
       "\n",
       "[499999 rows x 6 columns]"
      ]
     },
     "execution_count": 35,
     "metadata": {},
     "output_type": "execute_result"
    }
   ],
   "source": [
    "max_ind = transactions[['amount']].idxmax()\n",
    "counts = abs(transactions.loc[transactions['customer_id'] == int(transactions['customer_id'][max_ind].values), 'amount']).value_counts()\n",
    "transactions"
   ]
  },
  {
   "cell_type": "markdown",
   "id": "fb9cec96",
   "metadata": {},
   "source": [
    "Задание 9. Найдите максимальную разницу между медианами по полю amount из таблицы transactions используя np.ptp:\n",
    "•\tМедиана суммы транзакций; \n",
    "•\tМедиана суммы транзакций по тем строкам, которые ни в одном из своих столбцов не содержат пустые значения; \n",
    "•\tМедиана суммы транзакций по строкам, отсортированным по полю amount в порядке возрастания, и из которых удалены дублирующиеся по столбцам [mcc_code, tr_type] строки, причём при удалении соответстующих дублей остаются только последние из дублирующихся строк (keep='last’)\n"
   ]
  },
  {
   "cell_type": "code",
   "execution_count": 36,
   "id": "8856e0f6",
   "metadata": {},
   "outputs": [
    {
     "name": "stdout",
     "output_type": "stream",
     "text": [
      "-8278169.38\n"
     ]
    }
   ],
   "source": [
    "# Task 1 \n",
    "summ = transactions.groupby('customer_id').sum() \n",
    "summ_medians = summ[\"amount\"].median()\n",
    "print(f\"{summ_medians:.2f}\")"
   ]
  },
  {
   "cell_type": "code",
   "execution_count": 37,
   "id": "8ac1ea6b",
   "metadata": {},
   "outputs": [
    {
     "name": "stdout",
     "output_type": "stream",
     "text": [
      "-4330125.64\n"
     ]
    }
   ],
   "source": [
    "# Task 2 \n",
    "without_nan = transactions.dropna() \n",
    "summ_nan = without_nan.groupby('customer_id').sum() \n",
    "summ_nan_medians = summ_nan[\"amount\"].median()\n",
    "print(f\"{summ_nan_medians:.2f}\")"
   ]
  },
  {
   "cell_type": "code",
   "execution_count": 38,
   "id": "f28334fd",
   "metadata": {},
   "outputs": [
    {
     "name": "stdout",
     "output_type": "stream",
     "text": [
      "-808.53\n"
     ]
    }
   ],
   "source": [
    "# Task 3 \n",
    "sorted__transactions = transactions.sort_values(by=\"amount\") \n",
    "sorted = sorted__transactions.drop_duplicates(subset=[\"mcc_code\", \"tr_type\"], keep=\"last\") \n",
    "summ_sort = sorted.groupby('customer_id').sum() \n",
    "summ_sort_medians = summ_sort[\"amount\"].median()\n",
    "print(f\"{summ_sort_medians:.2f}\")"
   ]
  },
  {
   "cell_type": "code",
   "execution_count": 39,
   "id": "fe193df6",
   "metadata": {},
   "outputs": [
    {
     "name": "stdout",
     "output_type": "stream",
     "text": [
      "8277360.85\n"
     ]
    }
   ],
   "source": [
    "# Main task\n",
    "dif = np.ptp([summ_medians, summ_nan_medians, summ_sort_medians]) \n",
    "print(f\"{dif:.2f}\") "
   ]
  },
  {
   "cell_type": "markdown",
   "id": "5720ae97",
   "metadata": {},
   "source": [
    "Задание 10. Соедините transactions с всеми остальными таблицами (tr_mcc_codes, tr_types, gender). Причём с customers_gender необходимо смёрджиться с помощью left join, а с оставшимися датафреймами - через inner. После получения результата таблицы gender, tr_types, tr_mcc_codes можно удалить. Определите модуль разницы между средними тратами женщин и мужчин (трата - отрицательное значение amount)."
   ]
  },
  {
   "cell_type": "code",
   "execution_count": 44,
   "id": "8402708c",
   "metadata": {},
   "outputs": [
    {
     "data": {
      "text/html": [
       "<div>\n",
       "<style scoped>\n",
       "    .dataframe tbody tr th:only-of-type {\n",
       "        vertical-align: middle;\n",
       "    }\n",
       "\n",
       "    .dataframe tbody tr th {\n",
       "        vertical-align: top;\n",
       "    }\n",
       "\n",
       "    .dataframe thead th {\n",
       "        text-align: right;\n",
       "    }\n",
       "</style>\n",
       "<table border=\"1\" class=\"dataframe\">\n",
       "  <thead>\n",
       "    <tr style=\"text-align: right;\">\n",
       "      <th></th>\n",
       "      <th>customer_id</th>\n",
       "      <th>tr_datetime</th>\n",
       "      <th>mcc_code</th>\n",
       "      <th>tr_type</th>\n",
       "      <th>amount</th>\n",
       "      <th>term_id</th>\n",
       "      <th>gender</th>\n",
       "      <th>mcc_description</th>\n",
       "      <th>tr_description</th>\n",
       "    </tr>\n",
       "  </thead>\n",
       "  <tbody>\n",
       "    <tr>\n",
       "      <th>0</th>\n",
       "      <td>39026145</td>\n",
       "      <td>0 10:23:26</td>\n",
       "      <td>4814</td>\n",
       "      <td>1030</td>\n",
       "      <td>-2245.92</td>\n",
       "      <td>NaN</td>\n",
       "      <td>1.0</td>\n",
       "      <td>Звонки с использованием телефонов, считывающих...</td>\n",
       "      <td>Оплата услуги. Банкоматы СБ РФ</td>\n",
       "    </tr>\n",
       "    <tr>\n",
       "      <th>1</th>\n",
       "      <td>39026145</td>\n",
       "      <td>6 07:08:31</td>\n",
       "      <td>4814</td>\n",
       "      <td>1030</td>\n",
       "      <td>-5614.79</td>\n",
       "      <td>NaN</td>\n",
       "      <td>1.0</td>\n",
       "      <td>Звонки с использованием телефонов, считывающих...</td>\n",
       "      <td>Оплата услуги. Банкоматы СБ РФ</td>\n",
       "    </tr>\n",
       "    <tr>\n",
       "      <th>2</th>\n",
       "      <td>39026145</td>\n",
       "      <td>8 07:06:10</td>\n",
       "      <td>4814</td>\n",
       "      <td>1030</td>\n",
       "      <td>-1122.96</td>\n",
       "      <td>NaN</td>\n",
       "      <td>1.0</td>\n",
       "      <td>Звонки с использованием телефонов, считывающих...</td>\n",
       "      <td>Оплата услуги. Банкоматы СБ РФ</td>\n",
       "    </tr>\n",
       "    <tr>\n",
       "      <th>3</th>\n",
       "      <td>39026145</td>\n",
       "      <td>11 08:49:03</td>\n",
       "      <td>4814</td>\n",
       "      <td>1030</td>\n",
       "      <td>-2245.92</td>\n",
       "      <td>NaN</td>\n",
       "      <td>1.0</td>\n",
       "      <td>Звонки с использованием телефонов, считывающих...</td>\n",
       "      <td>Оплата услуги. Банкоматы СБ РФ</td>\n",
       "    </tr>\n",
       "    <tr>\n",
       "      <th>4</th>\n",
       "      <td>39026145</td>\n",
       "      <td>11 14:12:08</td>\n",
       "      <td>4814</td>\n",
       "      <td>1030</td>\n",
       "      <td>-2245.92</td>\n",
       "      <td>NaN</td>\n",
       "      <td>1.0</td>\n",
       "      <td>Звонки с использованием телефонов, считывающих...</td>\n",
       "      <td>Оплата услуги. Банкоматы СБ РФ</td>\n",
       "    </tr>\n",
       "    <tr>\n",
       "      <th>...</th>\n",
       "      <td>...</td>\n",
       "      <td>...</td>\n",
       "      <td>...</td>\n",
       "      <td>...</td>\n",
       "      <td>...</td>\n",
       "      <td>...</td>\n",
       "      <td>...</td>\n",
       "      <td>...</td>\n",
       "      <td>...</td>\n",
       "    </tr>\n",
       "    <tr>\n",
       "      <th>499835</th>\n",
       "      <td>8424966</td>\n",
       "      <td>434 12:03:26</td>\n",
       "      <td>4829</td>\n",
       "      <td>2340</td>\n",
       "      <td>-44918.32</td>\n",
       "      <td>890744</td>\n",
       "      <td>1.0</td>\n",
       "      <td>Денежные переводы</td>\n",
       "      <td>Списание с карты по операции “перевода с карты...</td>\n",
       "    </tr>\n",
       "    <tr>\n",
       "      <th>499836</th>\n",
       "      <td>81807105</td>\n",
       "      <td>214 11:05:44</td>\n",
       "      <td>4829</td>\n",
       "      <td>2340</td>\n",
       "      <td>-47274.06</td>\n",
       "      <td>654571</td>\n",
       "      <td>0.0</td>\n",
       "      <td>Денежные переводы</td>\n",
       "      <td>Списание с карты по операции “перевода с карты...</td>\n",
       "    </tr>\n",
       "    <tr>\n",
       "      <th>499837</th>\n",
       "      <td>8180711</td>\n",
       "      <td>19 11:31:46</td>\n",
       "      <td>4829</td>\n",
       "      <td>2340</td>\n",
       "      <td>-12352536.75</td>\n",
       "      <td>NaN</td>\n",
       "      <td>NaN</td>\n",
       "      <td>Денежные переводы</td>\n",
       "      <td>Списание с карты по операции “перевода с карты...</td>\n",
       "    </tr>\n",
       "    <tr>\n",
       "      <th>499838</th>\n",
       "      <td>95895478</td>\n",
       "      <td>405 11:03:12</td>\n",
       "      <td>4829</td>\n",
       "      <td>4061</td>\n",
       "      <td>-673.77</td>\n",
       "      <td>127180</td>\n",
       "      <td>NaN</td>\n",
       "      <td>Денежные переводы</td>\n",
       "      <td>Плата за перевод на карту (с карты) через POS ...</td>\n",
       "    </tr>\n",
       "    <tr>\n",
       "      <th>499839</th>\n",
       "      <td>95895478</td>\n",
       "      <td>405 11:03:60</td>\n",
       "      <td>4829</td>\n",
       "      <td>2341</td>\n",
       "      <td>-37506.79</td>\n",
       "      <td>127180</td>\n",
       "      <td>NaN</td>\n",
       "      <td>Денежные переводы</td>\n",
       "      <td>Списание с карты по операции “перевода с карты...</td>\n",
       "    </tr>\n",
       "  </tbody>\n",
       "</table>\n",
       "<p>499840 rows × 9 columns</p>\n",
       "</div>"
      ],
      "text/plain": [
       "        customer_id   tr_datetime  mcc_code  tr_type       amount term_id  \\\n",
       "0          39026145    0 10:23:26      4814     1030     -2245.92     NaN   \n",
       "1          39026145    6 07:08:31      4814     1030     -5614.79     NaN   \n",
       "2          39026145    8 07:06:10      4814     1030     -1122.96     NaN   \n",
       "3          39026145   11 08:49:03      4814     1030     -2245.92     NaN   \n",
       "4          39026145   11 14:12:08      4814     1030     -2245.92     NaN   \n",
       "...             ...           ...       ...      ...          ...     ...   \n",
       "499835      8424966  434 12:03:26      4829     2340    -44918.32  890744   \n",
       "499836     81807105  214 11:05:44      4829     2340    -47274.06  654571   \n",
       "499837      8180711   19 11:31:46      4829     2340 -12352536.75     NaN   \n",
       "499838     95895478  405 11:03:12      4829     4061      -673.77  127180   \n",
       "499839     95895478  405 11:03:60      4829     2341    -37506.79  127180   \n",
       "\n",
       "        gender                                    mcc_description  \\\n",
       "0          1.0  Звонки с использованием телефонов, считывающих...   \n",
       "1          1.0  Звонки с использованием телефонов, считывающих...   \n",
       "2          1.0  Звонки с использованием телефонов, считывающих...   \n",
       "3          1.0  Звонки с использованием телефонов, считывающих...   \n",
       "4          1.0  Звонки с использованием телефонов, считывающих...   \n",
       "...        ...                                                ...   \n",
       "499835     1.0                                  Денежные переводы   \n",
       "499836     0.0                                  Денежные переводы   \n",
       "499837     NaN                                  Денежные переводы   \n",
       "499838     NaN                                  Денежные переводы   \n",
       "499839     NaN                                  Денежные переводы   \n",
       "\n",
       "                                           tr_description  \n",
       "0                          Оплата услуги. Банкоматы СБ РФ  \n",
       "1                          Оплата услуги. Банкоматы СБ РФ  \n",
       "2                          Оплата услуги. Банкоматы СБ РФ  \n",
       "3                          Оплата услуги. Банкоматы СБ РФ  \n",
       "4                          Оплата услуги. Банкоматы СБ РФ  \n",
       "...                                                   ...  \n",
       "499835  Списание с карты по операции “перевода с карты...  \n",
       "499836  Списание с карты по операции “перевода с карты...  \n",
       "499837  Списание с карты по операции “перевода с карты...  \n",
       "499838  Плата за перевод на карту (с карты) через POS ...  \n",
       "499839  Списание с карты по операции “перевода с карты...  \n",
       "\n",
       "[499840 rows x 9 columns]"
      ]
     },
     "execution_count": 44,
     "metadata": {},
     "output_type": "execute_result"
    }
   ],
   "source": [
    "df = transactions.merge(tr_mcc_codes).merge(tr_types).merge(gender_train, how='left')\n",
    "df"
   ]
  },
  {
   "cell_type": "code",
   "execution_count": 46,
   "id": "01f1732b",
   "metadata": {},
   "outputs": [
    {
     "data": {
      "text/plain": [
       "35040.92"
      ]
     },
     "execution_count": 46,
     "metadata": {},
     "output_type": "execute_result"
    }
   ],
   "source": [
    "# Определите модуль разницы между средними тратами женщин и мужчин (трата - отрицательное значение amount).\n",
    "dfc=df.copy()\n",
    "g = dfc.loc[dfc['amount']<0].groupby(['gender']).amount.mean()\n",
    "g1=g[1]-g[0]\n",
    "abs(g1.round(2))"
   ]
  },
  {
   "cell_type": "code",
   "execution_count": 45,
   "id": "89408288",
   "metadata": {},
   "outputs": [
    {
     "data": {
      "text/plain": [
       "(499840, 9)"
      ]
     },
     "execution_count": 45,
     "metadata": {},
     "output_type": "execute_result"
    }
   ],
   "source": [
    "transactions = pd.merge(transactions, gender_train, how='left')\n",
    "transactions = pd.merge(transactions, tr_mcc_codes, how='inner')\n",
    "transactions = pd.merge(transactions, tr_types, how='inner')\n",
    "transactions.shape"
   ]
  },
  {
   "cell_type": "code",
   "execution_count": 47,
   "id": "5b026c5a",
   "metadata": {},
   "outputs": [
    {
     "data": {
      "text/plain": [
       "35040.918362733115"
      ]
     },
     "execution_count": 47,
     "metadata": {},
     "output_type": "execute_result"
    }
   ],
   "source": [
    "negative_trasactions_grouped_by_gender = transactions[transactions[\"amount\"] < 0].groupby(\"gender\")[\"amount\"].mean()\n",
    "abs(negative_trasactions_grouped_by_gender[0] - negative_trasactions_grouped_by_gender[1])"
   ]
  },
  {
   "cell_type": "markdown",
   "id": "95c9bc60",
   "metadata": {},
   "source": [
    "Задание 11. Создайте новый столбец - mcc_code+tr_type, сконкатенировав значения из соответствующих столбцов. Оставьте только наблюдения с отрицательным значением amount. Посчитайте дисперсию по категориям получившегося столбца mcc_code+tr_type, в которых количество наблюдений >= 10.\n",
    "Определите отношение максимальной дисперсии к минимальной.\n"
   ]
  },
  {
   "cell_type": "code",
   "execution_count": 48,
   "id": "128afb5e",
   "metadata": {},
   "outputs": [
    {
     "data": {
      "text/plain": [
       "8027934"
      ]
     },
     "execution_count": 48,
     "metadata": {},
     "output_type": "execute_result"
    }
   ],
   "source": [
    "dfc1=df.copy()\n",
    "dfc1['mcc_code+tr_type'] = dfc1.mcc_code.map(str) + dfc1.tr_type.map(str)\n",
    "dfc2 = dfc1[['mcc_code+tr_type', 'amount']][dfc1.amount < 0]\n",
    "fltr = lambda group_df: len(group_df['amount']) >= 10\n",
    "amount = (dfc1.groupby('mcc_code+tr_type').filter(fltr) \n",
    "            .groupby('mcc_code+tr_type').var()).amount  \n",
    "np.rint( amount.max() / amount.min()).astype(int)"
   ]
  },
  {
   "cell_type": "code",
   "execution_count": 52,
   "id": "7c13c87c",
   "metadata": {},
   "outputs": [
    {
     "data": {
      "text/plain": [
       "28201757535984"
      ]
     },
     "execution_count": 52,
     "metadata": {},
     "output_type": "execute_result"
    }
   ],
   "source": [
    "df[\"mcc_code+tr_type\"] = df[\"mcc_code\"].astype(str) + df[\"tr_type\"].astype(str)\n",
    "res = (df\n",
    "       .query(\"amount < 0\")\n",
    "       .groupby(\"mcc_code+tr_type\")\n",
    "       [\"amount\"]\n",
    "       .agg(lambda x: x.var()**2 if len(x)>=10 else np.nan).dropna())\n",
    "ratio = round(res.max() / res.min())\n",
    "ratio"
   ]
  },
  {
   "cell_type": "code",
   "execution_count": 53,
   "id": "38f41c42",
   "metadata": {},
   "outputs": [
    {
     "data": {
      "text/plain": [
       "5310533"
      ]
     },
     "execution_count": 53,
     "metadata": {},
     "output_type": "execute_result"
    }
   ],
   "source": [
    "df['mcc_code+tr_type'] = df.mcc_code.map(str) + df.tr_type.map(str)\n",
    "df = df[['mcc_code+tr_type', 'amount']][df.amount < 0]\n",
    "fltr = lambda group_df: len(group_df['amount']) >= 10\n",
    "amount = (df.groupby('mcc_code+tr_type').filter(fltr) \n",
    "            .groupby('mcc_code+tr_type').var()).amount  \n",
    "np.rint( amount.max() / amount.min()).astype(int)"
   ]
  },
  {
   "cell_type": "code",
   "execution_count": 54,
   "id": "8ac0113a",
   "metadata": {},
   "outputs": [
    {
     "data": {
      "text/plain": [
       "5310533"
      ]
     },
     "execution_count": 54,
     "metadata": {},
     "output_type": "execute_result"
    }
   ],
   "source": [
    "df.query('amount < 0').groupby(['mcc_code+tr_type'])['amount'] \\\n",
    "                                  .agg(['count', 'var']) \\\n",
    "                                  .query('count >= 10')['var'] \\\n",
    "                                  .agg(lambda x: round(max(x) / min(x)))\n"
   ]
  },
  {
   "cell_type": "raw",
   "id": "432f5a87",
   "metadata": {},
   "source": [
    "Задание 12. Выделите из поля tr_datetime относительный день tr_day (первое число до точного времени). Отфильтруйте строки таким образом, чтобы оставить только те транзакции, у которых в соответствующий относительный день tr_day количество уникальных MCC кодов при транзакциях было больше 75 (можно воспользоваться функцией nunique()). Сгруппируйте полученный отфильтрованный датафрейм по MCC коду и полу, после чего, пронализировав результат, выберите варианты ответов ниже:\n",
    "1) gender == 0 - женщины, gender == 1 - мужчины\n",
    "2) gender == 1 - женщины, gender == 0 - мужчины\n",
    "3) Медиана трат «Флористика» у мужчин выше чем у женщин\n",
    "4) Медиана женских трат на ценные бумаги выше мужских\n",
    "5) Медиана женских трат в категории бары ниже мужских\n"
   ]
  },
  {
   "cell_type": "code",
   "execution_count": 56,
   "id": "ec94366a",
   "metadata": {},
   "outputs": [
    {
     "name": "stdout",
     "output_type": "stream",
     "text": [
      "mcc_code  mcc_description                                           \n",
      "4722      Туристические агентства и организаторы экскурсий              245547.090\n",
      "4511      Авиалинии, авиакомпании, нигде более не классифицированные    207432.780\n",
      "5211      Лесо- и строительный материал                                 203906.690\n",
      "3000      Авиалинии, авиакомпании                                        72116.360\n",
      "4829      Денежные переводы                                              51656.065\n",
      "Name: amount, dtype: float64\n",
      "mcc_code  mcc_description                                                  \n",
      "5732      Продажа электронного оборудования                                    406510.75\n",
      "9399      Правительственные услуги, нигде ранее не классифицируемые            153774.26\n",
      "5655      Спортивная одежда, одежда для верховой езды и езды на мотоцикле      119707.31\n",
      "5944      Магазины по продаже часов, ювелирных изделий и изделий из серебра    110049.87\n",
      "5399      Различные товары общего назначения                                    51206.88\n",
      "Name: amount, dtype: float64\n",
      "gender\n",
      "0.0    18641.1\n",
      "Name: amount, dtype: float64\n",
      "gender\n",
      "1.0    22459.16\n",
      "Name: amount, dtype: float64\n",
      "Series([], Name: amount, dtype: float64)\n"
     ]
    }
   ],
   "source": [
    "df = transactions.merge(tr_mcc_codes).merge(tr_types).merge(gender_train, how='left')\n",
    "df_cc=df.copy()\n",
    "df_cc['tr_day'] = df_cc.tr_datetime.str.split(expand=True)[0]\n",
    "qwe = df_cc[df_cc.groupby('tr_day')['mcc_code'].transform('nunique')>75]\n",
    "tas = qwe.groupby(['gender','mcc_code', 'mcc_description']).amount.median().abs()\n",
    "print(tas[0].nlargest()) ### женщины 0\n",
    "print(tas[1].nlargest()) ### мужчины 1\n",
    "qwe1 = qwe[qwe['mcc_description'].str.contains(\"Флористика\")].groupby(['gender']).amount.median().abs() ### ДА\n",
    "print(qwe1)\n",
    "qwe2 = qwe[qwe['mcc_description'].str.contains(\"Ценные бумаги\")].groupby(['gender']).amount.median().abs() ### НЕТ\n",
    "print(qwe2)\n",
    "qwe3 = qwe[qwe['mcc_description'].str.contains(\"коктейль-бары\")].groupby(['gender']).amount.median().abs() ### ДА\n",
    "print(qwe3)"
   ]
  },
  {
   "cell_type": "raw",
   "id": "414c5601",
   "metadata": {},
   "source": [
    "https://ru.stackoverflow.com/questions/1108331/Задача-по-pandas-Сложная-фильтрация\n",
    "Всем доброго времени суток! Хочу поделиться своим практическим решением данной задачи целиком.\n",
    "*Task 4: -Выделите из поля tr_datetime относительный день tr_day (первое число до точного времени). -Отфильтруйте строки таким образом, чтобы оставить только те транзакции, у которых в соответствующий относительный день tr_day количество уникальных MCC кодов при транзакциях было больше 75 (можно воспользоваться функцией nunique()) -Сгруппируйте полученный отфильтрованный датафрейм по MCC коду и полу, после чего, пронализировав результат, выберите верные варианты ответов ниже:\n",
    "1.\tgender == 0 - женщины, gender == 1 - мужчины\n",
    "2.\tgender == 1 - женщины, gender == 0 - мужчины\n",
    "3.\tАбсолютное значение медианы с типом \"Флористика\" (расходов/приходов) у мужчин выше той же медианы у женщин\n",
    "4.\tАбсолютное значение медианы женских трат (расходов/приходов) на ценные бумаги выше мужских\n",
    "5.\tАбсолютное значение медианы женских трат (расходов/приходов) в категории \"Бары, коктейль-бары, дискотеки, ночные клубы и таверны — места продажи алкогольных напитков\" ниже мужских Пояснения: -Для того, чтобы выделить всё, что стоит до первого пробела, можо использовать строковые методы для датафрейма - .str.split(), например. Либо же реализовывать логику выделения подстроки с помощью метода apply. -Понять, какой класс к какому типу транзакций (мужские/женские) относится можно, если поизучать типичные для мужчин/женщин категории и сравнить средние/медианы расходов и/или приходов в них.*\n",
    "Дилетантским, конечно, способом, но давшим правильный ответ:) (Я начал изучать Питон и решал эту задачу в рамках курса \"Python для анализа данных\", Сберуниверситет. На ней очень сильно споткнулся...)\n",
    "`import pandas as pd\n",
    "import numpy as np\n",
    "pd.options.display.max_rows = 10`\n",
    "#закачиваем данные из файлов (сами файлы не привожу, считаю, что они у вас есть)\n",
    "`customers_gender_train = pd.read_csv(\"Python And Data Analysis/data/gender_train.csv\", sep = ',')\n",
    "tr_types = pd.read_csv(\"Python And Data Analysis/data/tr_types.csv\", sep = ';')\n",
    "tr_mcc_codes = pd.read_csv(\"Python And Data Analysis/data/tr_mcc_codes.csv\", sep = ';')\n",
    "transactions = pd.read_csv(\"Python And Data Analysis/data/transactions.csv\", sep = ',', nrows = 1000000)`\n",
    "#осуществляем необходимые слияния таблиц (Task 0):\n",
    "`t = pd.merge(transactions,tr_mcc_codes)\n",
    "t1 = pd.merge(t,tr_types)\n",
    "t2 = pd.merge(t1, customers_gender_train, how='left')\n",
    "t2 #смотрим, что получилось`\n",
    "#Собственно, решение:\n",
    "#разбиваем дату-время на отдельные колонки (отделяя их в новую табличку):\n",
    "`new_t2 = t2['tr_datetime'].str.split(' ',expand=True)\n",
    "new_t2.columns=['tr_day','tr_time'] #даем колонкам нужные названия\n",
    "new_t2['tr_day'] = pd.to_numeric(new_t2.tr_day) #делаем колонку tr_day числовой\n",
    "t2 = pd.concat([t2,new_t2],axis=1) #сливаемся с основной таблицей\n",
    "t2 #смотрим, что получилось`\n",
    "#осуществляем необходимую фильтрацию:\n",
    "g2 = t2.groupby(['tr_day']) #здесь ТОЛЬКО группируем (разбиваем исходный фрейм на группы; с 'mcc_code' пока ничего не делаем! считать (ПРИМЕНЯТЬ ФУНКЦИЮ) будем потом!\n",
    "t22 = g2.filter(lambda x: x['mcc_code'].nunique() > 75) #СОЛЬ ЗДЕСЬ!!! :) #ну а теперь фильтруем ИСХОДНЫЙ фрейм t2 - ПРИМЕНЯЕМ ФУНКЦИЮ к каждой группе #- Function to apply to each subframe. Should return True or False. (из pandas.pydata.org - DataFrameGroupBy.filter)\n",
    "t22 #смотрим, что получилось\n",
    "#изучаем вручную (в отдельной табличке) мужские и женские mcc_code:\n",
    "`pd.options.display.max_rows = 1000 t222 = t22.copy()\n",
    "t222.sort_values(by=['mcc_code','gender'], inplace=True)\n",
    "t222[\"abs_amount\"] = abs(t222.amount) #абс. значение суммы, т.е. не важно тратили или получали деньги\n",
    "t222.groupby(['mcc_description','gender']).abs_amount.median() ` #определение пола: 1-мужики (мото,горючее,спирт,дороги...) #0-дамы (секонд, бакалея, ж.одежда...)\n",
    "#находим ответы на вопросы 3-5:\n",
    "`pd.options.display.max_rows = 10\n",
    "t222[t222[\"mcc_description\"].str.contains(\"Флористика\")].groupby(['gender']).amount.median() #3` gender 0.0 -12352.54 1.0 -19090.28 #ДА - 3) Абсолютное значение медианы с типом \"Флористика\" (расходов/приходов) у мужчин выше той же медианы у женщин\n",
    "t222[t222[\"mcc_description\"].str.contains(\"Ценные бумаги\")].groupby(['gender']).amount.median() #4 gender 0.0 -6737.75 1.0 -11229.58 #НЕТ - 4) Абсолютное значение медианы женских трат (расходов/приходов) на ценные бумаги выше мужских (Ценные бумаги: брокеры/дилеры)\n",
    "t222[t222[\"mcc_description\"].str.contains(\"коктейль-бары\")].groupby(['gender']).amount.median() #5 gender 0.0 -9387.93 1.0 -12667.86 #ДА - 5) Абсолютное значение медианы женских трат (расходов/приходов) в категории \"Бары, коктейль-бары, дискотеки, #ночные клубы и таверны — места продажи алкогольных напитков\" ниже мужски\n"
   ]
  },
  {
   "cell_type": "markdown",
   "id": "875a01b6",
   "metadata": {},
   "source": [
    "Задание 13. Разбейте расходы на 5 бакетов amount_bucket равного объёма (с помощью pd.qcut), разбив все траты на категории 'Very High', 'High', 'Middle', 'Low', 'Very Low’. Оставшиеся неотрицательные траты отнесите к категории 'Income'. (воспользуйтесь функцией .cat.add_categories('Income') для того, чтобы добавить новую категорию 'Income' к категориям 'Very High', 'High', 'Middle', 'Low', 'Very Low’, и заполните пустые значения новой категорией). Из поля tr_datetime выделите час tr_hour, в который произошла транзакция, как первые 2 цифры до \":\".После этого постройте сводную таблицу, значениями в которой является пол gender, индексы - tr_hour, столбцы - amount_bucket. Отрисуйте полученные результаты, передав их в функцию plot_pivot_table, расположенную ниже.\n",
    "import matplotlib.pyplot as plt\n",
    "import seaborn as sns \n",
    "def plot_pivot_table(pivot_table):\n",
    "    plt.figure(figsize=(9, 11))\n",
    "    sns.heatmap(pivot_table, cmap=\"YlGnBu\", annot=True, \n",
    "                fmt='.3g', annot_kws={\"fontsize\": 14})\n",
    "    plt.xticks(fontsize=15)\n",
    "    plt.yticks(rotation=0, fontsize=15)\n",
    "    plt.xlabel('Bucket', size=18)\n",
    "    plt.ylabel('Hour', fontsize=18)\n",
    "    plt.title('Gender analysis per bucket and hour', fontsize=20)\n",
    "    plt.show()\n",
    "Выберите верные ответы на вопросы ниже.\n",
    "1) Ночные поступления денег (01-05 часов) в более чем 85% случаев являются мужскими.\n",
    "2) Посмотрев на долю мужчин в поступлениях средств (Income), можно сделать вывод, что количество поступлений средств женщинам в целом больше, чем мужчинам.\n",
    "3) Самые низкие траты в 3 часа ночи осуществляются в более 70% случаев женщинами.\n",
    "4) Существуют особые часы в мелких тратах, когда женщины тратят намного больше мужчин (>80%)\n",
    "5) Посмотрев на долю мужчин в максимальных тратах средств (Very High), можно сделать вывод, что количество высоких трат в каждый возможный час мужчин больше, чем у женщин.\n"
   ]
  },
  {
   "cell_type": "code",
   "execution_count": 64,
   "id": "66d89118",
   "metadata": {},
   "outputs": [],
   "source": [
    "def plot_pivot_table(pivot_table):\n",
    "    plt.figure(figsize=(9, 11))\n",
    "    sns.heatmap(pivot_table, cmap=\"YlGnBu\", annot=True, \n",
    "                fmt='.3g', annot_kws={\"size\": 14, \"fontsize\": 14})\n",
    "    plt.xticks(fontsize=15)\n",
    "    plt.yticks(rotation=0, fontsize=15)\n",
    "    plt.xlabel('Bucket', size=18)\n",
    "    plt.ylabel('Hour', fontsize=18)\n",
    "    plt.title('Gender analysis per bucket and hour', fontsize=20)\n",
    "    plt.show()"
   ]
  },
  {
   "cell_type": "code",
   "execution_count": 65,
   "id": "f02699ab",
   "metadata": {},
   "outputs": [
    {
     "name": "stdout",
     "output_type": "stream",
     "text": [
      "amount_bucket  Very High      High    Middle       Low  Very Low    Income\n",
      "tr_hour                                                                   \n",
      "0               0.597791  0.648212  0.572006  0.581988  0.596785  0.851365\n",
      "1               0.572414  0.632184  0.628319  0.618785  0.568323  0.986577\n",
      "2               0.545894  0.467153  0.642336  0.484375  0.363844  0.989160\n",
      "3               0.566456  0.480000  0.504808  0.448378  0.311558  0.983131\n",
      "4               0.602709  0.546667  0.554217  0.567398  0.369830  0.978221\n",
      "...                  ...       ...       ...       ...       ...       ...\n",
      "19              0.588571  0.552452  0.535344  0.565344  0.544799  0.692563\n",
      "20              0.607438  0.537080  0.562714  0.592543  0.545654  0.695470\n",
      "21              0.654613  0.606993  0.560865  0.602664  0.530083  0.711579\n",
      "22              0.620079  0.648107  0.633803  0.618117  0.453638  0.709974\n",
      "23              0.562500  0.661538  0.636364  0.520492  0.347395  0.834262\n",
      "\n",
      "[24 rows x 6 columns]\n"
     ]
    },
    {
     "ename": "TypeError",
     "evalue": "Got both 'size' and 'fontsize', which are aliases of one another",
     "output_type": "error",
     "traceback": [
      "\u001b[1;31m---------------------------------------------------------------------------\u001b[0m",
      "\u001b[1;31mTypeError\u001b[0m                                 Traceback (most recent call last)",
      "Input \u001b[1;32mIn [65]\u001b[0m, in \u001b[0;36m<cell line: 10>\u001b[1;34m()\u001b[0m\n\u001b[0;32m      8\u001b[0m dt_co \u001b[38;5;241m=\u001b[39m df_copy\u001b[38;5;241m.\u001b[39mpivot_table(index\u001b[38;5;241m=\u001b[39m\u001b[38;5;124m'\u001b[39m\u001b[38;5;124mtr_hour\u001b[39m\u001b[38;5;124m'\u001b[39m,columns\u001b[38;5;241m=\u001b[39m\u001b[38;5;124m'\u001b[39m\u001b[38;5;124mamount_bucket\u001b[39m\u001b[38;5;124m'\u001b[39m,values\u001b[38;5;241m=\u001b[39m\u001b[38;5;124m'\u001b[39m\u001b[38;5;124mgender\u001b[39m\u001b[38;5;124m'\u001b[39m)\n\u001b[0;32m      9\u001b[0m \u001b[38;5;28mprint\u001b[39m(dt_co)\n\u001b[1;32m---> 10\u001b[0m \u001b[38;5;28mprint\u001b[39m(\u001b[43mplot_pivot_table\u001b[49m\u001b[43m(\u001b[49m\u001b[43mdt_co\u001b[49m\u001b[43m)\u001b[49m)\n\u001b[0;32m     11\u001b[0m df_copy\n",
      "Input \u001b[1;32mIn [64]\u001b[0m, in \u001b[0;36mplot_pivot_table\u001b[1;34m(pivot_table)\u001b[0m\n\u001b[0;32m      1\u001b[0m \u001b[38;5;28;01mdef\u001b[39;00m \u001b[38;5;21mplot_pivot_table\u001b[39m(pivot_table):\n\u001b[0;32m      2\u001b[0m     plt\u001b[38;5;241m.\u001b[39mfigure(figsize\u001b[38;5;241m=\u001b[39m(\u001b[38;5;241m9\u001b[39m, \u001b[38;5;241m11\u001b[39m))\n\u001b[1;32m----> 3\u001b[0m     \u001b[43msns\u001b[49m\u001b[38;5;241;43m.\u001b[39;49m\u001b[43mheatmap\u001b[49m\u001b[43m(\u001b[49m\u001b[43mpivot_table\u001b[49m\u001b[43m,\u001b[49m\u001b[43m \u001b[49m\u001b[43mcmap\u001b[49m\u001b[38;5;241;43m=\u001b[39;49m\u001b[38;5;124;43m\"\u001b[39;49m\u001b[38;5;124;43mYlGnBu\u001b[39;49m\u001b[38;5;124;43m\"\u001b[39;49m\u001b[43m,\u001b[49m\u001b[43m \u001b[49m\u001b[43mannot\u001b[49m\u001b[38;5;241;43m=\u001b[39;49m\u001b[38;5;28;43;01mTrue\u001b[39;49;00m\u001b[43m,\u001b[49m\u001b[43m \u001b[49m\n\u001b[0;32m      4\u001b[0m \u001b[43m                \u001b[49m\u001b[43mfmt\u001b[49m\u001b[38;5;241;43m=\u001b[39;49m\u001b[38;5;124;43m'\u001b[39;49m\u001b[38;5;124;43m.3g\u001b[39;49m\u001b[38;5;124;43m'\u001b[39;49m\u001b[43m,\u001b[49m\u001b[43m \u001b[49m\u001b[43mannot_kws\u001b[49m\u001b[38;5;241;43m=\u001b[39;49m\u001b[43m{\u001b[49m\u001b[38;5;124;43m\"\u001b[39;49m\u001b[38;5;124;43msize\u001b[39;49m\u001b[38;5;124;43m\"\u001b[39;49m\u001b[43m:\u001b[49m\u001b[43m \u001b[49m\u001b[38;5;241;43m14\u001b[39;49m\u001b[43m,\u001b[49m\u001b[43m \u001b[49m\u001b[38;5;124;43m\"\u001b[39;49m\u001b[38;5;124;43mfontsize\u001b[39;49m\u001b[38;5;124;43m\"\u001b[39;49m\u001b[43m:\u001b[49m\u001b[43m \u001b[49m\u001b[38;5;241;43m14\u001b[39;49m\u001b[43m}\u001b[49m\u001b[43m)\u001b[49m\n\u001b[0;32m      5\u001b[0m     plt\u001b[38;5;241m.\u001b[39mxticks(fontsize\u001b[38;5;241m=\u001b[39m\u001b[38;5;241m15\u001b[39m)\n\u001b[0;32m      6\u001b[0m     plt\u001b[38;5;241m.\u001b[39myticks(rotation\u001b[38;5;241m=\u001b[39m\u001b[38;5;241m0\u001b[39m, fontsize\u001b[38;5;241m=\u001b[39m\u001b[38;5;241m15\u001b[39m)\n",
      "File \u001b[1;32m~\\anaconda3\\lib\\site-packages\\seaborn\\_decorators.py:46\u001b[0m, in \u001b[0;36m_deprecate_positional_args.<locals>.inner_f\u001b[1;34m(*args, **kwargs)\u001b[0m\n\u001b[0;32m     36\u001b[0m     warnings\u001b[38;5;241m.\u001b[39mwarn(\n\u001b[0;32m     37\u001b[0m         \u001b[38;5;124m\"\u001b[39m\u001b[38;5;124mPass the following variable\u001b[39m\u001b[38;5;132;01m{}\u001b[39;00m\u001b[38;5;124m as \u001b[39m\u001b[38;5;132;01m{}\u001b[39;00m\u001b[38;5;124mkeyword arg\u001b[39m\u001b[38;5;132;01m{}\u001b[39;00m\u001b[38;5;124m: \u001b[39m\u001b[38;5;132;01m{}\u001b[39;00m\u001b[38;5;124m. \u001b[39m\u001b[38;5;124m\"\u001b[39m\n\u001b[0;32m     38\u001b[0m         \u001b[38;5;124m\"\u001b[39m\u001b[38;5;124mFrom version 0.12, the only valid positional argument \u001b[39m\u001b[38;5;124m\"\u001b[39m\n\u001b[1;32m   (...)\u001b[0m\n\u001b[0;32m     43\u001b[0m         \u001b[38;5;167;01mFutureWarning\u001b[39;00m\n\u001b[0;32m     44\u001b[0m     )\n\u001b[0;32m     45\u001b[0m kwargs\u001b[38;5;241m.\u001b[39mupdate({k: arg \u001b[38;5;28;01mfor\u001b[39;00m k, arg \u001b[38;5;129;01min\u001b[39;00m \u001b[38;5;28mzip\u001b[39m(sig\u001b[38;5;241m.\u001b[39mparameters, args)})\n\u001b[1;32m---> 46\u001b[0m \u001b[38;5;28;01mreturn\u001b[39;00m f(\u001b[38;5;241m*\u001b[39m\u001b[38;5;241m*\u001b[39mkwargs)\n",
      "File \u001b[1;32m~\\anaconda3\\lib\\site-packages\\seaborn\\matrix.py:553\u001b[0m, in \u001b[0;36mheatmap\u001b[1;34m(data, vmin, vmax, cmap, center, robust, annot, fmt, annot_kws, linewidths, linecolor, cbar, cbar_kws, cbar_ax, square, xticklabels, yticklabels, mask, ax, **kwargs)\u001b[0m\n\u001b[0;32m    551\u001b[0m \u001b[38;5;28;01mif\u001b[39;00m square:\n\u001b[0;32m    552\u001b[0m     ax\u001b[38;5;241m.\u001b[39mset_aspect(\u001b[38;5;124m\"\u001b[39m\u001b[38;5;124mequal\u001b[39m\u001b[38;5;124m\"\u001b[39m)\n\u001b[1;32m--> 553\u001b[0m \u001b[43mplotter\u001b[49m\u001b[38;5;241;43m.\u001b[39;49m\u001b[43mplot\u001b[49m\u001b[43m(\u001b[49m\u001b[43max\u001b[49m\u001b[43m,\u001b[49m\u001b[43m \u001b[49m\u001b[43mcbar_ax\u001b[49m\u001b[43m,\u001b[49m\u001b[43m \u001b[49m\u001b[43mkwargs\u001b[49m\u001b[43m)\u001b[49m\n\u001b[0;32m    554\u001b[0m \u001b[38;5;28;01mreturn\u001b[39;00m ax\n",
      "File \u001b[1;32m~\\anaconda3\\lib\\site-packages\\seaborn\\matrix.py:348\u001b[0m, in \u001b[0;36m_HeatMapper.plot\u001b[1;34m(self, ax, cax, kws)\u001b[0m\n\u001b[0;32m    346\u001b[0m \u001b[38;5;66;03m# Annotate the cells with the formatted values\u001b[39;00m\n\u001b[0;32m    347\u001b[0m \u001b[38;5;28;01mif\u001b[39;00m \u001b[38;5;28mself\u001b[39m\u001b[38;5;241m.\u001b[39mannot:\n\u001b[1;32m--> 348\u001b[0m     \u001b[38;5;28;43mself\u001b[39;49m\u001b[38;5;241;43m.\u001b[39;49m\u001b[43m_annotate_heatmap\u001b[49m\u001b[43m(\u001b[49m\u001b[43max\u001b[49m\u001b[43m,\u001b[49m\u001b[43m \u001b[49m\u001b[43mmesh\u001b[49m\u001b[43m)\u001b[49m\n",
      "File \u001b[1;32m~\\anaconda3\\lib\\site-packages\\seaborn\\matrix.py:259\u001b[0m, in \u001b[0;36m_HeatMapper._annotate_heatmap\u001b[1;34m(self, ax, mesh)\u001b[0m\n\u001b[0;32m    257\u001b[0m text_kwargs \u001b[38;5;241m=\u001b[39m \u001b[38;5;28mdict\u001b[39m(color\u001b[38;5;241m=\u001b[39mtext_color, ha\u001b[38;5;241m=\u001b[39m\u001b[38;5;124m\"\u001b[39m\u001b[38;5;124mcenter\u001b[39m\u001b[38;5;124m\"\u001b[39m, va\u001b[38;5;241m=\u001b[39m\u001b[38;5;124m\"\u001b[39m\u001b[38;5;124mcenter\u001b[39m\u001b[38;5;124m\"\u001b[39m)\n\u001b[0;32m    258\u001b[0m text_kwargs\u001b[38;5;241m.\u001b[39mupdate(\u001b[38;5;28mself\u001b[39m\u001b[38;5;241m.\u001b[39mannot_kws)\n\u001b[1;32m--> 259\u001b[0m ax\u001b[38;5;241m.\u001b[39mtext(x, y, annotation, \u001b[38;5;241m*\u001b[39m\u001b[38;5;241m*\u001b[39mtext_kwargs)\n",
      "File \u001b[1;32m~\\anaconda3\\lib\\site-packages\\matplotlib\\axes\\_axes.py:659\u001b[0m, in \u001b[0;36mAxes.text\u001b[1;34m(self, x, y, s, fontdict, **kwargs)\u001b[0m\n\u001b[0;32m    598\u001b[0m \u001b[38;5;124;03m\"\"\"\u001b[39;00m\n\u001b[0;32m    599\u001b[0m \u001b[38;5;124;03mAdd text to the Axes.\u001b[39;00m\n\u001b[0;32m    600\u001b[0m \n\u001b[1;32m   (...)\u001b[0m\n\u001b[0;32m    649\u001b[0m \u001b[38;5;124;03m    >>> text(x, y, s, bbox=dict(facecolor='red', alpha=0.5))\u001b[39;00m\n\u001b[0;32m    650\u001b[0m \u001b[38;5;124;03m\"\"\"\u001b[39;00m\n\u001b[0;32m    651\u001b[0m effective_kwargs \u001b[38;5;241m=\u001b[39m {\n\u001b[0;32m    652\u001b[0m     \u001b[38;5;124m'\u001b[39m\u001b[38;5;124mverticalalignment\u001b[39m\u001b[38;5;124m'\u001b[39m: \u001b[38;5;124m'\u001b[39m\u001b[38;5;124mbaseline\u001b[39m\u001b[38;5;124m'\u001b[39m,\n\u001b[0;32m    653\u001b[0m     \u001b[38;5;124m'\u001b[39m\u001b[38;5;124mhorizontalalignment\u001b[39m\u001b[38;5;124m'\u001b[39m: \u001b[38;5;124m'\u001b[39m\u001b[38;5;124mleft\u001b[39m\u001b[38;5;124m'\u001b[39m,\n\u001b[1;32m   (...)\u001b[0m\n\u001b[0;32m    657\u001b[0m     \u001b[38;5;241m*\u001b[39m\u001b[38;5;241m*\u001b[39mkwargs,\n\u001b[0;32m    658\u001b[0m }\n\u001b[1;32m--> 659\u001b[0m t \u001b[38;5;241m=\u001b[39m mtext\u001b[38;5;241m.\u001b[39mText(x, y, text\u001b[38;5;241m=\u001b[39ms, \u001b[38;5;241m*\u001b[39m\u001b[38;5;241m*\u001b[39meffective_kwargs)\n\u001b[0;32m    660\u001b[0m t\u001b[38;5;241m.\u001b[39mset_clip_path(\u001b[38;5;28mself\u001b[39m\u001b[38;5;241m.\u001b[39mpatch)\n\u001b[0;32m    661\u001b[0m \u001b[38;5;28mself\u001b[39m\u001b[38;5;241m.\u001b[39m_add_text(t)\n",
      "File \u001b[1;32m~\\anaconda3\\lib\\site-packages\\matplotlib\\text.py:160\u001b[0m, in \u001b[0;36mText.__init__\u001b[1;34m(self, x, y, text, color, verticalalignment, horizontalalignment, multialignment, fontproperties, rotation, linespacing, rotation_mode, usetex, wrap, transform_rotates_text, parse_math, **kwargs)\u001b[0m\n\u001b[0;32m    158\u001b[0m \u001b[38;5;28mself\u001b[39m\u001b[38;5;241m.\u001b[39m_linespacing \u001b[38;5;241m=\u001b[39m linespacing\n\u001b[0;32m    159\u001b[0m \u001b[38;5;28mself\u001b[39m\u001b[38;5;241m.\u001b[39mset_rotation_mode(rotation_mode)\n\u001b[1;32m--> 160\u001b[0m \u001b[38;5;28;43mself\u001b[39;49m\u001b[38;5;241;43m.\u001b[39;49m\u001b[43mupdate\u001b[49m\u001b[43m(\u001b[49m\u001b[43mkwargs\u001b[49m\u001b[43m)\u001b[49m\n",
      "File \u001b[1;32m~\\anaconda3\\lib\\site-packages\\matplotlib\\text.py:164\u001b[0m, in \u001b[0;36mText.update\u001b[1;34m(self, kwargs)\u001b[0m\n\u001b[0;32m    162\u001b[0m \u001b[38;5;28;01mdef\u001b[39;00m \u001b[38;5;21mupdate\u001b[39m(\u001b[38;5;28mself\u001b[39m, kwargs):\n\u001b[0;32m    163\u001b[0m     \u001b[38;5;66;03m# docstring inherited\u001b[39;00m\n\u001b[1;32m--> 164\u001b[0m     kwargs \u001b[38;5;241m=\u001b[39m \u001b[43mcbook\u001b[49m\u001b[38;5;241;43m.\u001b[39;49m\u001b[43mnormalize_kwargs\u001b[49m\u001b[43m(\u001b[49m\u001b[43mkwargs\u001b[49m\u001b[43m,\u001b[49m\u001b[43m \u001b[49m\u001b[43mText\u001b[49m\u001b[43m)\u001b[49m\n\u001b[0;32m    165\u001b[0m     sentinel \u001b[38;5;241m=\u001b[39m \u001b[38;5;28mobject\u001b[39m()  \u001b[38;5;66;03m# bbox can be None, so use another sentinel.\u001b[39;00m\n\u001b[0;32m    166\u001b[0m     \u001b[38;5;66;03m# Update fontproperties first, as it has lowest priority.\u001b[39;00m\n",
      "File \u001b[1;32m~\\anaconda3\\lib\\site-packages\\matplotlib\\cbook\\__init__.py:1739\u001b[0m, in \u001b[0;36mnormalize_kwargs\u001b[1;34m(kw, alias_mapping)\u001b[0m\n\u001b[0;32m   1737\u001b[0m canonical \u001b[38;5;241m=\u001b[39m to_canonical\u001b[38;5;241m.\u001b[39mget(k, k)\n\u001b[0;32m   1738\u001b[0m \u001b[38;5;28;01mif\u001b[39;00m canonical \u001b[38;5;129;01min\u001b[39;00m canonical_to_seen:\n\u001b[1;32m-> 1739\u001b[0m     \u001b[38;5;28;01mraise\u001b[39;00m \u001b[38;5;167;01mTypeError\u001b[39;00m(\u001b[38;5;124mf\u001b[39m\u001b[38;5;124m\"\u001b[39m\u001b[38;5;124mGot both \u001b[39m\u001b[38;5;132;01m{\u001b[39;00mcanonical_to_seen[canonical]\u001b[38;5;132;01m!r}\u001b[39;00m\u001b[38;5;124m and \u001b[39m\u001b[38;5;124m\"\u001b[39m\n\u001b[0;32m   1740\u001b[0m                     \u001b[38;5;124mf\u001b[39m\u001b[38;5;124m\"\u001b[39m\u001b[38;5;132;01m{\u001b[39;00mk\u001b[38;5;132;01m!r}\u001b[39;00m\u001b[38;5;124m, which are aliases of one another\u001b[39m\u001b[38;5;124m\"\u001b[39m)\n\u001b[0;32m   1741\u001b[0m canonical_to_seen[canonical] \u001b[38;5;241m=\u001b[39m k\n\u001b[0;32m   1742\u001b[0m ret[canonical] \u001b[38;5;241m=\u001b[39m v\n",
      "\u001b[1;31mTypeError\u001b[0m: Got both 'size' and 'fontsize', which are aliases of one another"
     ]
    },
    {
     "data": {
      "image/png": "[encoded data removed]",
      "text/plain": [
       "<Figure size 648x792 with 2 Axes>"
      ]
     },
     "metadata": {
      "needs_background": "light"
     },
     "output_type": "display_data"
    }
   ],
   "source": [
    "# Type your code here\n",
    "%matplotlib inline\n",
    "df = transactions.merge(tr_mcc_codes).merge(tr_types).merge(gender_train, how='left')\n",
    "df_copy=df.copy()\n",
    "df_copy['amount_bucket'] = pd.qcut(df_copy[df_copy.amount<0].amount,5,labels=['Very High','High','Middle','Low','Very Low'])\n",
    "df_copy['amount_bucket'] = df_copy['amount_bucket'].cat.add_categories('Income').fillna('Income')\n",
    "df_copy['tr_hour']=[int(s[1][:2]) for s in df['tr_datetime'].str.split(' ')]\n",
    "dt_co = df_copy.pivot_table(index='tr_hour',columns='amount_bucket',values='gender')\n",
    "print(dt_co)\n",
    "print(plot_pivot_table(dt_co))\n",
    "df_copy"
   ]
  },
  {
   "cell_type": "code",
   "execution_count": 62,
   "id": "32321b0a",
   "metadata": {},
   "outputs": [
    {
     "data": {
      "text/plain": [
       "'\"\\n- 1) Ночные поступления денег (01-05 часов) в более чем 85% случаев являются мужскими. ### ДА\\n- 2) Посмотрев на долю мужчин в поступлениях средств (Income), можно сделать вывод, что количество поступлений средств женщинам в целом больше, чем мужчинам. ### НЕТ\\n- 3) Самые низкие траты в 3 часа ночи осуществляются в более 70% случаев женщинами. ### ДА\\n- 4) Существуют особые часы в мелких тратах, когда женщины тратят намного больше мужчин (>80%) ### НЕТ\\n- 5) Посмотрев на долю мужчин в максимальных тратах средств (Very High), можно сделать вывод, что количество высоких трат в каждый возможный час мужчин больше, чем у женщин. ### ДА\\n'"
      ]
     },
     "execution_count": 62,
     "metadata": {},
     "output_type": "execute_result"
    }
   ],
   "source": [
    "\"\"\"\"\n",
    "- 1) Ночные поступления денег (01-05 часов) в более чем 85% случаев являются мужскими. ### ДА\n",
    "- 2) Посмотрев на долю мужчин в поступлениях средств (Income), можно сделать вывод, что количество поступлений средств женщинам в целом больше, чем мужчинам. ### НЕТ\n",
    "- 3) Самые низкие траты в 3 часа ночи осуществляются в более 70% случаев женщинами. ### ДА\n",
    "- 4) Существуют особые часы в мелких тратах, когда женщины тратят намного больше мужчин (>80%) ### НЕТ\n",
    "- 5) Посмотрев на долю мужчин в максимальных тратах средств (Very High), можно сделать вывод, что количество высоких трат в каждый возможный час мужчин больше, чем у женщин. ### ДА\n",
    "\"\"\""
   ]
  },
  {
   "cell_type": "markdown",
   "id": "9e010ad8",
   "metadata": {},
   "source": [
    "Задание 14. Измените тип поля tr_day на int.\n",
    "Выберите из transactions все MCC коды, которые встретились в выборке более чем 60000 раз.\n",
    "Сгруппируйте отфильтрованный датафрейм по дню и MCC-коду, получая средние значения суммы amount.\n",
    "Далее отрисуйте зависимость средних сумм (может пригодится метод unstack()) по каждому из MCC-кодов по дням.\n",
    "Выберите верные ответы на вопросы ниже.\n",
    "-\t1) 2 из полученных MCC-кодов связаны с финансовыми институтами \n",
    "-\t2) 2 MCC кода, связанные со снятием наличности имеют в целом разные знаки (в одном случае почти везде - траты, в другом - пополнения) \n",
    "-\t3) Бакалейные магазины обладают максимальными средними тратами среди выбранных MCC-кодов \n",
    "-\t4) Денежные переводы имеют как минимум 3 явных минимума средних \n",
    "-\t5) Категория \"Звонки с использованием телефонов, считывающих магнитную ленту\" имеет визуально очень большую дисперсию. \n"
   ]
  },
  {
   "cell_type": "code",
   "execution_count": 66,
   "id": "304295c7",
   "metadata": {},
   "outputs": [
    {
     "data": {
      "text/html": [
       "<div>\n",
       "<style scoped>\n",
       "    .dataframe tbody tr th:only-of-type {\n",
       "        vertical-align: middle;\n",
       "    }\n",
       "\n",
       "    .dataframe tbody tr th {\n",
       "        vertical-align: top;\n",
       "    }\n",
       "\n",
       "    .dataframe thead th {\n",
       "        text-align: right;\n",
       "    }\n",
       "</style>\n",
       "<table border=\"1\" class=\"dataframe\">\n",
       "  <thead>\n",
       "    <tr style=\"text-align: right;\">\n",
       "      <th>mcc_code</th>\n",
       "      <th>5411</th>\n",
       "      <th>6010</th>\n",
       "      <th>6011</th>\n",
       "    </tr>\n",
       "    <tr>\n",
       "      <th>tr_day</th>\n",
       "      <th></th>\n",
       "      <th></th>\n",
       "      <th></th>\n",
       "    </tr>\n",
       "  </thead>\n",
       "  <tbody>\n",
       "    <tr>\n",
       "      <th>0</th>\n",
       "      <td>-17603.742741</td>\n",
       "      <td>47578.376861</td>\n",
       "      <td>-33496.294435</td>\n",
       "    </tr>\n",
       "    <tr>\n",
       "      <th>1</th>\n",
       "      <td>-19335.690242</td>\n",
       "      <td>53048.731504</td>\n",
       "      <td>-73367.590321</td>\n",
       "    </tr>\n",
       "    <tr>\n",
       "      <th>2</th>\n",
       "      <td>-14547.660991</td>\n",
       "      <td>108158.754124</td>\n",
       "      <td>-83939.153091</td>\n",
       "    </tr>\n",
       "    <tr>\n",
       "      <th>3</th>\n",
       "      <td>-11893.010313</td>\n",
       "      <td>96753.910629</td>\n",
       "      <td>-53769.490892</td>\n",
       "    </tr>\n",
       "    <tr>\n",
       "      <th>4</th>\n",
       "      <td>-12324.793047</td>\n",
       "      <td>131965.140913</td>\n",
       "      <td>-56723.951284</td>\n",
       "    </tr>\n",
       "    <tr>\n",
       "      <th>...</th>\n",
       "      <td>...</td>\n",
       "      <td>...</td>\n",
       "      <td>...</td>\n",
       "    </tr>\n",
       "    <tr>\n",
       "      <th>452</th>\n",
       "      <td>-11066.048793</td>\n",
       "      <td>140144.355533</td>\n",
       "      <td>-78591.385308</td>\n",
       "    </tr>\n",
       "    <tr>\n",
       "      <th>453</th>\n",
       "      <td>-14097.813000</td>\n",
       "      <td>191992.469294</td>\n",
       "      <td>-85425.695592</td>\n",
       "    </tr>\n",
       "    <tr>\n",
       "      <th>454</th>\n",
       "      <td>-15596.162974</td>\n",
       "      <td>125980.406716</td>\n",
       "      <td>-19620.684392</td>\n",
       "    </tr>\n",
       "    <tr>\n",
       "      <th>455</th>\n",
       "      <td>-16139.005475</td>\n",
       "      <td>108838.122500</td>\n",
       "      <td>-54983.986653</td>\n",
       "    </tr>\n",
       "    <tr>\n",
       "      <th>456</th>\n",
       "      <td>-15328.971090</td>\n",
       "      <td>74399.095981</td>\n",
       "      <td>71718.793651</td>\n",
       "    </tr>\n",
       "  </tbody>\n",
       "</table>\n",
       "<p>457 rows × 3 columns</p>\n",
       "</div>"
      ],
      "text/plain": [
       "mcc_code          5411           6010          6011\n",
       "tr_day                                             \n",
       "0        -17603.742741   47578.376861 -33496.294435\n",
       "1        -19335.690242   53048.731504 -73367.590321\n",
       "2        -14547.660991  108158.754124 -83939.153091\n",
       "3        -11893.010313   96753.910629 -53769.490892\n",
       "4        -12324.793047  131965.140913 -56723.951284\n",
       "...                ...            ...           ...\n",
       "452      -11066.048793  140144.355533 -78591.385308\n",
       "453      -14097.813000  191992.469294 -85425.695592\n",
       "454      -15596.162974  125980.406716 -19620.684392\n",
       "455      -16139.005475  108838.122500 -54983.986653\n",
       "456      -15328.971090   74399.095981  71718.793651\n",
       "\n",
       "[457 rows x 3 columns]"
      ]
     },
     "execution_count": 66,
     "metadata": {},
     "output_type": "execute_result"
    }
   ],
   "source": [
    "# Type your code here\n",
    "df_copy2=df.copy()\n",
    "df_copy2['tr_day'] = df_copy2.tr_datetime.str.split(expand=True)[0].apply(int)\n",
    "resul = df_copy2.groupby(\"mcc_code\").filter(lambda x: len(x) > 60000)\n",
    "resul1 = resul.groupby(['tr_day','mcc_code']).amount.mean().unstack()\n",
    "resul1"
   ]
  },
  {
   "cell_type": "code",
   "execution_count": 68,
   "id": "bee96772",
   "metadata": {},
   "outputs": [
    {
     "data": {
      "text/html": [
       "<div>\n",
       "<style scoped>\n",
       "    .dataframe tbody tr th:only-of-type {\n",
       "        vertical-align: middle;\n",
       "    }\n",
       "\n",
       "    .dataframe tbody tr th {\n",
       "        vertical-align: top;\n",
       "    }\n",
       "\n",
       "    .dataframe thead th {\n",
       "        text-align: right;\n",
       "    }\n",
       "</style>\n",
       "<table border=\"1\" class=\"dataframe\">\n",
       "  <thead>\n",
       "    <tr style=\"text-align: right;\">\n",
       "      <th>mcc_code</th>\n",
       "      <th>5411</th>\n",
       "      <th>6010</th>\n",
       "      <th>6011</th>\n",
       "    </tr>\n",
       "    <tr>\n",
       "      <th>tr_day</th>\n",
       "      <th></th>\n",
       "      <th></th>\n",
       "      <th></th>\n",
       "    </tr>\n",
       "  </thead>\n",
       "  <tbody>\n",
       "    <tr>\n",
       "      <th>0</th>\n",
       "      <td>-17603.742741</td>\n",
       "      <td>47578.376861</td>\n",
       "      <td>-33496.294435</td>\n",
       "    </tr>\n",
       "    <tr>\n",
       "      <th>1</th>\n",
       "      <td>-19335.690242</td>\n",
       "      <td>53048.731504</td>\n",
       "      <td>-73367.590321</td>\n",
       "    </tr>\n",
       "    <tr>\n",
       "      <th>2</th>\n",
       "      <td>-14547.660991</td>\n",
       "      <td>108158.754124</td>\n",
       "      <td>-83939.153091</td>\n",
       "    </tr>\n",
       "    <tr>\n",
       "      <th>3</th>\n",
       "      <td>-11893.010313</td>\n",
       "      <td>96753.910629</td>\n",
       "      <td>-53769.490892</td>\n",
       "    </tr>\n",
       "    <tr>\n",
       "      <th>4</th>\n",
       "      <td>-12324.793047</td>\n",
       "      <td>131965.140913</td>\n",
       "      <td>-56723.951284</td>\n",
       "    </tr>\n",
       "    <tr>\n",
       "      <th>...</th>\n",
       "      <td>...</td>\n",
       "      <td>...</td>\n",
       "      <td>...</td>\n",
       "    </tr>\n",
       "    <tr>\n",
       "      <th>452</th>\n",
       "      <td>-11066.048793</td>\n",
       "      <td>140144.355533</td>\n",
       "      <td>-78591.385308</td>\n",
       "    </tr>\n",
       "    <tr>\n",
       "      <th>453</th>\n",
       "      <td>-14097.813000</td>\n",
       "      <td>191992.469294</td>\n",
       "      <td>-85425.695592</td>\n",
       "    </tr>\n",
       "    <tr>\n",
       "      <th>454</th>\n",
       "      <td>-15596.162974</td>\n",
       "      <td>125980.406716</td>\n",
       "      <td>-19620.684392</td>\n",
       "    </tr>\n",
       "    <tr>\n",
       "      <th>455</th>\n",
       "      <td>-16139.005475</td>\n",
       "      <td>108838.122500</td>\n",
       "      <td>-54983.986653</td>\n",
       "    </tr>\n",
       "    <tr>\n",
       "      <th>456</th>\n",
       "      <td>-15328.971090</td>\n",
       "      <td>74399.095981</td>\n",
       "      <td>71718.793651</td>\n",
       "    </tr>\n",
       "  </tbody>\n",
       "</table>\n",
       "<p>457 rows × 3 columns</p>\n",
       "</div>"
      ],
      "text/plain": [
       "mcc_code          5411           6010          6011\n",
       "tr_day                                             \n",
       "0        -17603.742741   47578.376861 -33496.294435\n",
       "1        -19335.690242   53048.731504 -73367.590321\n",
       "2        -14547.660991  108158.754124 -83939.153091\n",
       "3        -11893.010313   96753.910629 -53769.490892\n",
       "4        -12324.793047  131965.140913 -56723.951284\n",
       "...                ...            ...           ...\n",
       "452      -11066.048793  140144.355533 -78591.385308\n",
       "453      -14097.813000  191992.469294 -85425.695592\n",
       "454      -15596.162974  125980.406716 -19620.684392\n",
       "455      -16139.005475  108838.122500 -54983.986653\n",
       "456      -15328.971090   74399.095981  71718.793651\n",
       "\n",
       "[457 rows x 3 columns]"
      ]
     },
     "execution_count": 68,
     "metadata": {},
     "output_type": "execute_result"
    }
   ],
   "source": [
    "df_copy2=df.copy()\n",
    "df_copy2['tr_day'] = df_copy2.tr_datetime.str.split(expand=True)[0].apply(int)\n",
    "resul = df_copy2.groupby(\"mcc_code\").filter(lambda x: len(x) > 60000)\n",
    "resul1 = resul.groupby(['tr_day','mcc_code']).amount.mean().unstack()\n",
    "resul1"
   ]
  },
  {
   "cell_type": "code",
   "execution_count": 69,
   "id": "f63a77e1",
   "metadata": {},
   "outputs": [
    {
     "data": {
      "text/plain": [
       "<AxesSubplot:xlabel='tr_day'>"
      ]
     },
     "execution_count": 69,
     "metadata": {},
     "output_type": "execute_result"
    },
    {
     "data": {
      "image/png": "[encoded data removed]",
      "text/plain": [
       "<Figure size 1440x720 with 1 Axes>"
      ]
     },
     "metadata": {
      "needs_background": "light"
     },
     "output_type": "display_data"
    }
   ],
   "source": [
    "resul1.plot(figsize=(20, 10))"
   ]
  },
  {
   "cell_type": "code",
   "execution_count": 70,
   "id": "dc6377be",
   "metadata": {},
   "outputs": [
    {
     "data": {
      "text/plain": [
       "'\"Вопросы:\\n- 1) 2 из полученных MCC-кодов связаны с финансовыми институтами ### ДА\\n- 2) 2 MCC кода, связанные со снятием наличности имеют в целом разные знаки (в одном случае почти везде - траты, в другом - пополнения) ### ДА\\n- 3) Бакалейные магазины обладают максимальными средними тратами среди выбранных MCC-кодов ### НЕТ\\n- 4) Денежные переводы имеют как минимум 3 явных минимума средних ### ДА\\n- 5) Категория \"Звонки с использованием телефонов, считывающих магнитную ленту\" имеет визуально очень большую дисперсию. ### НЕТ '"
      ]
     },
     "execution_count": 70,
     "metadata": {},
     "output_type": "execute_result"
    }
   ],
   "source": [
    "\"\"\"\"Вопросы:\n",
    "- 1) 2 из полученных MCC-кодов связаны с финансовыми институтами ### ДА\n",
    "- 2) 2 MCC кода, связанные со снятием наличности имеют в целом разные знаки (в одном случае почти везде - траты, в другом - пополнения) ### ДА\n",
    "- 3) Бакалейные магазины обладают максимальными средними тратами среди выбранных MCC-кодов ### НЕТ\n",
    "- 4) Денежные переводы имеют как минимум 3 явных минимума средних ### ДА\n",
    "- 5) Категория \"Звонки с использованием телефонов, считывающих магнитную ленту\" имеет визуально очень большую дисперсию. ### НЕТ \"\"\" "
   ]
  }
 ],
 "metadata": {
  "kernelspec": {
   "display_name": "Python 3 (ipykernel)",
   "language": "python",
   "name": "python3"
  },
  "language_info": {
   "codemirror_mode": {
    "name": "ipython",
    "version": 3
   },
   "file_extension": ".py",
   "mimetype": "text/x-python",
   "name": "python",
   "nbconvert_exporter": "python",
   "pygments_lexer": "ipython3",
   "version": "3.9.12"
  }
 },
 "nbformat": 4,
 "nbformat_minor": 5
}
